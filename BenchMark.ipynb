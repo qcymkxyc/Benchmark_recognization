{
 "cells": [
  {
   "cell_type": "markdown",
   "metadata": {
    "toc": true
   },
   "source": [
    "<h1>Table of Contents<span class=\"tocSkip\"></span></h1>\n",
    "<div class=\"toc\"><ul class=\"toc-item\"><li><span><a href=\"#Load-Data\" data-toc-modified-id=\"Load-Data-1\"><span class=\"toc-item-num\">1&nbsp;&nbsp;</span>Load Data</a></span><ul class=\"toc-item\"><li><span><a href=\"#载入数据\" data-toc-modified-id=\"载入数据-1.1\"><span class=\"toc-item-num\">1.1&nbsp;&nbsp;</span>载入数据</a></span></li><li><span><a href=\"#数据基本信息\" data-toc-modified-id=\"数据基本信息-1.2\"><span class=\"toc-item-num\">1.2&nbsp;&nbsp;</span>数据基本信息</a></span></li><li><span><a href=\"#特征琴形图\" data-toc-modified-id=\"特征琴形图-1.3\"><span class=\"toc-item-num\">1.3&nbsp;&nbsp;</span>特征琴形图</a></span></li></ul></li><li><span><a href=\"#特征提取\" data-toc-modified-id=\"特征提取-2\"><span class=\"toc-item-num\">2&nbsp;&nbsp;</span>特征提取</a></span><ul class=\"toc-item\"><li><span><a href=\"#计算信息增益率\" data-toc-modified-id=\"计算信息增益率-2.1\"><span class=\"toc-item-num\">2.1&nbsp;&nbsp;</span>计算信息增益率</a></span></li><li><span><a href=\"#信息增益率Bar图\" data-toc-modified-id=\"信息增益率Bar图-2.2\"><span class=\"toc-item-num\">2.2&nbsp;&nbsp;</span>信息增益率Bar图</a></span></li><li><span><a href=\"#根据阈值选择\" data-toc-modified-id=\"根据阈值选择-2.3\"><span class=\"toc-item-num\">2.3&nbsp;&nbsp;</span>根据阈值选择</a></span></li></ul></li><li><span><a href=\"#模型定阶\" data-toc-modified-id=\"模型定阶-3\"><span class=\"toc-item-num\">3&nbsp;&nbsp;</span>模型定阶</a></span><ul class=\"toc-item\"><li><span><a href=\"#零均值\" data-toc-modified-id=\"零均值-3.1\"><span class=\"toc-item-num\">3.1&nbsp;&nbsp;</span>零均值</a></span></li><li><span><a href=\"#自相关系数\" data-toc-modified-id=\"自相关系数-3.2\"><span class=\"toc-item-num\">3.2&nbsp;&nbsp;</span>自相关系数</a></span></li><li><span><a href=\"#季节差分及差分\" data-toc-modified-id=\"季节差分及差分-3.3\"><span class=\"toc-item-num\">3.3&nbsp;&nbsp;</span>季节差分及差分</a></span></li><li><span><a href=\"#游程检验\" data-toc-modified-id=\"游程检验-3.4\"><span class=\"toc-item-num\">3.4&nbsp;&nbsp;</span>游程检验</a></span></li><li><span><a href=\"#自相关和偏相关(ACF截尾，PACF脱尾)\" data-toc-modified-id=\"自相关和偏相关(ACF截尾，PACF脱尾)-3.5\"><span class=\"toc-item-num\">3.5&nbsp;&nbsp;</span>自相关和偏相关(ACF截尾，PACF脱尾)</a></span></li></ul></li><li><span><a href=\"#识别\" data-toc-modified-id=\"识别-4\"><span class=\"toc-item-num\">4&nbsp;&nbsp;</span>识别</a></span><ul class=\"toc-item\"><li><span><a href=\"#数据整理\" data-toc-modified-id=\"数据整理-4.1\"><span class=\"toc-item-num\">4.1&nbsp;&nbsp;</span>数据整理</a></span><ul class=\"toc-item\"><li><span><a href=\"#保存数据\" data-toc-modified-id=\"保存数据-4.1.1\"><span class=\"toc-item-num\">4.1.1&nbsp;&nbsp;</span>保存数据</a></span></li><li><span><a href=\"#载入数据\" data-toc-modified-id=\"载入数据-4.1.2\"><span class=\"toc-item-num\">4.1.2&nbsp;&nbsp;</span>载入数据</a></span></li></ul></li><li><span><a href=\"#DNN\" data-toc-modified-id=\"DNN-4.2\"><span class=\"toc-item-num\">4.2&nbsp;&nbsp;</span>DNN</a></span><ul class=\"toc-item\"><li><span><a href=\"#特征提取\" data-toc-modified-id=\"特征提取-4.2.1\"><span class=\"toc-item-num\">4.2.1&nbsp;&nbsp;</span>特征提取</a></span></li><li><span><a href=\"#超参数\" data-toc-modified-id=\"超参数-4.2.2\"><span class=\"toc-item-num\">4.2.2&nbsp;&nbsp;</span>超参数</a></span></li><li><span><a href=\"#模型构建\" data-toc-modified-id=\"模型构建-4.2.3\"><span class=\"toc-item-num\">4.2.3&nbsp;&nbsp;</span>模型构建</a></span></li><li><span><a href=\"#模型训练\" data-toc-modified-id=\"模型训练-4.2.4\"><span class=\"toc-item-num\">4.2.4&nbsp;&nbsp;</span>模型训练</a></span></li><li><span><a href=\"#解决过拟合\" data-toc-modified-id=\"解决过拟合-4.2.5\"><span class=\"toc-item-num\">4.2.5&nbsp;&nbsp;</span>解决过拟合</a></span></li><li><span><a href=\"#保存模型\" data-toc-modified-id=\"保存模型-4.2.6\"><span class=\"toc-item-num\">4.2.6&nbsp;&nbsp;</span>保存模型</a></span></li></ul></li><li><span><a href=\"#LSTM\" data-toc-modified-id=\"LSTM-4.3\"><span class=\"toc-item-num\">4.3&nbsp;&nbsp;</span>LSTM</a></span><ul class=\"toc-item\"><li><span><a href=\"#分离训练集和测试集\" data-toc-modified-id=\"分离训练集和测试集-4.3.1\"><span class=\"toc-item-num\">4.3.1&nbsp;&nbsp;</span>分离训练集和测试集</a></span></li><li><span><a href=\"#超参数\" data-toc-modified-id=\"超参数-4.3.2\"><span class=\"toc-item-num\">4.3.2&nbsp;&nbsp;</span>超参数</a></span></li><li><span><a href=\"#模型结构\" data-toc-modified-id=\"模型结构-4.3.3\"><span class=\"toc-item-num\">4.3.3&nbsp;&nbsp;</span>模型结构</a></span></li><li><span><a href=\"#训练模型\" data-toc-modified-id=\"训练模型-4.3.4\"><span class=\"toc-item-num\">4.3.4&nbsp;&nbsp;</span>训练模型</a></span></li><li><span><a href=\"#解决过拟合\" data-toc-modified-id=\"解决过拟合-4.3.5\"><span class=\"toc-item-num\">4.3.5&nbsp;&nbsp;</span>解决过拟合</a></span></li><li><span><a href=\"#保存模型\" data-toc-modified-id=\"保存模型-4.3.6\"><span class=\"toc-item-num\">4.3.6&nbsp;&nbsp;</span>保存模型</a></span></li></ul></li><li><span><a href=\"#BLSTM\" data-toc-modified-id=\"BLSTM-4.4\"><span class=\"toc-item-num\">4.4&nbsp;&nbsp;</span>BLSTM</a></span><ul class=\"toc-item\"><li><span><a href=\"#分离训练集和测试集\" data-toc-modified-id=\"分离训练集和测试集-4.4.1\"><span class=\"toc-item-num\">4.4.1&nbsp;&nbsp;</span>分离训练集和测试集</a></span></li><li><span><a href=\"#定义模型构建函数\" data-toc-modified-id=\"定义模型构建函数-4.4.2\"><span class=\"toc-item-num\">4.4.2&nbsp;&nbsp;</span>定义模型构建函数</a></span></li><li><span><a href=\"#超参数\" data-toc-modified-id=\"超参数-4.4.3\"><span class=\"toc-item-num\">4.4.3&nbsp;&nbsp;</span>超参数</a></span></li><li><span><a href=\"#模型构建\" data-toc-modified-id=\"模型构建-4.4.4\"><span class=\"toc-item-num\">4.4.4&nbsp;&nbsp;</span>模型构建</a></span></li><li><span><a href=\"#训练模型\" data-toc-modified-id=\"训练模型-4.4.5\"><span class=\"toc-item-num\">4.4.5&nbsp;&nbsp;</span>训练模型</a></span></li><li><span><a href=\"#解决过拟合问题\" data-toc-modified-id=\"解决过拟合问题-4.4.6\"><span class=\"toc-item-num\">4.4.6&nbsp;&nbsp;</span>解决过拟合问题</a></span></li><li><span><a href=\"#保存模型\" data-toc-modified-id=\"保存模型-4.4.7\"><span class=\"toc-item-num\">4.4.7&nbsp;&nbsp;</span>保存模型</a></span></li></ul></li></ul></li><li><span><a href=\"#评价\" data-toc-modified-id=\"评价-5\"><span class=\"toc-item-num\">5&nbsp;&nbsp;</span>评价</a></span><ul class=\"toc-item\"><li><span><a href=\"#载入模型及计算结果\" data-toc-modified-id=\"载入模型及计算结果-5.1\"><span class=\"toc-item-num\">5.1&nbsp;&nbsp;</span>载入模型及计算结果</a></span><ul class=\"toc-item\"><li><span><a href=\"#载入数据\" data-toc-modified-id=\"载入数据-5.1.1\"><span class=\"toc-item-num\">5.1.1&nbsp;&nbsp;</span>载入数据</a></span></li><li><span><a href=\"#DNN\" data-toc-modified-id=\"DNN-5.1.2\"><span class=\"toc-item-num\">5.1.2&nbsp;&nbsp;</span>DNN</a></span></li><li><span><a href=\"#LSTM\" data-toc-modified-id=\"LSTM-5.1.3\"><span class=\"toc-item-num\">5.1.3&nbsp;&nbsp;</span>LSTM</a></span></li><li><span><a href=\"#BLSTM\" data-toc-modified-id=\"BLSTM-5.1.4\"><span class=\"toc-item-num\">5.1.4&nbsp;&nbsp;</span>BLSTM</a></span></li></ul></li><li><span><a href=\"#混淆矩阵（测试集）\" data-toc-modified-id=\"混淆矩阵（测试集）-5.2\"><span class=\"toc-item-num\">5.2&nbsp;&nbsp;</span>混淆矩阵（测试集）</a></span><ul class=\"toc-item\"><li><span><a href=\"#DNN\" data-toc-modified-id=\"DNN-5.2.1\"><span class=\"toc-item-num\">5.2.1&nbsp;&nbsp;</span>DNN</a></span></li><li><span><a href=\"#LSTM\" data-toc-modified-id=\"LSTM-5.2.2\"><span class=\"toc-item-num\">5.2.2&nbsp;&nbsp;</span>LSTM</a></span></li><li><span><a href=\"#BLSTM\" data-toc-modified-id=\"BLSTM-5.2.3\"><span class=\"toc-item-num\">5.2.3&nbsp;&nbsp;</span>BLSTM</a></span></li></ul></li><li><span><a href=\"#Accuracy\" data-toc-modified-id=\"Accuracy-5.3\"><span class=\"toc-item-num\">5.3&nbsp;&nbsp;</span>Accuracy</a></span><ul class=\"toc-item\"><li><span><a href=\"#DNN\" data-toc-modified-id=\"DNN-5.3.1\"><span class=\"toc-item-num\">5.3.1&nbsp;&nbsp;</span>DNN</a></span></li><li><span><a href=\"#LSTM\" data-toc-modified-id=\"LSTM-5.3.2\"><span class=\"toc-item-num\">5.3.2&nbsp;&nbsp;</span>LSTM</a></span></li><li><span><a href=\"#BLSTM\" data-toc-modified-id=\"BLSTM-5.3.3\"><span class=\"toc-item-num\">5.3.3&nbsp;&nbsp;</span>BLSTM</a></span></li><li><span><a href=\"#画图\" data-toc-modified-id=\"画图-5.3.4\"><span class=\"toc-item-num\">5.3.4&nbsp;&nbsp;</span>画图</a></span></li></ul></li><li><span><a href=\"#ROC\" data-toc-modified-id=\"ROC-5.4\"><span class=\"toc-item-num\">5.4&nbsp;&nbsp;</span>ROC</a></span><ul class=\"toc-item\"><li><span><a href=\"#DNN\" data-toc-modified-id=\"DNN-5.4.1\"><span class=\"toc-item-num\">5.4.1&nbsp;&nbsp;</span>DNN</a></span></li><li><span><a href=\"#LSTM\" data-toc-modified-id=\"LSTM-5.4.2\"><span class=\"toc-item-num\">5.4.2&nbsp;&nbsp;</span>LSTM</a></span></li><li><span><a href=\"#BLSTM\" data-toc-modified-id=\"BLSTM-5.4.3\"><span class=\"toc-item-num\">5.4.3&nbsp;&nbsp;</span>BLSTM</a></span></li><li><span><a href=\"#画图\" data-toc-modified-id=\"画图-5.4.4\"><span class=\"toc-item-num\">5.4.4&nbsp;&nbsp;</span>画图</a></span></li></ul></li><li><span><a href=\"#AUC\" data-toc-modified-id=\"AUC-5.5\"><span class=\"toc-item-num\">5.5&nbsp;&nbsp;</span>AUC</a></span></li></ul></li></ul></div>"
   ]
  },
  {
   "cell_type": "code",
   "execution_count": 1,
   "metadata": {
    "ExecuteTime": {
     "end_time": "2018-08-06T02:36:15.450992Z",
     "start_time": "2018-08-06T02:36:08.343456Z"
    },
    "init_cell": true
   },
   "outputs": [
    {
     "name": "stderr",
     "output_type": "stream",
     "text": [
      "/usr/local/lib64/python3.6/site-packages/h5py/__init__.py:36: FutureWarning: Conversion of the second argument of issubdtype from `float` to `np.floating` is deprecated. In future, it will be treated as `np.float64 == np.dtype(float).type`.\n",
      "  from ._conv import register_converters as _register_converters\n",
      "Using TensorFlow backend.\n"
     ]
    }
   ],
   "source": [
    "import pandas as pd\n",
    "import numpy as np\n",
    "import seaborn as sns\n",
    "import matplotlib.pyplot as plt\n",
    "import scipy\n",
    "import keras.backend as K\n",
    "%matplotlib inline"
   ]
  },
  {
   "cell_type": "markdown",
   "metadata": {},
   "source": [
    "$X + Y$"
   ]
  },
  {
   "cell_type": "markdown",
   "metadata": {},
   "source": [
    "# Load Data"
   ]
  },
  {
   "cell_type": "code",
   "execution_count": 2,
   "metadata": {
    "ExecuteTime": {
     "end_time": "2018-08-06T02:36:15.455526Z",
     "start_time": "2018-08-06T02:36:15.453009Z"
    },
    "init_cell": true
   },
   "outputs": [],
   "source": [
    "data_path = \"data/spring_beam/\""
   ]
  },
  {
   "cell_type": "markdown",
   "metadata": {},
   "source": [
    "## 载入数据"
   ]
  },
  {
   "cell_type": "markdown",
   "metadata": {},
   "source": [
    ">0表示非损伤，1表示损伤"
   ]
  },
  {
   "cell_type": "code",
   "execution_count": 3,
   "metadata": {
    "ExecuteTime": {
     "end_time": "2018-08-06T02:36:15.761162Z",
     "start_time": "2018-08-06T02:36:15.457576Z"
    },
    "init_cell": true
   },
   "outputs": [],
   "source": [
    "import os\n",
    "import scipy.io as sio\n",
    "\n",
    "def get_matfile_path(folder_path = data_path):\n",
    "    \"\"\"\n",
    "        获取文件夹下的所有mat文件路径\n",
    "        Args:\n",
    "            folder_path : 文件夹路径\n",
    "        Return :\n",
    "            mat文件路径的list\n",
    "    \"\"\"\n",
    "    files = list()\n",
    "    assert os.path.exists(folder_path),\"路径不存在\"\n",
    "    for filename in os.listdir(folder_path):\n",
    "        if filename.endswith(\"mat\"):\n",
    "            files.append(os.path.join(folder_path,filename))\n",
    "        \n",
    "    return files\n",
    "\n",
    "\n",
    "def load_files(folder_path = data_path):\n",
    "    \"\"\"\n",
    "        读取文件夹下所有数据,并且生成对应的标签\n",
    "         Args:\n",
    "            folder_path : 文件夹路径\n",
    "        Return :\n",
    "            数据，标签\n",
    "    \"\"\"\n",
    "    #获取mat文件路径\n",
    "    files_path = get_matfile_path(folder_path)\n",
    "    \n",
    "    #整合数据\n",
    "    data = None\n",
    "    for file_path in sorted(files_path):\n",
    "        sub_data = sio.loadmat(file_path)[\"y\"]\n",
    "        sub_data = sub_data.T\n",
    "        data = sub_data if data is None else np.concatenate((data,sub_data),axis = 0) \n",
    "        \n",
    "    #生成标签\n",
    "    target = np.zeros(shape = len(data))\n",
    "    target[int(len(target) / 2) : ]  = 1 #前一半为非损伤，后一半为损伤\n",
    "        \n",
    "    return data,target"
   ]
  },
  {
   "cell_type": "code",
   "execution_count": 4,
   "metadata": {
    "ExecuteTime": {
     "end_time": "2018-08-06T02:36:19.482143Z",
     "start_time": "2018-08-06T02:36:15.763754Z"
    },
    "init_cell": true
   },
   "outputs": [],
   "source": [
    "data,target = load_files()"
   ]
  },
  {
   "cell_type": "markdown",
   "metadata": {},
   "source": [
    "## 数据基本信息"
   ]
  },
  {
   "cell_type": "code",
   "execution_count": 65,
   "metadata": {
    "ExecuteTime": {
     "end_time": "2018-07-25T04:15:49.640849Z",
     "start_time": "2018-07-25T04:15:49.636950Z"
    }
   },
   "outputs": [
    {
     "data": {
      "text/plain": [
       "((285900, 47), (285900,))"
      ]
     },
     "execution_count": 65,
     "metadata": {},
     "output_type": "execute_result"
    }
   ],
   "source": [
    "data.shape,target.shape"
   ]
  },
  {
   "cell_type": "code",
   "execution_count": 5,
   "metadata": {
    "ExecuteTime": {
     "end_time": "2018-08-06T02:36:19.519958Z",
     "start_time": "2018-08-06T02:36:19.484088Z"
    },
    "init_cell": true
   },
   "outputs": [],
   "source": [
    "data_df = pd.DataFrame(data)\n",
    "data_df[\"target\"] = target"
   ]
  },
  {
   "cell_type": "markdown",
   "metadata": {},
   "source": [
    "## 特征琴形图"
   ]
  },
  {
   "cell_type": "code",
   "execution_count": 96,
   "metadata": {
    "ExecuteTime": {
     "end_time": "2018-07-25T08:45:13.910322Z",
     "start_time": "2018-07-25T08:45:12.959308Z"
    },
    "scrolled": true
   },
   "outputs": [
    {
     "data": {
      "text/plain": [
       "<matplotlib.axes._subplots.AxesSubplot at 0x7f0ba7932828>"
      ]
     },
     "execution_count": 96,
     "metadata": {},
     "output_type": "execute_result"
    },
    {
     "data": {
      "image/png": "[encoded data removed]",
      "text/plain": [
       "<Figure size 1440x576 with 1 Axes>"
      ]
     },
     "metadata": {},
     "output_type": "display_data"
    }
   ],
   "source": [
    "import seaborn as sns\n",
    "\n",
    "plt.figure(figsize = (20,8))\n",
    "sns.set_style(\"darkgrid\")\n",
    "\n",
    "sample_data = data_df.sample(100)\n",
    "\n",
    "sns.violinplot(data = sample_data,orient = \"v\",scale = \"count\",inner = \"quartiles\")"
   ]
  },
  {
   "cell_type": "markdown",
   "metadata": {},
   "source": [
    "# 特征提取"
   ]
  },
  {
   "cell_type": "markdown",
   "metadata": {},
   "source": [
    "## 计算信息增益率"
   ]
  },
  {
   "cell_type": "code",
   "execution_count": 6,
   "metadata": {
    "ExecuteTime": {
     "end_time": "2018-07-28T08:15:05.854016Z",
     "start_time": "2018-07-28T08:15:05.454082Z"
    }
   },
   "outputs": [],
   "source": [
    "from sklearn import preprocessing\n",
    "\n",
    "def Gain_rate(data,feature_name,class_name,continues = False):\n",
    "    \"\"\"\n",
    "        计算增益率\n",
    "        如果是离散数据，则按照标准增益率公式计算。如果是连续型数据，则将数据二值化，具体二值化\n",
    "        的过程是首先将数据从小到大排列，然后在相邻的两个数据间取均值，设为二值化阈值，然后二值化。\n",
    "        在所有的二值化阈值中取最大的互信息，然后再计算增益率\n",
    "        Args:\n",
    "            data:    数据\n",
    "            feature_index:     要测试的特征的列\n",
    "            class_index:       分类的列\n",
    "        Return:\n",
    "            增益率\n",
    "    \"\"\"\n",
    "    #标签的信息熵\n",
    "    class_entropy = None\n",
    "    \n",
    "    #计算最大的互信息\n",
    "    sort_data = data[feature_name].values;\n",
    "    #存储最大互信息和最大互信息的阈值\n",
    "    max_mutaul_info = - np.inf\n",
    "    max_mutaul_threshold = None;\n",
    "    \n",
    "    #如果是连续情况\n",
    "    if continues:\n",
    "        for i in range(0,len(sort_data) - 1):\n",
    "            #计算阈值\n",
    "            feature_threshold = (sort_data[i] + sort_data[i + 1]) / 2\n",
    "\n",
    "            #处理子数据集（子数据集仅包含要计算的特征列以及分类列）\n",
    "            #类别需要数值化编码，特征需要根据阈值二值化，然后组成一个子数据集\n",
    "            col_data = np.digitize(data[feature_name].values,bins = [feature_threshold]) \\\n",
    "                                                    if continues else data[feature_name].values\n",
    "            encode_class = preprocessing.LabelEncoder().fit_transform(data[class_name].values)\n",
    "            col_data.shape = (-1,1)\n",
    "            encode_class.shape = (-1,1)\n",
    "            sub_data = np.concatenate([col_data,encode_class],axis = 1)\n",
    "\n",
    "\n",
    "            #计算联合信息熵\n",
    "            union_entropy = Entropy(sub_data)\n",
    "            #计算特征的信息熵\n",
    "            feature_entropy = Entropy(col_data)\n",
    "            #计算标签的信息熵\n",
    "            if class_entropy is None : class_entropy = Entropy(encode_class)\n",
    "            #计算互信息\n",
    "            mutual_info = feature_entropy + class_entropy - union_entropy;\n",
    "            if mutual_info > max_mutaul_info:\n",
    "                max_mutaul_info = mutual_info\n",
    "                max_mutaul_threshold = feature_threshold\n",
    "    #离散情况\n",
    "    else:\n",
    "        encode_class = preprocessing.LabelEncoder().fit_transform(data[class_name].values)\n",
    "        encode_feature = preprocessing.LabelEncoder().fit_transform(data[feature_name].values)\n",
    "        encode_class.shape = (-1,1)\n",
    "        encode_feature.shape = (-1,1)\n",
    "        \n",
    "        feature_entropy = Entropy(encode_feature)\n",
    "        class_entropy = Entropy(encode_class)\n",
    "        \n",
    "        sub_data = np.concatenate([encode_feature,encode_class],axis = 1)\n",
    "\n",
    "        #计算联合信息熵\n",
    "        union_entropy = Entropy(sub_data)\n",
    "        #计算互信息\n",
    "        mutual_info = feature_entropy + class_entropy - union_entropy;\n",
    "        \n",
    "        \n",
    "    \n",
    "    #计算信息增益\n",
    "    gain_rate = mutual_info / feature_entropy\n",
    "    return gain_rate\n",
    "    \n",
    "\n",
    "def digitize_statistics(data):\n",
    "    \"\"\"\n",
    "        离散统计\n",
    "        Args:\n",
    "            data:    数据\n",
    "        Return:\n",
    "            统计出的离散比率\n",
    "    \"\"\"\n",
    "    data = np.array(data,dtype = np.int32);\n",
    "    \n",
    "    tmp_dict = {}\n",
    "    \n",
    "    for i in range(data.shape[0]):\n",
    "        tmp = str(data[i].tolist())\n",
    "        if tmp in tmp_dict:\n",
    "            tmp_dict[tmp] += 1;\n",
    "        else:\n",
    "            tmp_dict[tmp] = 1;\n",
    "    \n",
    "    value_counts = np.array(list(tmp_dict.values()),dtype = np.float32)\n",
    "    return value_counts / (value_counts.sum())\n",
    "\n",
    "\n",
    "def Entropy(data):\n",
    "    \"\"\"\n",
    "        计算信息熵的基本算式(数据必须是离散数据)\n",
    "        Args:\n",
    "            data:   要计算的数据\n",
    "        Return:\n",
    "            信息熵\n",
    "    \"\"\"\n",
    "    data = np.array(data, dtype = np.int32)\n",
    "    #计算离散概率\n",
    "    value_rate = digitize_statistics(data)\n",
    "    #计算信息熵\n",
    "    entropy = - np.sum(value_rate * np.log(value_rate))\n",
    "        \n",
    "    return entropy\n",
    "\n"
   ]
  },
  {
   "cell_type": "code",
   "execution_count": 7,
   "metadata": {
    "ExecuteTime": {
     "end_time": "2018-07-28T08:16:47.030365Z",
     "start_time": "2018-07-28T08:15:09.758004Z"
    }
   },
   "outputs": [],
   "source": [
    "#类别列名\n",
    "class_col = \"target\"\n",
    "#增益率字典\n",
    "gain_rate_dict = {}\n",
    "\n",
    "sample_data = data_df.sample(1000)\n",
    "for col_name in sample_data.columns:\n",
    "    if col_name == class_col : continue\n",
    "    gain_rate = Gain_rate(data = sample_data , feature_name = col_name,class_name = class_col,continues = True)\n",
    "    gain_rate_dict[col_name] = gain_rate\n",
    "\n"
   ]
  },
  {
   "cell_type": "code",
   "execution_count": 8,
   "metadata": {
    "ExecuteTime": {
     "end_time": "2018-07-28T08:17:35.130886Z",
     "start_time": "2018-07-28T08:17:35.029339Z"
    }
   },
   "outputs": [
    {
     "data": {
      "text/html": [
       "<div>\n",
       "<style scoped>\n",
       "    .dataframe tbody tr th:only-of-type {\n",
       "        vertical-align: middle;\n",
       "    }\n",
       "\n",
       "    .dataframe tbody tr th {\n",
       "        vertical-align: top;\n",
       "    }\n",
       "\n",
       "    .dataframe thead th {\n",
       "        text-align: right;\n",
       "    }\n",
       "</style>\n",
       "<table border=\"1\" class=\"dataframe\">\n",
       "  <thead>\n",
       "    <tr style=\"text-align: right;\">\n",
       "      <th></th>\n",
       "      <th>Gain Rate</th>\n",
       "    </tr>\n",
       "  </thead>\n",
       "  <tbody>\n",
       "    <tr>\n",
       "      <th>count</th>\n",
       "      <td>47.000000</td>\n",
       "    </tr>\n",
       "    <tr>\n",
       "      <th>mean</th>\n",
       "      <td>0.000256</td>\n",
       "    </tr>\n",
       "    <tr>\n",
       "      <th>std</th>\n",
       "      <td>0.000312</td>\n",
       "    </tr>\n",
       "    <tr>\n",
       "      <th>min</th>\n",
       "      <td>0.000000</td>\n",
       "    </tr>\n",
       "    <tr>\n",
       "      <th>25%</th>\n",
       "      <td>0.000023</td>\n",
       "    </tr>\n",
       "    <tr>\n",
       "      <th>50%</th>\n",
       "      <td>0.000106</td>\n",
       "    </tr>\n",
       "    <tr>\n",
       "      <th>75%</th>\n",
       "      <td>0.000377</td>\n",
       "    </tr>\n",
       "    <tr>\n",
       "      <th>max</th>\n",
       "      <td>0.001171</td>\n",
       "    </tr>\n",
       "  </tbody>\n",
       "</table>\n",
       "</div>"
      ],
      "text/plain": [
       "       Gain Rate\n",
       "count  47.000000\n",
       "mean    0.000256\n",
       "std     0.000312\n",
       "min     0.000000\n",
       "25%     0.000023\n",
       "50%     0.000106\n",
       "75%     0.000377\n",
       "max     0.001171"
      ]
     },
     "execution_count": 8,
     "metadata": {},
     "output_type": "execute_result"
    }
   ],
   "source": [
    "gain_rate_df = pd.DataFrame()\n",
    "gain_rate_df[\"Gain Rate\"] = gain_rate_dict.values()\n",
    "gain_rate_df[\"Feature\"] = [str(col) for col in gain_rate_dict.keys()]\n",
    "\n",
    "gain_rate_df.sort_values(by = \"Gain Rate\",ascending = True,inplace = True)\n",
    "gain_rate_df.set_index(keys = \"Feature\",drop = True,inplace = True)\n",
    "\n",
    "gain_rate_df.describe()"
   ]
  },
  {
   "cell_type": "code",
   "execution_count": 78,
   "metadata": {
    "ExecuteTime": {
     "end_time": "2018-07-25T06:01:51.418392Z",
     "start_time": "2018-07-25T06:01:51.414729Z"
    }
   },
   "outputs": [],
   "source": [
    "gain_rate_df.to_csv(\"./result/Gain Rate.csv\")"
   ]
  },
  {
   "cell_type": "markdown",
   "metadata": {},
   "source": [
    "## 信息增益率Bar图"
   ]
  },
  {
   "cell_type": "code",
   "execution_count": 10,
   "metadata": {
    "ExecuteTime": {
     "end_time": "2018-07-28T08:17:49.909285Z",
     "start_time": "2018-07-28T08:17:49.304351Z"
    }
   },
   "outputs": [
    {
     "data": {
      "text/plain": [
       "<matplotlib.axes._subplots.AxesSubplot at 0x7f2d9acbebe0>"
      ]
     },
     "execution_count": 10,
     "metadata": {},
     "output_type": "execute_result"
    },
    {
     "data": {
      "image/png": "[encoded data removed]",
      "text/plain": [
       "<Figure size 1080x576 with 1 Axes>"
      ]
     },
     "metadata": {},
     "output_type": "display_data"
    }
   ],
   "source": [
    "import seaborn as sns\n",
    "\n",
    "plt.figure(figsize = (15,8))\n",
    "sns.set_style(\"whitegrid\")\n",
    "\n",
    "gain_rate_df.reset_index(inplace = True)\n",
    "gain_rate_df.sort_index(inplace=True)\n",
    "\n",
    "sns.barplot(x = \"Feature\",y = \"Gain Rate\",data = gain_rate_df,orient = \"v\")"
   ]
  },
  {
   "cell_type": "markdown",
   "metadata": {},
   "source": [
    "## 根据阈值选择"
   ]
  },
  {
   "cell_type": "code",
   "execution_count": 13,
   "metadata": {
    "ExecuteTime": {
     "end_time": "2018-07-28T08:19:14.242189Z",
     "start_time": "2018-07-28T08:19:14.014203Z"
    }
   },
   "outputs": [
    {
     "name": "stdout",
     "output_type": "stream",
     "text": [
      "<class 'pandas.core.frame.DataFrame'>\n",
      "RangeIndex: 285900 entries, 0 to 285899\n",
      "Data columns (total 26 columns):\n",
      "31        285900 non-null float64\n",
      "16        285900 non-null float64\n",
      "25        285900 non-null float64\n",
      "35        285900 non-null float64\n",
      "21        285900 non-null float64\n",
      "4         285900 non-null float64\n",
      "13        285900 non-null float64\n",
      "29        285900 non-null float64\n",
      "27        285900 non-null float64\n",
      "22        285900 non-null float64\n",
      "26        285900 non-null float64\n",
      "33        285900 non-null float64\n",
      "32        285900 non-null float64\n",
      "7         285900 non-null float64\n",
      "34        285900 non-null float64\n",
      "38        285900 non-null float64\n",
      "6         285900 non-null float64\n",
      "41        285900 non-null float64\n",
      "46        285900 non-null float64\n",
      "19        285900 non-null float64\n",
      "44        285900 non-null float64\n",
      "45        285900 non-null float64\n",
      "43        285900 non-null float64\n",
      "42        285900 non-null float64\n",
      "5         285900 non-null float64\n",
      "target    285900 non-null float64\n",
      "dtypes: float64(26)\n",
      "memory usage: 56.7 MB\n"
     ]
    },
    {
     "name": "stderr",
     "output_type": "stream",
     "text": [
      "/usr/local/lib/python3.6/site-packages/ipykernel_launcher.py:6: SettingWithCopyWarning: \n",
      "A value is trying to be set on a copy of a slice from a DataFrame.\n",
      "Try using .loc[row_indexer,col_indexer] = value instead\n",
      "\n",
      "See the caveats in the documentation: http://pandas.pydata.org/pandas-docs/stable/indexing.html#indexing-view-versus-copy\n",
      "  \n"
     ]
    }
   ],
   "source": [
    "#阈值\n",
    "threshold = 0.0001\n",
    "\n",
    "select_df = gain_rate_df[gain_rate_df[\"Gain Rate\"] > threshold]\n",
    "data = data_df[[int(col) for col in select_df.Feature]]\n",
    "data[\"target\"] = target\n",
    "\n",
    "data.info()"
   ]
  },
  {
   "cell_type": "markdown",
   "metadata": {},
   "source": [
    "# 模型定阶"
   ]
  },
  {
   "cell_type": "markdown",
   "metadata": {},
   "source": [
    "## 零均值"
   ]
  },
  {
   "cell_type": "code",
   "execution_count": 92,
   "metadata": {
    "ExecuteTime": {
     "end_time": "2018-07-26T06:18:19.689438Z",
     "start_time": "2018-07-26T06:18:19.582513Z"
    }
   },
   "outputs": [
    {
     "data": {
      "text/html": [
       "<div>\n",
       "<style scoped>\n",
       "    .dataframe tbody tr th:only-of-type {\n",
       "        vertical-align: middle;\n",
       "    }\n",
       "\n",
       "    .dataframe tbody tr th {\n",
       "        vertical-align: top;\n",
       "    }\n",
       "\n",
       "    .dataframe thead th {\n",
       "        text-align: right;\n",
       "    }\n",
       "</style>\n",
       "<table border=\"1\" class=\"dataframe\">\n",
       "  <thead>\n",
       "    <tr style=\"text-align: right;\">\n",
       "      <th></th>\n",
       "      <th>2</th>\n",
       "      <th>0</th>\n",
       "      <th>33</th>\n",
       "      <th>40</th>\n",
       "      <th>44</th>\n",
       "      <th>17</th>\n",
       "      <th>1</th>\n",
       "      <th>29</th>\n",
       "      <th>3</th>\n",
       "      <th>22</th>\n",
       "      <th>...</th>\n",
       "      <th>13</th>\n",
       "      <th>6</th>\n",
       "      <th>23</th>\n",
       "      <th>19</th>\n",
       "      <th>11</th>\n",
       "      <th>7</th>\n",
       "      <th>14</th>\n",
       "      <th>9</th>\n",
       "      <th>8</th>\n",
       "      <th>target</th>\n",
       "    </tr>\n",
       "  </thead>\n",
       "  <tbody>\n",
       "    <tr>\n",
       "      <th>count</th>\n",
       "      <td>1.000000e+03</td>\n",
       "      <td>1.000000e+03</td>\n",
       "      <td>1.000000e+03</td>\n",
       "      <td>1.000000e+03</td>\n",
       "      <td>1.000000e+03</td>\n",
       "      <td>1.000000e+03</td>\n",
       "      <td>1.000000e+03</td>\n",
       "      <td>1.000000e+03</td>\n",
       "      <td>1.000000e+03</td>\n",
       "      <td>1.000000e+03</td>\n",
       "      <td>...</td>\n",
       "      <td>1.000000e+03</td>\n",
       "      <td>1.000000e+03</td>\n",
       "      <td>1.000000e+03</td>\n",
       "      <td>1.000000e+03</td>\n",
       "      <td>1.000000e+03</td>\n",
       "      <td>1.000000e+03</td>\n",
       "      <td>1.000000e+03</td>\n",
       "      <td>1.000000e+03</td>\n",
       "      <td>1.000000e+03</td>\n",
       "      <td>1000.0</td>\n",
       "    </tr>\n",
       "    <tr>\n",
       "      <th>mean</th>\n",
       "      <td>-2.264855e-17</td>\n",
       "      <td>-2.220446e-18</td>\n",
       "      <td>-3.552714e-18</td>\n",
       "      <td>-4.662937e-18</td>\n",
       "      <td>-1.332268e-18</td>\n",
       "      <td>1.287859e-17</td>\n",
       "      <td>4.440892e-18</td>\n",
       "      <td>1.776357e-18</td>\n",
       "      <td>-5.773160e-18</td>\n",
       "      <td>-2.087219e-17</td>\n",
       "      <td>...</td>\n",
       "      <td>-3.108624e-18</td>\n",
       "      <td>9.103829e-18</td>\n",
       "      <td>-1.332268e-17</td>\n",
       "      <td>8.881784e-19</td>\n",
       "      <td>2.176037e-17</td>\n",
       "      <td>-9.880985e-18</td>\n",
       "      <td>8.659740e-18</td>\n",
       "      <td>1.043610e-17</td>\n",
       "      <td>-1.210143e-17</td>\n",
       "      <td>0.0</td>\n",
       "    </tr>\n",
       "    <tr>\n",
       "      <th>std</th>\n",
       "      <td>8.793047e-01</td>\n",
       "      <td>3.515121e-01</td>\n",
       "      <td>7.732284e-01</td>\n",
       "      <td>6.172937e-01</td>\n",
       "      <td>8.572693e-01</td>\n",
       "      <td>8.096527e-01</td>\n",
       "      <td>6.568747e-01</td>\n",
       "      <td>6.347741e-01</td>\n",
       "      <td>9.940232e-01</td>\n",
       "      <td>7.794579e-01</td>\n",
       "      <td>...</td>\n",
       "      <td>9.944442e-01</td>\n",
       "      <td>7.858041e-01</td>\n",
       "      <td>7.333179e-01</td>\n",
       "      <td>9.355388e-01</td>\n",
       "      <td>1.089429e+00</td>\n",
       "      <td>7.109452e-01</td>\n",
       "      <td>8.697488e-01</td>\n",
       "      <td>8.854614e-01</td>\n",
       "      <td>7.551819e-01</td>\n",
       "      <td>0.0</td>\n",
       "    </tr>\n",
       "    <tr>\n",
       "      <th>min</th>\n",
       "      <td>-2.753291e+00</td>\n",
       "      <td>-1.085855e+00</td>\n",
       "      <td>-3.123456e+00</td>\n",
       "      <td>-2.035878e+00</td>\n",
       "      <td>-2.540083e+00</td>\n",
       "      <td>-3.116310e+00</td>\n",
       "      <td>-2.002153e+00</td>\n",
       "      <td>-1.963141e+00</td>\n",
       "      <td>-3.291500e+00</td>\n",
       "      <td>-2.790831e+00</td>\n",
       "      <td>...</td>\n",
       "      <td>-3.505265e+00</td>\n",
       "      <td>-3.117071e+00</td>\n",
       "      <td>-2.501592e+00</td>\n",
       "      <td>-2.394999e+00</td>\n",
       "      <td>-3.833691e+00</td>\n",
       "      <td>-2.644762e+00</td>\n",
       "      <td>-2.836190e+00</td>\n",
       "      <td>-2.840113e+00</td>\n",
       "      <td>-2.383754e+00</td>\n",
       "      <td>0.0</td>\n",
       "    </tr>\n",
       "    <tr>\n",
       "      <th>25%</th>\n",
       "      <td>-5.821276e-01</td>\n",
       "      <td>-2.343815e-01</td>\n",
       "      <td>-4.945219e-01</td>\n",
       "      <td>-4.076987e-01</td>\n",
       "      <td>-5.777956e-01</td>\n",
       "      <td>-5.539210e-01</td>\n",
       "      <td>-4.377841e-01</td>\n",
       "      <td>-4.094827e-01</td>\n",
       "      <td>-6.684302e-01</td>\n",
       "      <td>-5.512815e-01</td>\n",
       "      <td>...</td>\n",
       "      <td>-6.851920e-01</td>\n",
       "      <td>-5.347877e-01</td>\n",
       "      <td>-4.853391e-01</td>\n",
       "      <td>-6.178163e-01</td>\n",
       "      <td>-7.242261e-01</td>\n",
       "      <td>-4.459050e-01</td>\n",
       "      <td>-5.594974e-01</td>\n",
       "      <td>-5.977722e-01</td>\n",
       "      <td>-4.918642e-01</td>\n",
       "      <td>0.0</td>\n",
       "    </tr>\n",
       "    <tr>\n",
       "      <th>50%</th>\n",
       "      <td>2.281059e-02</td>\n",
       "      <td>8.962485e-03</td>\n",
       "      <td>-7.098047e-03</td>\n",
       "      <td>8.043179e-03</td>\n",
       "      <td>1.077743e-02</td>\n",
       "      <td>3.059625e-03</td>\n",
       "      <td>1.392489e-02</td>\n",
       "      <td>4.707776e-03</td>\n",
       "      <td>4.006665e-02</td>\n",
       "      <td>-3.257656e-03</td>\n",
       "      <td>...</td>\n",
       "      <td>-7.906875e-03</td>\n",
       "      <td>1.533441e-02</td>\n",
       "      <td>-1.019307e-02</td>\n",
       "      <td>-4.134528e-02</td>\n",
       "      <td>1.901226e-02</td>\n",
       "      <td>1.603171e-02</td>\n",
       "      <td>-7.569795e-03</td>\n",
       "      <td>2.922895e-02</td>\n",
       "      <td>1.735715e-02</td>\n",
       "      <td>0.0</td>\n",
       "    </tr>\n",
       "    <tr>\n",
       "      <th>75%</th>\n",
       "      <td>5.905691e-01</td>\n",
       "      <td>2.333177e-01</td>\n",
       "      <td>5.032967e-01</td>\n",
       "      <td>4.102537e-01</td>\n",
       "      <td>5.715776e-01</td>\n",
       "      <td>5.238358e-01</td>\n",
       "      <td>4.379732e-01</td>\n",
       "      <td>4.216357e-01</td>\n",
       "      <td>6.616350e-01</td>\n",
       "      <td>4.950554e-01</td>\n",
       "      <td>...</td>\n",
       "      <td>6.541582e-01</td>\n",
       "      <td>5.439058e-01</td>\n",
       "      <td>4.743463e-01</td>\n",
       "      <td>6.333621e-01</td>\n",
       "      <td>6.982385e-01</td>\n",
       "      <td>4.837054e-01</td>\n",
       "      <td>5.566295e-01</td>\n",
       "      <td>6.092796e-01</td>\n",
       "      <td>5.136893e-01</td>\n",
       "      <td>0.0</td>\n",
       "    </tr>\n",
       "    <tr>\n",
       "      <th>max</th>\n",
       "      <td>3.358548e+00</td>\n",
       "      <td>1.329526e+00</td>\n",
       "      <td>2.478768e+00</td>\n",
       "      <td>2.341795e+00</td>\n",
       "      <td>3.372662e+00</td>\n",
       "      <td>2.457388e+00</td>\n",
       "      <td>2.500370e+00</td>\n",
       "      <td>1.868810e+00</td>\n",
       "      <td>3.859603e+00</td>\n",
       "      <td>2.752171e+00</td>\n",
       "      <td>...</td>\n",
       "      <td>3.225846e+00</td>\n",
       "      <td>2.819637e+00</td>\n",
       "      <td>2.337387e+00</td>\n",
       "      <td>3.046237e+00</td>\n",
       "      <td>3.443630e+00</td>\n",
       "      <td>1.980827e+00</td>\n",
       "      <td>2.834773e+00</td>\n",
       "      <td>2.826538e+00</td>\n",
       "      <td>2.330830e+00</td>\n",
       "      <td>0.0</td>\n",
       "    </tr>\n",
       "  </tbody>\n",
       "</table>\n",
       "<p>8 rows × 24 columns</p>\n",
       "</div>"
      ],
      "text/plain": [
       "                  2             0            33            40            44  \\\n",
       "count  1.000000e+03  1.000000e+03  1.000000e+03  1.000000e+03  1.000000e+03   \n",
       "mean  -2.264855e-17 -2.220446e-18 -3.552714e-18 -4.662937e-18 -1.332268e-18   \n",
       "std    8.793047e-01  3.515121e-01  7.732284e-01  6.172937e-01  8.572693e-01   \n",
       "min   -2.753291e+00 -1.085855e+00 -3.123456e+00 -2.035878e+00 -2.540083e+00   \n",
       "25%   -5.821276e-01 -2.343815e-01 -4.945219e-01 -4.076987e-01 -5.777956e-01   \n",
       "50%    2.281059e-02  8.962485e-03 -7.098047e-03  8.043179e-03  1.077743e-02   \n",
       "75%    5.905691e-01  2.333177e-01  5.032967e-01  4.102537e-01  5.715776e-01   \n",
       "max    3.358548e+00  1.329526e+00  2.478768e+00  2.341795e+00  3.372662e+00   \n",
       "\n",
       "                 17             1            29             3            22  \\\n",
       "count  1.000000e+03  1.000000e+03  1.000000e+03  1.000000e+03  1.000000e+03   \n",
       "mean   1.287859e-17  4.440892e-18  1.776357e-18 -5.773160e-18 -2.087219e-17   \n",
       "std    8.096527e-01  6.568747e-01  6.347741e-01  9.940232e-01  7.794579e-01   \n",
       "min   -3.116310e+00 -2.002153e+00 -1.963141e+00 -3.291500e+00 -2.790831e+00   \n",
       "25%   -5.539210e-01 -4.377841e-01 -4.094827e-01 -6.684302e-01 -5.512815e-01   \n",
       "50%    3.059625e-03  1.392489e-02  4.707776e-03  4.006665e-02 -3.257656e-03   \n",
       "75%    5.238358e-01  4.379732e-01  4.216357e-01  6.616350e-01  4.950554e-01   \n",
       "max    2.457388e+00  2.500370e+00  1.868810e+00  3.859603e+00  2.752171e+00   \n",
       "\n",
       "        ...              13             6            23            19  \\\n",
       "count   ...    1.000000e+03  1.000000e+03  1.000000e+03  1.000000e+03   \n",
       "mean    ...   -3.108624e-18  9.103829e-18 -1.332268e-17  8.881784e-19   \n",
       "std     ...    9.944442e-01  7.858041e-01  7.333179e-01  9.355388e-01   \n",
       "min     ...   -3.505265e+00 -3.117071e+00 -2.501592e+00 -2.394999e+00   \n",
       "25%     ...   -6.851920e-01 -5.347877e-01 -4.853391e-01 -6.178163e-01   \n",
       "50%     ...   -7.906875e-03  1.533441e-02 -1.019307e-02 -4.134528e-02   \n",
       "75%     ...    6.541582e-01  5.439058e-01  4.743463e-01  6.333621e-01   \n",
       "max     ...    3.225846e+00  2.819637e+00  2.337387e+00  3.046237e+00   \n",
       "\n",
       "                 11             7            14             9             8  \\\n",
       "count  1.000000e+03  1.000000e+03  1.000000e+03  1.000000e+03  1.000000e+03   \n",
       "mean   2.176037e-17 -9.880985e-18  8.659740e-18  1.043610e-17 -1.210143e-17   \n",
       "std    1.089429e+00  7.109452e-01  8.697488e-01  8.854614e-01  7.551819e-01   \n",
       "min   -3.833691e+00 -2.644762e+00 -2.836190e+00 -2.840113e+00 -2.383754e+00   \n",
       "25%   -7.242261e-01 -4.459050e-01 -5.594974e-01 -5.977722e-01 -4.918642e-01   \n",
       "50%    1.901226e-02  1.603171e-02 -7.569795e-03  2.922895e-02  1.735715e-02   \n",
       "75%    6.982385e-01  4.837054e-01  5.566295e-01  6.092796e-01  5.136893e-01   \n",
       "max    3.443630e+00  1.980827e+00  2.834773e+00  2.826538e+00  2.330830e+00   \n",
       "\n",
       "       target  \n",
       "count  1000.0  \n",
       "mean      0.0  \n",
       "std       0.0  \n",
       "min       0.0  \n",
       "25%       0.0  \n",
       "50%       0.0  \n",
       "75%       0.0  \n",
       "max       0.0  \n",
       "\n",
       "[8 rows x 24 columns]"
      ]
     },
     "execution_count": 92,
     "metadata": {},
     "output_type": "execute_result"
    }
   ],
   "source": [
    "sample_data = data[1000:2000]\n",
    "sample_data = sample_data - sample_data.mean(axis = 0)\n",
    "sample_data.describe()"
   ]
  },
  {
   "cell_type": "markdown",
   "metadata": {},
   "source": [
    "## 自相关系数"
   ]
  },
  {
   "cell_type": "code",
   "execution_count": 93,
   "metadata": {
    "ExecuteTime": {
     "end_time": "2018-07-26T06:18:22.629395Z",
     "start_time": "2018-07-26T06:18:22.449249Z"
    }
   },
   "outputs": [
    {
     "data": {
      "image/png": "[encoded data removed]",
      "text/plain": [
       "<Figure size 432x288 with 1 Axes>"
      ]
     },
     "metadata": {},
     "output_type": "display_data"
    }
   ],
   "source": [
    "import statsmodels\n",
    "import statsmodels.api as sm\n",
    "\n",
    "serise_data = sample_data[5];\n",
    "fig = sm.graphics.tsa.plot_acf(\n",
    "                    x = serise_data,\n",
    "                    ax = None,\n",
    "                    lags = 70,\n",
    "                    alpha = None,\n",
    "                    unbiased = True,\n",
    "                        )"
   ]
  },
  {
   "cell_type": "markdown",
   "metadata": {},
   "source": [
    "## 季节差分及差分"
   ]
  },
  {
   "cell_type": "code",
   "execution_count": 97,
   "metadata": {
    "ExecuteTime": {
     "end_time": "2018-07-26T06:18:45.766684Z",
     "start_time": "2018-07-26T06:18:45.759225Z"
    }
   },
   "outputs": [
    {
     "data": {
      "text/plain": [
       "(1.5278692550223087, 0.12654500304239977)"
      ]
     },
     "execution_count": 97,
     "metadata": {},
     "output_type": "execute_result"
    }
   ],
   "source": [
    "import statsmodels\n",
    "from statsmodels.tsa.statespace import tools\n",
    "\n",
    "diff_num = 1\n",
    "seasonal_diff_num = 2\n",
    "seasonal_period = 10\n",
    "# serise_data\n",
    "\n",
    "diff_data = tools.diff(series = serise_data.values,\n",
    "               k_diff = diff_num,\n",
    "               k_seasonal_diff = seasonal_diff_num,\n",
    "               seasonal_periods = seasonal_period)\n",
    "\n",
    "z_stat,p_value = statsmodels.sandbox.stats.runs.runstest_1samp(x = diff_data,\n",
    "                                             cutoff = \"mean\")\n",
    "z_stat,p_value\n",
    "\n"
   ]
  },
  {
   "cell_type": "code",
   "execution_count": 99,
   "metadata": {
    "ExecuteTime": {
     "end_time": "2018-07-26T06:18:49.263252Z",
     "start_time": "2018-07-26T06:18:49.074262Z"
    }
   },
   "outputs": [
    {
     "data": {
      "image/png": "[encoded data removed]",
      "text/plain": [
       "<Figure size 432x288 with 1 Axes>"
      ]
     },
     "metadata": {},
     "output_type": "display_data"
    }
   ],
   "source": [
    "fig = sm.graphics.tsa.plot_acf(\n",
    "                    x = diff_data,\n",
    "                    lags = 40,\n",
    "                    alpha = None,\n",
    "                    unbiased = True,\n",
    "                    ax = None\n",
    "                    )"
   ]
  },
  {
   "cell_type": "markdown",
   "metadata": {},
   "source": [
    "## 游程检验"
   ]
  },
  {
   "cell_type": "code",
   "execution_count": 100,
   "metadata": {
    "ExecuteTime": {
     "end_time": "2018-07-26T06:18:52.242011Z",
     "start_time": "2018-07-26T06:18:52.235110Z"
    }
   },
   "outputs": [
    {
     "data": {
      "text/plain": [
       "(1.5278692550223087, 0.12654500304239977)"
      ]
     },
     "execution_count": 100,
     "metadata": {},
     "output_type": "execute_result"
    }
   ],
   "source": [
    "import statsmodels\n",
    "\n",
    "z_stat,p_value = statsmodels.sandbox.stats.runs.runstest_1samp(x = diff_data,\n",
    "                                             cutoff = \"mean\")\n",
    "z_stat,p_value"
   ]
  },
  {
   "cell_type": "markdown",
   "metadata": {},
   "source": [
    "## 自相关和偏相关(ACF截尾，PACF脱尾)"
   ]
  },
  {
   "cell_type": "markdown",
   "metadata": {},
   "source": [
    "选定阶30"
   ]
  },
  {
   "cell_type": "code",
   "execution_count": 106,
   "metadata": {
    "ExecuteTime": {
     "end_time": "2018-07-26T06:22:55.613377Z",
     "start_time": "2018-07-26T06:22:54.982262Z"
    }
   },
   "outputs": [
    {
     "data": {
      "image/png": "[encoded data removed]",
      "text/plain": [
       "<Figure size 1080x576 with 2 Axes>"
      ]
     },
     "metadata": {},
     "output_type": "display_data"
    }
   ],
   "source": [
    "import statsmodels.api as sm\n",
    "\n",
    "\n",
    "\n",
    "fig = plt.figure(figsize = (15,8))\n",
    "\n",
    "lags = 60\n",
    "\n",
    "acf,acf_confidence_interval = sm.graphics.tsa.acf(x = diff_data,\n",
    "                                            unbiased = True,\n",
    "                                            alpha = 0.05,\n",
    "                                            nlags = lags,\n",
    "                                            qstat = False)\n",
    "\n",
    "pacf,pacf_confidence_interval = sm.graphics.tsa.pacf(\n",
    "                                            x = diff_data,\n",
    "                                            nlags = lags,\n",
    "                                            method = \"ywm\",\n",
    "                                            alpha = 0.05)\n",
    "\n",
    "acf_axe = fig.add_subplot(211)\n",
    "pacf_axe = fig.add_subplot(212)\n",
    "\n",
    "acf_axe.vlines(range(lags),0,acf,linestyles = \"solid\")\n",
    "acf_axe.plot(acf,\"o\")\n",
    "acf_axe.spines[\"bottom\"].set_position((\"data\",0))\n",
    "acf_axe.set_ylim(-1,1)\n",
    "\n",
    "acf_axe.fill_between(range(lags + 1),\n",
    "            (acf_confidence_interval[:,1] - acf) * 2,\n",
    "            (acf_confidence_interval[:,0] - acf) * 2,\n",
    "            alpha = 0.2)\n",
    "acf_axe.grid()\n",
    "\n",
    "\n",
    "pacf_axe.vlines(range(lags),0,pacf,linestyles = \"solid\")\n",
    "pacf_axe.plot(pacf,\"o\")\n",
    "pacf_axe.spines[\"bottom\"].set_position((\"data\",0))\n",
    "pacf_axe.set_ylim(-1,1)\n",
    "\n",
    "pacf_axe.fill_between(range(lags + 1),\n",
    "            (pacf_confidence_interval[:,1] - pacf) * 2,\n",
    "            (pacf_confidence_interval[:,0] - pacf) * 2,\n",
    "            alpha = 0.2)\n",
    "pacf_axe.grid()\n",
    "\n"
   ]
  },
  {
   "cell_type": "markdown",
   "metadata": {},
   "source": [
    "# 识别"
   ]
  },
  {
   "cell_type": "code",
   "execution_count": 6,
   "metadata": {
    "ExecuteTime": {
     "end_time": "2018-08-06T02:36:19.636768Z",
     "start_time": "2018-08-06T02:36:19.521459Z"
    },
    "init_cell": true
   },
   "outputs": [],
   "source": [
    "n_order = 30"
   ]
  },
  {
   "cell_type": "code",
   "execution_count": 107,
   "metadata": {
    "ExecuteTime": {
     "end_time": "2018-07-26T06:25:02.222715Z",
     "start_time": "2018-07-26T06:25:02.120472Z"
    }
   },
   "outputs": [
    {
     "name": "stdout",
     "output_type": "stream",
     "text": [
      "<class 'pandas.core.frame.DataFrame'>\n",
      "RangeIndex: 285900 entries, 0 to 285899\n",
      "Data columns (total 24 columns):\n",
      "2         285900 non-null float64\n",
      "0         285900 non-null float64\n",
      "33        285900 non-null float64\n",
      "40        285900 non-null float64\n",
      "44        285900 non-null float64\n",
      "17        285900 non-null float64\n",
      "1         285900 non-null float64\n",
      "29        285900 non-null float64\n",
      "3         285900 non-null float64\n",
      "22        285900 non-null float64\n",
      "12        285900 non-null float64\n",
      "32        285900 non-null float64\n",
      "18        285900 non-null float64\n",
      "10        285900 non-null float64\n",
      "13        285900 non-null float64\n",
      "6         285900 non-null float64\n",
      "23        285900 non-null float64\n",
      "19        285900 non-null float64\n",
      "11        285900 non-null float64\n",
      "7         285900 non-null float64\n",
      "14        285900 non-null float64\n",
      "9         285900 non-null float64\n",
      "8         285900 non-null float64\n",
      "target    285900 non-null float64\n",
      "dtypes: float64(24)\n",
      "memory usage: 52.3 MB\n"
     ]
    }
   ],
   "source": [
    "data.info()"
   ]
  },
  {
   "cell_type": "markdown",
   "metadata": {},
   "source": [
    "## 数据整理"
   ]
  },
  {
   "cell_type": "code",
   "execution_count": 14,
   "metadata": {
    "ExecuteTime": {
     "end_time": "2018-07-28T08:20:19.838593Z",
     "start_time": "2018-07-28T08:20:19.834961Z"
    }
   },
   "outputs": [],
   "source": [
    "def order_reshape(data,target,n_order):\n",
    "    \"\"\"\n",
    "        根据阶数重新整合数据\n",
    "        Args:\n",
    "            data: numpy类型， 数据集\n",
    "            target:  numpy类型，标签\n",
    "            n_order : 阶数\n",
    "        Return:\n",
    "            整合的data，整合的target\n",
    "    \"\"\"\n",
    "    assert len(data) == len(target),\"数据和标签的长度不匹配\"\n",
    "    \n",
    "    #数据重新整理\n",
    "    n_row,n_col = data.shape\n",
    "    data = data[ : None if n_row % n_order == 0 else - n_row % n_order]\n",
    "    data = data.reshape(-1,n_col * n_order)\n",
    "\n",
    "    #标签整理\n",
    "    target = target.reshape(-1,n_order)\n",
    "    target = target[:,0]\n",
    "    \n",
    "    return data,target\n",
    "    \n",
    "    "
   ]
  },
  {
   "cell_type": "code",
   "execution_count": 16,
   "metadata": {
    "ExecuteTime": {
     "end_time": "2018-07-28T08:20:28.979989Z",
     "start_time": "2018-07-28T08:20:28.815753Z"
    }
   },
   "outputs": [
    {
     "name": "stderr",
     "output_type": "stream",
     "text": [
      "/usr/local/lib64/python3.6/site-packages/pandas/core/frame.py:3694: SettingWithCopyWarning: \n",
      "A value is trying to be set on a copy of a slice from a DataFrame\n",
      "\n",
      "See the caveats in the documentation: http://pandas.pydata.org/pandas-docs/stable/indexing.html#indexing-view-versus-copy\n",
      "  errors=errors)\n"
     ]
    }
   ],
   "source": [
    "flag = True\n",
    "\n",
    "if flag:\n",
    "    target = data.target.values\n",
    "    data.drop(\"target\",axis = 1,inplace = True)\n",
    "    data = data.values"
   ]
  },
  {
   "cell_type": "markdown",
   "metadata": {},
   "source": [
    "根据阶数整理数据"
   ]
  },
  {
   "cell_type": "code",
   "execution_count": 17,
   "metadata": {
    "ExecuteTime": {
     "end_time": "2018-07-28T08:20:31.974284Z",
     "start_time": "2018-07-28T08:20:31.939638Z"
    }
   },
   "outputs": [],
   "source": [
    "n_order = 30\n",
    "data,target = order_reshape(data,target,n_order)"
   ]
  },
  {
   "cell_type": "code",
   "execution_count": 18,
   "metadata": {
    "ExecuteTime": {
     "end_time": "2018-07-28T08:20:49.298537Z",
     "start_time": "2018-07-28T08:20:49.294315Z"
    }
   },
   "outputs": [
    {
     "data": {
      "text/plain": [
       "((9530, 750), (9530,))"
      ]
     },
     "execution_count": 18,
     "metadata": {},
     "output_type": "execute_result"
    }
   ],
   "source": [
    "data.shape,target.shape"
   ]
  },
  {
   "cell_type": "markdown",
   "metadata": {},
   "source": [
    "### 保存数据"
   ]
  },
  {
   "cell_type": "code",
   "execution_count": 19,
   "metadata": {
    "ExecuteTime": {
     "end_time": "2018-07-28T08:20:54.303147Z",
     "start_time": "2018-07-28T08:20:53.857727Z"
    }
   },
   "outputs": [],
   "source": [
    "np.save(\"data/data.npy\",data)\n",
    "np.save(\"data/target.npy\",target)"
   ]
  },
  {
   "cell_type": "markdown",
   "metadata": {},
   "source": [
    "### 载入数据"
   ]
  },
  {
   "cell_type": "code",
   "execution_count": 7,
   "metadata": {
    "ExecuteTime": {
     "end_time": "2018-08-02T02:24:19.799767Z",
     "start_time": "2018-08-02T02:24:19.250740Z"
    }
   },
   "outputs": [],
   "source": [
    "data = np.load(\"data/data.npy\")\n",
    "target = np.load(\"data/target.npy\")"
   ]
  },
  {
   "cell_type": "code",
   "execution_count": 7,
   "metadata": {
    "ExecuteTime": {
     "end_time": "2018-07-28T11:06:08.831695Z",
     "start_time": "2018-07-28T11:06:08.825503Z"
    }
   },
   "outputs": [
    {
     "data": {
      "text/plain": [
       "((9530, 750), (9530,))"
      ]
     },
     "execution_count": 7,
     "metadata": {},
     "output_type": "execute_result"
    }
   ],
   "source": [
    "data.shape,target.shape"
   ]
  },
  {
   "cell_type": "markdown",
   "metadata": {},
   "source": [
    "## DNN"
   ]
  },
  {
   "cell_type": "markdown",
   "metadata": {},
   "source": [
    "### 特征提取"
   ]
  },
  {
   "cell_type": "code",
   "execution_count": 7,
   "metadata": {
    "ExecuteTime": {
     "end_time": "2018-08-06T02:36:19.737512Z",
     "start_time": "2018-08-06T02:36:19.639422Z"
    },
    "init_cell": true
   },
   "outputs": [],
   "source": [
    " def extract_feature(data,n_order):\n",
    "    \"\"\"\n",
    "        时序特征提取，提取最大值，最小值，方差，均值，4分位数\n",
    "        Args:\n",
    "            data:\n",
    "            n_order:    阶数\n",
    "        Return:\n",
    "            4分位数,最大值，最小值，均值，方差\n",
    "    \"\"\"\n",
    "    feature_extracts = list()   #保存提取的特征的list\n",
    "    \n",
    "    n_row,n_col = data.shape\n",
    "    for i,sub_data in enumerate(data):\n",
    "        sub_feature = list()    #保存单个块数据的特征提取\n",
    "        sub_data.shape = (-1,int(n_col / n_order))\n",
    "        \n",
    "        #4分位数\n",
    "        quantiles_point = np.linspace(start = 25,stop = 100,num = 3,endpoint = False)\n",
    "        quantiles = np.percentile(sub_data,quantiles_point,axis = 0)\n",
    "        quantiles = quantiles.flatten()\n",
    "        sub_feature.extend(quantiles)\n",
    "        \n",
    "        #最大值,最小值\n",
    "        max_num,min_num = np.max(sub_data,axis = 0),np.min(sub_data,axis = 0)\n",
    "        sub_feature.extend(max_num)\n",
    "        sub_feature.extend(min_num)\n",
    "        \n",
    "        #均值，方差\n",
    "        mean_num,var_num = np.mean(sub_data,axis = 0),np.var(sub_data,axis = 0)\n",
    "        sub_feature.extend(mean_num)\n",
    "        sub_feature.extend(var_num)\n",
    "        \n",
    "        feature_extracts.append(sub_feature)\n",
    "        \n",
    "    return np.asarray(feature_extracts)\n",
    "        \n",
    "        "
   ]
  },
  {
   "cell_type": "code",
   "execution_count": 10,
   "metadata": {
    "ExecuteTime": {
     "end_time": "2018-07-28T11:07:49.090070Z",
     "start_time": "2018-07-28T11:07:46.650773Z"
    }
   },
   "outputs": [
    {
     "data": {
      "text/plain": [
       "(9530, 175)"
      ]
     },
     "execution_count": 10,
     "metadata": {},
     "output_type": "execute_result"
    }
   ],
   "source": [
    "n_order = 30\n",
    "\n",
    "extract_data = extract_feature(data,n_order)\n",
    "extract_data.shape"
   ]
  },
  {
   "cell_type": "code",
   "execution_count": 11,
   "metadata": {
    "ExecuteTime": {
     "end_time": "2018-07-28T11:07:53.379876Z",
     "start_time": "2018-07-28T11:07:52.949013Z"
    }
   },
   "outputs": [],
   "source": [
    "from sklearn.model_selection import train_test_split\n",
    "X_train, X_test, y_train, y_test  = train_test_split(extract_data,target,shuffle = True,test_size = 0.1,random_state = 1)"
   ]
  },
  {
   "cell_type": "markdown",
   "metadata": {},
   "source": [
    "### 超参数"
   ]
  },
  {
   "cell_type": "code",
   "execution_count": 203,
   "metadata": {
    "ExecuteTime": {
     "end_time": "2018-07-29T08:01:10.786896Z",
     "start_time": "2018-07-29T08:01:10.760325Z"
    }
   },
   "outputs": [
    {
     "ename": "NameError",
     "evalue": "name 'extract_data' is not defined",
     "output_type": "error",
     "traceback": [
      "\u001b[0;31m------------------------------------------------\u001b[0m",
      "\u001b[0;31mNameError\u001b[0m      Traceback (most recent call last)",
      "\u001b[0;32m<ipython-input-203-d64cf6197486>\u001b[0m in \u001b[0;36m<module>\u001b[0;34m()\u001b[0m\n\u001b[0;32m----> 1\u001b[0;31m \u001b[0minput_dim\u001b[0m \u001b[0;34m=\u001b[0m \u001b[0mextract_data\u001b[0m\u001b[0;34m.\u001b[0m\u001b[0mshape\u001b[0m\u001b[0;34m[\u001b[0m\u001b[0;36m1\u001b[0m\u001b[0;34m]\u001b[0m\u001b[0;34m\u001b[0m\u001b[0m\n\u001b[0m\u001b[1;32m      2\u001b[0m \u001b[0mhidden_units\u001b[0m \u001b[0;34m=\u001b[0m \u001b[0;34m[\u001b[0m\u001b[0;36m512\u001b[0m\u001b[0;34m,\u001b[0m\u001b[0;36m128\u001b[0m\u001b[0;34m]\u001b[0m\u001b[0;34m\u001b[0m\u001b[0m\n\u001b[1;32m      3\u001b[0m \u001b[0mlr\u001b[0m \u001b[0;34m=\u001b[0m \u001b[0;36m0.05\u001b[0m\u001b[0;34m\u001b[0m\u001b[0m\n\u001b[1;32m      4\u001b[0m \u001b[0mn_batch\u001b[0m \u001b[0;34m=\u001b[0m \u001b[0;36m512\u001b[0m\u001b[0;34m\u001b[0m\u001b[0m\n\u001b[1;32m      5\u001b[0m \u001b[0mn_epoch\u001b[0m \u001b[0;34m=\u001b[0m \u001b[0;36m100\u001b[0m\u001b[0;34m\u001b[0m\u001b[0m\n",
      "\u001b[0;31mNameError\u001b[0m: name 'extract_data' is not defined"
     ]
    }
   ],
   "source": [
    "input_dim = extract_data.shape[1]\n",
    "hidden_units = [512,128]\n",
    "lr = 0.05\n",
    "n_batch = 512\n",
    "n_epoch = 100"
   ]
  },
  {
   "cell_type": "markdown",
   "metadata": {},
   "source": [
    "### 模型构建"
   ]
  },
  {
   "cell_type": "code",
   "execution_count": 33,
   "metadata": {
    "ExecuteTime": {
     "end_time": "2018-07-28T11:29:39.991486Z",
     "start_time": "2018-07-28T11:29:39.983751Z"
    }
   },
   "outputs": [],
   "source": [
    "import keras.backend as K\n",
    "from keras.models import Sequential\n",
    "from keras.layers import Input\n",
    "from keras.layers import BatchNormalization\n",
    "from keras.layers import Dropout\n",
    "from keras.layers import Dense\n",
    "from keras.models import Model\n",
    "from keras.layers import Activation\n",
    "from keras.optimizers import Adam\n",
    "from keras.losses import binary_crossentropy\n",
    "\n",
    "def build_dnn_model(input_dim,hidden_layers):\n",
    "    \"\"\"\n",
    "        DNN网络的主体\n",
    "        Args:\n",
    "            hidden_layers:   隐藏层的list\n",
    "            input_dim:    输入维数\n",
    "    \"\"\"\n",
    "    #输入层\n",
    "    input_layer = Input(shape = (input_dim,),name = \"input_layer\")\n",
    "    net_layer = input_layer\n",
    "    \n",
    "    #建立隐藏层\n",
    "    for i,unit in enumerate(hidden_layers):\n",
    "        net_layer = Dense(\n",
    "                        units = unit,\n",
    "                        activation = None,\n",
    "                        name = \"hidden_layer_{}\".format(i+1))(net_layer)\n",
    "        net_layer = BatchNormalization(name = \"batchnorm_{}\".format(i))(net_layer)\n",
    "        net_layer = Activation(activation = \"relu\")(net_layer)\n",
    "        net_layer = Dropout(rate = 0.8)(net_layer)\n",
    "        \n",
    "    #输出层\n",
    "    out_layer = Dense(units = 1,activation = \"sigmoid\",name = \"out_layer\")(net_layer)\n",
    "    \n",
    "    model = Model(inputs = input_layer,outputs = out_layer,name = \"DNN\")\n",
    "    return model"
   ]
  },
  {
   "cell_type": "code",
   "execution_count": 34,
   "metadata": {
    "ExecuteTime": {
     "end_time": "2018-07-28T11:29:50.334696Z",
     "start_time": "2018-07-28T11:29:50.020228Z"
    }
   },
   "outputs": [
    {
     "name": "stdout",
     "output_type": "stream",
     "text": [
      "_________________________________________________________________\n",
      "Layer (type)                 Output Shape              Param #   \n",
      "=================================================================\n",
      "input_layer (InputLayer)     (None, 175)               0         \n",
      "_________________________________________________________________\n",
      "hidden_layer_1 (Dense)       (None, 512)               90112     \n",
      "_________________________________________________________________\n",
      "batchnorm_0 (BatchNormalizat (None, 512)               2048      \n",
      "_________________________________________________________________\n",
      "activation_7 (Activation)    (None, 512)               0         \n",
      "_________________________________________________________________\n",
      "dropout_7 (Dropout)          (None, 512)               0         \n",
      "_________________________________________________________________\n",
      "hidden_layer_2 (Dense)       (None, 128)               65664     \n",
      "_________________________________________________________________\n",
      "batchnorm_1 (BatchNormalizat (None, 128)               512       \n",
      "_________________________________________________________________\n",
      "activation_8 (Activation)    (None, 128)               0         \n",
      "_________________________________________________________________\n",
      "dropout_8 (Dropout)          (None, 128)               0         \n",
      "_________________________________________________________________\n",
      "out_layer (Dense)            (None, 1)                 129       \n",
      "=================================================================\n",
      "Total params: 158,465\n",
      "Trainable params: 157,185\n",
      "Non-trainable params: 1,280\n",
      "_________________________________________________________________\n"
     ]
    }
   ],
   "source": [
    "from keras.utils import vis_utils\n",
    "\n",
    "dnn_model = build_dnn_model(input_dim = input_dim,hidden_layers = hidden_units)\n",
    "vis_utils.plot_model(\n",
    "                model = dnn_model,\n",
    "                to_file = \"images/DNN.png\",\n",
    "                show_layer_names = True,\n",
    "                show_shapes=True)\n",
    "dnn_model.summary()"
   ]
  },
  {
   "cell_type": "markdown",
   "metadata": {},
   "source": [
    "### 模型训练"
   ]
  },
  {
   "cell_type": "code",
   "execution_count": 119,
   "metadata": {
    "ExecuteTime": {
     "end_time": "2018-07-28T14:22:16.977907Z",
     "start_time": "2018-07-28T14:22:11.834980Z"
    }
   },
   "outputs": [],
   "source": [
    "from keras.models import load_model\n",
    "\n",
    "dnn_model = load_model(\"model/dnn.h5\")"
   ]
  },
  {
   "cell_type": "code",
   "execution_count": 39,
   "metadata": {
    "ExecuteTime": {
     "end_time": "2018-07-28T11:35:01.024172Z",
     "start_time": "2018-07-28T11:32:49.770302Z"
    },
    "scrolled": true
   },
   "outputs": [
    {
     "name": "stdout",
     "output_type": "stream",
     "text": [
      "Train on 8577 samples, validate on 953 samples\n",
      "Epoch 1/200\n",
      "8577/8577 [==============================] - 1s 126us/step - loss: 0.1752 - acc: 0.9241 - val_loss: 0.7546 - val_acc: 0.7723\n",
      "Epoch 2/200\n",
      "8577/8577 [==============================] - 1s 79us/step - loss: 0.1703 - acc: 0.9303 - val_loss: 0.7630 - val_acc: 0.7796\n",
      "Epoch 3/200\n",
      "8577/8577 [==============================] - 1s 74us/step - loss: 0.1790 - acc: 0.9236 - val_loss: 0.8047 - val_acc: 0.7744\n",
      "Epoch 4/200\n",
      "8577/8577 [==============================] - 1s 77us/step - loss: 0.1626 - acc: 0.9311 - val_loss: 0.7338 - val_acc: 0.7849\n",
      "Epoch 5/200\n",
      "8577/8577 [==============================] - 1s 75us/step - loss: 0.1621 - acc: 0.9299 - val_loss: 0.7569 - val_acc: 0.7828\n",
      "Epoch 6/200\n",
      "8577/8577 [==============================] - 1s 71us/step - loss: 0.1678 - acc: 0.9260 - val_loss: 0.7741 - val_acc: 0.8027\n",
      "Epoch 7/200\n",
      "8577/8577 [==============================] - 1s 75us/step - loss: 0.1621 - acc: 0.9281 - val_loss: 0.8037 - val_acc: 0.7712\n",
      "Epoch 8/200\n",
      "8577/8577 [==============================] - 1s 93us/step - loss: 0.1714 - acc: 0.9254 - val_loss: 0.7619 - val_acc: 0.8006\n",
      "Epoch 9/200\n",
      "8577/8577 [==============================] - 1s 82us/step - loss: 0.1611 - acc: 0.9305 - val_loss: 0.7736 - val_acc: 0.7943\n",
      "Epoch 10/200\n",
      "8577/8577 [==============================] - 1s 95us/step - loss: 0.1742 - acc: 0.9244 - val_loss: 0.8042 - val_acc: 0.7723\n",
      "Epoch 11/200\n",
      "8577/8577 [==============================] - 1s 72us/step - loss: 0.1691 - acc: 0.9279 - val_loss: 0.7585 - val_acc: 0.7922\n",
      "Epoch 12/200\n",
      "8577/8577 [==============================] - 1s 77us/step - loss: 0.1790 - acc: 0.9251 - val_loss: 0.7195 - val_acc: 0.7901\n",
      "Epoch 13/200\n",
      "8577/8577 [==============================] - 1s 68us/step - loss: 0.1770 - acc: 0.9258 - val_loss: 0.7053 - val_acc: 0.7891\n",
      "Epoch 14/200\n",
      "8577/8577 [==============================] - 1s 65us/step - loss: 0.1623 - acc: 0.9325 - val_loss: 0.8018 - val_acc: 0.7838\n",
      "Epoch 15/200\n",
      "8577/8577 [==============================] - 1s 68us/step - loss: 0.1660 - acc: 0.9333 - val_loss: 0.7822 - val_acc: 0.7608\n",
      "Epoch 16/200\n",
      "8577/8577 [==============================] - 1s 78us/step - loss: 0.1740 - acc: 0.9274 - val_loss: 0.7716 - val_acc: 0.7880\n",
      "Epoch 17/200\n",
      "8577/8577 [==============================] - 1s 67us/step - loss: 0.1613 - acc: 0.9327 - val_loss: 0.8353 - val_acc: 0.7702\n",
      "Epoch 18/200\n",
      "8577/8577 [==============================] - 1s 65us/step - loss: 0.1710 - acc: 0.9311 - val_loss: 0.8095 - val_acc: 0.7671\n",
      "Epoch 19/200\n",
      "8577/8577 [==============================] - 1s 80us/step - loss: 0.1626 - acc: 0.9317 - val_loss: 0.7868 - val_acc: 0.7796\n",
      "Epoch 20/200\n",
      "8577/8577 [==============================] - 1s 64us/step - loss: 0.1768 - acc: 0.9237 - val_loss: 0.7569 - val_acc: 0.7796\n",
      "Epoch 21/200\n",
      "8577/8577 [==============================] - 1s 74us/step - loss: 0.1664 - acc: 0.9313 - val_loss: 0.7780 - val_acc: 0.7775\n",
      "Epoch 22/200\n",
      "8577/8577 [==============================] - 1s 76us/step - loss: 0.1612 - acc: 0.9325 - val_loss: 0.7636 - val_acc: 0.7891\n",
      "Epoch 23/200\n",
      "8577/8577 [==============================] - 1s 74us/step - loss: 0.1686 - acc: 0.9316 - val_loss: 0.8177 - val_acc: 0.7796\n",
      "Epoch 24/200\n",
      "8577/8577 [==============================] - 1s 70us/step - loss: 0.1627 - acc: 0.9314 - val_loss: 0.8046 - val_acc: 0.7754\n",
      "Epoch 25/200\n",
      "8577/8577 [==============================] - 1s 96us/step - loss: 0.1686 - acc: 0.9309 - val_loss: 0.7836 - val_acc: 0.7817\n",
      "Epoch 26/200\n",
      "8577/8577 [==============================] - 1s 82us/step - loss: 0.1664 - acc: 0.9279 - val_loss: 0.7507 - val_acc: 0.7901\n",
      "Epoch 27/200\n",
      "8577/8577 [==============================] - 1s 77us/step - loss: 0.1708 - acc: 0.9263 - val_loss: 0.7727 - val_acc: 0.7775\n",
      "Epoch 28/200\n",
      "8577/8577 [==============================] - 1s 97us/step - loss: 0.1626 - acc: 0.9326 - val_loss: 0.7608 - val_acc: 0.7817\n",
      "Epoch 29/200\n",
      "8577/8577 [==============================] - 1s 90us/step - loss: 0.1738 - acc: 0.9241 - val_loss: 0.7658 - val_acc: 0.7859\n",
      "Epoch 30/200\n",
      "8577/8577 [==============================] - 1s 78us/step - loss: 0.1681 - acc: 0.9291 - val_loss: 0.7489 - val_acc: 0.7943\n",
      "Epoch 31/200\n",
      "8577/8577 [==============================] - 1s 78us/step - loss: 0.1707 - acc: 0.9288 - val_loss: 0.7747 - val_acc: 0.7828\n",
      "Epoch 32/200\n",
      "8577/8577 [==============================] - 1s 78us/step - loss: 0.1663 - acc: 0.9300 - val_loss: 0.7314 - val_acc: 0.7933\n",
      "Epoch 33/200\n",
      "8577/8577 [==============================] - 1s 76us/step - loss: 0.1734 - acc: 0.9276 - val_loss: 0.7948 - val_acc: 0.7901\n",
      "Epoch 34/200\n",
      "8577/8577 [==============================] - 1s 78us/step - loss: 0.1644 - acc: 0.9325 - val_loss: 0.7823 - val_acc: 0.7660\n",
      "Epoch 35/200\n",
      "8577/8577 [==============================] - 1s 70us/step - loss: 0.1669 - acc: 0.9279 - val_loss: 0.7922 - val_acc: 0.7639\n",
      "Epoch 36/200\n",
      "8577/8577 [==============================] - 1s 74us/step - loss: 0.1761 - acc: 0.9260 - val_loss: 0.7723 - val_acc: 0.7817\n",
      "Epoch 37/200\n",
      "8577/8577 [==============================] - 1s 77us/step - loss: 0.1831 - acc: 0.9256 - val_loss: 0.8017 - val_acc: 0.7671\n",
      "Epoch 38/200\n",
      "8577/8577 [==============================] - 1s 75us/step - loss: 0.1723 - acc: 0.9257 - val_loss: 0.8102 - val_acc: 0.7681\n",
      "Epoch 39/200\n",
      "8577/8577 [==============================] - 1s 71us/step - loss: 0.1812 - acc: 0.9255 - val_loss: 0.8032 - val_acc: 0.7702\n",
      "Epoch 40/200\n",
      "8577/8577 [==============================] - 1s 82us/step - loss: 0.1741 - acc: 0.9286 - val_loss: 0.7486 - val_acc: 0.7912\n",
      "Epoch 41/200\n",
      "8577/8577 [==============================] - 1s 80us/step - loss: 0.1649 - acc: 0.9328 - val_loss: 0.7730 - val_acc: 0.7754\n",
      "Epoch 42/200\n",
      "8577/8577 [==============================] - 1s 74us/step - loss: 0.1675 - acc: 0.9330 - val_loss: 0.7825 - val_acc: 0.7775\n",
      "Epoch 43/200\n",
      "8577/8577 [==============================] - 1s 77us/step - loss: 0.1674 - acc: 0.9339 - val_loss: 0.7397 - val_acc: 0.7870\n",
      "Epoch 44/200\n",
      "8577/8577 [==============================] - 1s 72us/step - loss: 0.1624 - acc: 0.9349 - val_loss: 0.7624 - val_acc: 0.7849\n",
      "Epoch 45/200\n",
      "8577/8577 [==============================] - 1s 74us/step - loss: 0.1577 - acc: 0.9346 - val_loss: 0.7598 - val_acc: 0.7849\n",
      "Epoch 46/200\n",
      "8577/8577 [==============================] - 1s 79us/step - loss: 0.1735 - acc: 0.9248 - val_loss: 0.7351 - val_acc: 0.7754\n",
      "Epoch 47/200\n",
      "8577/8577 [==============================] - 1s 73us/step - loss: 0.1671 - acc: 0.9291 - val_loss: 0.7577 - val_acc: 0.7964\n",
      "Epoch 48/200\n",
      "8577/8577 [==============================] - 1s 73us/step - loss: 0.1760 - acc: 0.9288 - val_loss: 0.8196 - val_acc: 0.7660\n",
      "Epoch 49/200\n",
      "8577/8577 [==============================] - 1s 74us/step - loss: 0.1625 - acc: 0.9316 - val_loss: 0.7527 - val_acc: 0.7901\n",
      "Epoch 50/200\n",
      "8577/8577 [==============================] - 1s 74us/step - loss: 0.1741 - acc: 0.9285 - val_loss: 0.7865 - val_acc: 0.7838\n",
      "Epoch 51/200\n",
      "8577/8577 [==============================] - 1s 73us/step - loss: 0.1652 - acc: 0.9268 - val_loss: 0.8095 - val_acc: 0.7796\n",
      "Epoch 52/200\n",
      "8577/8577 [==============================] - 1s 82us/step - loss: 0.1611 - acc: 0.9324 - val_loss: 0.7828 - val_acc: 0.7922\n",
      "Epoch 53/200\n",
      "8577/8577 [==============================] - 1s 81us/step - loss: 0.1660 - acc: 0.9292 - val_loss: 0.7981 - val_acc: 0.7912\n",
      "Epoch 54/200\n",
      "8577/8577 [==============================] - 1s 88us/step - loss: 0.1718 - acc: 0.9276 - val_loss: 0.7765 - val_acc: 0.7922\n",
      "Epoch 55/200\n",
      "8577/8577 [==============================] - 1s 72us/step - loss: 0.1725 - acc: 0.9264 - val_loss: 0.8500 - val_acc: 0.7629\n",
      "Epoch 56/200\n",
      "8577/8577 [==============================] - 1s 76us/step - loss: 0.1619 - acc: 0.9327 - val_loss: 0.7839 - val_acc: 0.7859\n",
      "Epoch 57/200\n",
      "8577/8577 [==============================] - 1s 85us/step - loss: 0.1608 - acc: 0.9323 - val_loss: 0.7570 - val_acc: 0.7838\n",
      "Epoch 58/200\n",
      "8577/8577 [==============================] - 1s 86us/step - loss: 0.1754 - acc: 0.9262 - val_loss: 0.7766 - val_acc: 0.7786\n",
      "Epoch 59/200\n",
      "8577/8577 [==============================] - 1s 66us/step - loss: 0.1706 - acc: 0.9274 - val_loss: 0.7810 - val_acc: 0.7786\n",
      "Epoch 60/200\n",
      "8577/8577 [==============================] - 1s 66us/step - loss: 0.1730 - acc: 0.9276 - val_loss: 0.7792 - val_acc: 0.7723\n",
      "Epoch 61/200\n",
      "8577/8577 [==============================] - 1s 64us/step - loss: 0.1684 - acc: 0.9275 - val_loss: 0.7552 - val_acc: 0.7723\n",
      "Epoch 62/200\n",
      "8577/8577 [==============================] - 1s 65us/step - loss: 0.1654 - acc: 0.9277 - val_loss: 0.7310 - val_acc: 0.7786\n",
      "Epoch 63/200\n",
      "8577/8577 [==============================] - 1s 63us/step - loss: 0.1683 - acc: 0.9303 - val_loss: 0.7506 - val_acc: 0.7828\n",
      "Epoch 64/200\n",
      "8577/8577 [==============================] - 1s 62us/step - loss: 0.1663 - acc: 0.9300 - val_loss: 0.8296 - val_acc: 0.7723\n",
      "Epoch 65/200\n",
      "8577/8577 [==============================] - 1s 66us/step - loss: 0.1640 - acc: 0.9307 - val_loss: 0.7869 - val_acc: 0.7744\n",
      "Epoch 66/200\n",
      "8577/8577 [==============================] - 1s 62us/step - loss: 0.1662 - acc: 0.9233 - val_loss: 0.7498 - val_acc: 0.7912\n",
      "Epoch 67/200\n",
      "8577/8577 [==============================] - 1s 62us/step - loss: 0.1670 - acc: 0.9311 - val_loss: 0.7855 - val_acc: 0.7891\n",
      "Epoch 68/200\n",
      "8577/8577 [==============================] - 1s 66us/step - loss: 0.1733 - acc: 0.9260 - val_loss: 0.8336 - val_acc: 0.7765\n",
      "Epoch 69/200\n",
      "8577/8577 [==============================] - 1s 66us/step - loss: 0.1705 - acc: 0.9296 - val_loss: 0.8864 - val_acc: 0.7681\n",
      "Epoch 70/200\n",
      "8577/8577 [==============================] - 1s 61us/step - loss: 0.1706 - acc: 0.9295 - val_loss: 0.7640 - val_acc: 0.7870\n",
      "Epoch 71/200\n",
      "8577/8577 [==============================] - 1s 82us/step - loss: 0.1693 - acc: 0.9270 - val_loss: 0.7651 - val_acc: 0.7786\n",
      "Epoch 72/200\n",
      "8577/8577 [==============================] - 1s 123us/step - loss: 0.1666 - acc: 0.9292 - val_loss: 0.8498 - val_acc: 0.7671\n",
      "Epoch 73/200\n",
      "8577/8577 [==============================] - 1s 92us/step - loss: 0.1619 - acc: 0.9321 - val_loss: 0.7841 - val_acc: 0.7954\n",
      "Epoch 74/200\n",
      "8577/8577 [==============================] - 1s 78us/step - loss: 0.1694 - acc: 0.9310 - val_loss: 0.8098 - val_acc: 0.7796\n",
      "Epoch 75/200\n",
      "8577/8577 [==============================] - 1s 63us/step - loss: 0.1669 - acc: 0.9319 - val_loss: 0.8317 - val_acc: 0.7712\n",
      "Epoch 76/200\n",
      "8577/8577 [==============================] - 1s 62us/step - loss: 0.1648 - acc: 0.9298 - val_loss: 0.8250 - val_acc: 0.7744\n",
      "Epoch 77/200\n",
      "8577/8577 [==============================] - 1s 62us/step - loss: 0.1722 - acc: 0.9277 - val_loss: 0.7934 - val_acc: 0.7712\n",
      "Epoch 78/200\n",
      "8577/8577 [==============================] - 1s 64us/step - loss: 0.1633 - acc: 0.9327 - val_loss: 0.7590 - val_acc: 0.7901\n",
      "Epoch 79/200\n",
      "8577/8577 [==============================] - 1s 68us/step - loss: 0.1652 - acc: 0.9303 - val_loss: 0.7369 - val_acc: 0.7933\n",
      "Epoch 80/200\n",
      "8577/8577 [==============================] - 1s 64us/step - loss: 0.1681 - acc: 0.9321 - val_loss: 0.7979 - val_acc: 0.7671\n",
      "Epoch 81/200\n",
      "8577/8577 [==============================] - 1s 69us/step - loss: 0.1580 - acc: 0.9339 - val_loss: 0.7813 - val_acc: 0.7817\n",
      "Epoch 82/200\n",
      "8577/8577 [==============================] - 1s 116us/step - loss: 0.1697 - acc: 0.9311 - val_loss: 0.7647 - val_acc: 0.7796\n",
      "Epoch 83/200\n",
      "8577/8577 [==============================] - 1s 114us/step - loss: 0.1640 - acc: 0.9332 - val_loss: 0.7452 - val_acc: 0.7870\n",
      "Epoch 84/200\n",
      "8577/8577 [==============================] - 1s 92us/step - loss: 0.1566 - acc: 0.9354 - val_loss: 0.8770 - val_acc: 0.7639\n",
      "Epoch 85/200\n",
      "8577/8577 [==============================] - 1s 70us/step - loss: 0.1816 - acc: 0.9264 - val_loss: 0.9324 - val_acc: 0.7629\n",
      "Epoch 86/200\n",
      "8577/8577 [==============================] - 1s 70us/step - loss: 0.1719 - acc: 0.9319 - val_loss: 0.7989 - val_acc: 0.7870\n",
      "Epoch 87/200\n",
      "8577/8577 [==============================] - 1s 63us/step - loss: 0.1780 - acc: 0.9281 - val_loss: 0.9001 - val_acc: 0.7618\n",
      "Epoch 88/200\n",
      "8577/8577 [==============================] - 1s 67us/step - loss: 0.1657 - acc: 0.9299 - val_loss: 0.8150 - val_acc: 0.7817\n",
      "Epoch 89/200\n",
      "8577/8577 [==============================] - 1s 73us/step - loss: 0.1670 - acc: 0.9282 - val_loss: 0.8940 - val_acc: 0.7566\n",
      "Epoch 90/200\n",
      "8577/8577 [==============================] - 1s 62us/step - loss: 0.1678 - acc: 0.9299 - val_loss: 0.7448 - val_acc: 0.7838\n",
      "Epoch 91/200\n",
      "8577/8577 [==============================] - 1s 61us/step - loss: 0.1579 - acc: 0.9346 - val_loss: 0.7727 - val_acc: 0.7880\n",
      "Epoch 92/200\n",
      "8577/8577 [==============================] - 1s 66us/step - loss: 0.1603 - acc: 0.9319 - val_loss: 0.8343 - val_acc: 0.7859\n",
      "Epoch 93/200\n",
      "8577/8577 [==============================] - 1s 66us/step - loss: 0.1636 - acc: 0.9311 - val_loss: 0.7538 - val_acc: 0.8006\n",
      "Epoch 94/200\n",
      "8577/8577 [==============================] - 1s 60us/step - loss: 0.1709 - acc: 0.9300 - val_loss: 0.7444 - val_acc: 0.7912\n",
      "Epoch 95/200\n",
      "8577/8577 [==============================] - 1s 62us/step - loss: 0.1549 - acc: 0.9347 - val_loss: 0.7884 - val_acc: 0.7681\n",
      "Epoch 96/200\n",
      "8577/8577 [==============================] - 1s 66us/step - loss: 0.1701 - acc: 0.9267 - val_loss: 0.7876 - val_acc: 0.7891\n",
      "Epoch 97/200\n",
      "8577/8577 [==============================] - 1s 64us/step - loss: 0.1631 - acc: 0.9307 - val_loss: 0.7468 - val_acc: 0.7807\n",
      "Epoch 98/200\n",
      "8577/8577 [==============================] - 1s 63us/step - loss: 0.1665 - acc: 0.9325 - val_loss: 0.7673 - val_acc: 0.7754\n",
      "Epoch 99/200\n",
      "8577/8577 [==============================] - 1s 63us/step - loss: 0.1690 - acc: 0.9275 - val_loss: 0.8200 - val_acc: 0.7775\n",
      "Epoch 100/200\n",
      "8577/8577 [==============================] - 1s 63us/step - loss: 0.1751 - acc: 0.9248 - val_loss: 0.8110 - val_acc: 0.7629\n",
      "Epoch 101/200\n",
      "8577/8577 [==============================] - 1s 62us/step - loss: 0.1653 - acc: 0.9285 - val_loss: 0.7583 - val_acc: 0.7796\n",
      "Epoch 102/200\n",
      "8577/8577 [==============================] - 1s 66us/step - loss: 0.1630 - acc: 0.9320 - val_loss: 0.7390 - val_acc: 0.7817\n",
      "Epoch 103/200\n",
      "8577/8577 [==============================] - 1s 64us/step - loss: 0.1738 - acc: 0.9241 - val_loss: 0.7493 - val_acc: 0.7859\n",
      "Epoch 104/200\n",
      "8577/8577 [==============================] - 1s 79us/step - loss: 0.1657 - acc: 0.9298 - val_loss: 0.7808 - val_acc: 0.7681\n",
      "Epoch 105/200\n",
      "8577/8577 [==============================] - 1s 59us/step - loss: 0.1678 - acc: 0.9299 - val_loss: 0.7447 - val_acc: 0.7922\n",
      "Epoch 106/200\n",
      "8577/8577 [==============================] - 1s 69us/step - loss: 0.1725 - acc: 0.9269 - val_loss: 0.7649 - val_acc: 0.7744\n",
      "Epoch 107/200\n",
      "8577/8577 [==============================] - 1s 63us/step - loss: 0.1683 - acc: 0.9286 - val_loss: 0.7727 - val_acc: 0.7838\n",
      "Epoch 108/200\n",
      "8577/8577 [==============================] - 1s 66us/step - loss: 0.1663 - acc: 0.9283 - val_loss: 0.7994 - val_acc: 0.7692\n",
      "Epoch 109/200\n",
      "8577/8577 [==============================] - 1s 64us/step - loss: 0.1623 - acc: 0.9276 - val_loss: 0.8252 - val_acc: 0.7723\n",
      "Epoch 110/200\n",
      "8577/8577 [==============================] - 1s 60us/step - loss: 0.1697 - acc: 0.9305 - val_loss: 0.7800 - val_acc: 0.7859\n",
      "Epoch 111/200\n",
      "8577/8577 [==============================] - 1s 62us/step - loss: 0.1590 - acc: 0.9302 - val_loss: 0.7894 - val_acc: 0.7901\n",
      "Epoch 112/200\n",
      "8577/8577 [==============================] - 1s 63us/step - loss: 0.1645 - acc: 0.9289 - val_loss: 0.8043 - val_acc: 0.7807\n",
      "Epoch 113/200\n",
      "8577/8577 [==============================] - 1s 60us/step - loss: 0.1696 - acc: 0.9276 - val_loss: 0.7594 - val_acc: 0.7807\n",
      "Epoch 114/200\n",
      "8577/8577 [==============================] - 1s 68us/step - loss: 0.1745 - acc: 0.9240 - val_loss: 0.7870 - val_acc: 0.7786\n",
      "Epoch 115/200\n",
      "8577/8577 [==============================] - 1s 75us/step - loss: 0.1685 - acc: 0.9275 - val_loss: 0.7659 - val_acc: 0.7891\n",
      "Epoch 116/200\n",
      "8577/8577 [==============================] - 1s 77us/step - loss: 0.1698 - acc: 0.9284 - val_loss: 0.7359 - val_acc: 0.7912\n",
      "Epoch 117/200\n",
      "8577/8577 [==============================] - 1s 75us/step - loss: 0.1632 - acc: 0.9271 - val_loss: 0.8196 - val_acc: 0.7639\n",
      "Epoch 118/200\n",
      "8577/8577 [==============================] - 1s 82us/step - loss: 0.1681 - acc: 0.9319 - val_loss: 0.7643 - val_acc: 0.7891\n",
      "Epoch 119/200\n",
      "8577/8577 [==============================] - 1s 81us/step - loss: 0.1721 - acc: 0.9303 - val_loss: 0.7884 - val_acc: 0.7765\n"
     ]
    },
    {
     "name": "stdout",
     "output_type": "stream",
     "text": [
      "Epoch 120/200\n",
      "8577/8577 [==============================] - 1s 101us/step - loss: 0.1706 - acc: 0.9264 - val_loss: 0.7486 - val_acc: 0.7870\n",
      "Epoch 121/200\n",
      "8577/8577 [==============================] - 1s 95us/step - loss: 0.1629 - acc: 0.9348 - val_loss: 0.7934 - val_acc: 0.7765\n",
      "Epoch 122/200\n",
      "8577/8577 [==============================] - 1s 78us/step - loss: 0.1689 - acc: 0.9309 - val_loss: 0.8136 - val_acc: 0.7796\n",
      "Epoch 123/200\n",
      "8577/8577 [==============================] - 1s 74us/step - loss: 0.1636 - acc: 0.9309 - val_loss: 0.8176 - val_acc: 0.7901\n",
      "Epoch 124/200\n",
      "8577/8577 [==============================] - 1s 73us/step - loss: 0.1651 - acc: 0.9314 - val_loss: 0.7746 - val_acc: 0.7838\n",
      "Epoch 125/200\n",
      "8577/8577 [==============================] - 1s 76us/step - loss: 0.1697 - acc: 0.9289 - val_loss: 0.7697 - val_acc: 0.7754\n",
      "Epoch 126/200\n",
      "8577/8577 [==============================] - 1s 74us/step - loss: 0.1682 - acc: 0.9272 - val_loss: 0.7974 - val_acc: 0.7671\n",
      "Epoch 127/200\n",
      "8577/8577 [==============================] - 1s 70us/step - loss: 0.1725 - acc: 0.9269 - val_loss: 0.7663 - val_acc: 0.7912\n",
      "Epoch 128/200\n",
      "8577/8577 [==============================] - 1s 69us/step - loss: 0.1621 - acc: 0.9323 - val_loss: 0.7614 - val_acc: 0.7901\n",
      "Epoch 129/200\n",
      "8577/8577 [==============================] - 1s 69us/step - loss: 0.1580 - acc: 0.9339 - val_loss: 0.8232 - val_acc: 0.7943\n",
      "Epoch 130/200\n",
      "8577/8577 [==============================] - 1s 72us/step - loss: 0.1498 - acc: 0.9382 - val_loss: 0.8196 - val_acc: 0.7870\n",
      "Epoch 131/200\n",
      "8577/8577 [==============================] - 1s 70us/step - loss: 0.1752 - acc: 0.9283 - val_loss: 0.7720 - val_acc: 0.7765\n",
      "Epoch 132/200\n",
      "8577/8577 [==============================] - 1s 69us/step - loss: 0.1687 - acc: 0.9291 - val_loss: 0.8244 - val_acc: 0.7692\n",
      "Epoch 133/200\n",
      "8577/8577 [==============================] - 1s 69us/step - loss: 0.1677 - acc: 0.9325 - val_loss: 0.7730 - val_acc: 0.7849\n",
      "Epoch 134/200\n",
      "8577/8577 [==============================] - 1s 74us/step - loss: 0.1632 - acc: 0.9330 - val_loss: 0.7763 - val_acc: 0.7723\n",
      "Epoch 135/200\n",
      "8577/8577 [==============================] - 1s 92us/step - loss: 0.1710 - acc: 0.9309 - val_loss: 0.7677 - val_acc: 0.7828\n",
      "Epoch 136/200\n",
      "8577/8577 [==============================] - 1s 89us/step - loss: 0.1605 - acc: 0.9348 - val_loss: 0.7768 - val_acc: 0.7912\n",
      "Epoch 137/200\n",
      "8577/8577 [==============================] - 1s 78us/step - loss: 0.1603 - acc: 0.9339 - val_loss: 0.7478 - val_acc: 0.7975\n",
      "Epoch 138/200\n",
      "8577/8577 [==============================] - 1s 76us/step - loss: 0.1608 - acc: 0.9316 - val_loss: 0.7925 - val_acc: 0.7975\n",
      "Epoch 139/200\n",
      "8577/8577 [==============================] - 1s 75us/step - loss: 0.1637 - acc: 0.9324 - val_loss: 0.7923 - val_acc: 0.7880\n",
      "Epoch 140/200\n",
      "8577/8577 [==============================] - 1s 79us/step - loss: 0.1683 - acc: 0.9333 - val_loss: 0.7640 - val_acc: 0.7870\n",
      "Epoch 141/200\n",
      "8577/8577 [==============================] - 1s 79us/step - loss: 0.1663 - acc: 0.9318 - val_loss: 0.8418 - val_acc: 0.7618\n",
      "Epoch 142/200\n",
      "8577/8577 [==============================] - 1s 76us/step - loss: 0.1512 - acc: 0.9359 - val_loss: 0.8410 - val_acc: 0.7671\n",
      "Epoch 143/200\n",
      "8577/8577 [==============================] - 1s 69us/step - loss: 0.1639 - acc: 0.9362 - val_loss: 0.7681 - val_acc: 0.7870\n",
      "Epoch 144/200\n",
      "8577/8577 [==============================] - 1s 74us/step - loss: 0.1681 - acc: 0.9297 - val_loss: 0.7433 - val_acc: 0.7828\n",
      "Epoch 145/200\n",
      "8577/8577 [==============================] - 1s 74us/step - loss: 0.1650 - acc: 0.9274 - val_loss: 0.7630 - val_acc: 0.7859\n",
      "Epoch 146/200\n",
      "8577/8577 [==============================] - 1s 71us/step - loss: 0.1633 - acc: 0.9320 - val_loss: 0.7835 - val_acc: 0.7807\n",
      "Epoch 147/200\n",
      "8577/8577 [==============================] - 1s 74us/step - loss: 0.1761 - acc: 0.9264 - val_loss: 0.7922 - val_acc: 0.7765\n",
      "Epoch 148/200\n",
      "8577/8577 [==============================] - 1s 76us/step - loss: 0.1665 - acc: 0.9296 - val_loss: 0.7582 - val_acc: 0.7943\n",
      "Epoch 149/200\n",
      "8577/8577 [==============================] - 1s 74us/step - loss: 0.1582 - acc: 0.9304 - val_loss: 0.7801 - val_acc: 0.7943\n",
      "Epoch 150/200\n",
      "8577/8577 [==============================] - 1s 77us/step - loss: 0.1630 - acc: 0.9321 - val_loss: 0.7245 - val_acc: 0.8006\n",
      "Epoch 151/200\n",
      "8577/8577 [==============================] - 1s 78us/step - loss: 0.1507 - acc: 0.9408 - val_loss: 0.8013 - val_acc: 0.7754\n",
      "Epoch 152/200\n",
      "8577/8577 [==============================] - 1s 83us/step - loss: 0.1768 - acc: 0.9265 - val_loss: 0.7702 - val_acc: 0.7650\n",
      "Epoch 153/200\n",
      "8577/8577 [==============================] - 1s 75us/step - loss: 0.1678 - acc: 0.9299 - val_loss: 0.8018 - val_acc: 0.7723\n",
      "Epoch 154/200\n",
      "8577/8577 [==============================] - 1s 76us/step - loss: 0.1619 - acc: 0.9333 - val_loss: 0.7355 - val_acc: 0.8027\n",
      "Epoch 155/200\n",
      "8577/8577 [==============================] - 1s 83us/step - loss: 0.1655 - acc: 0.9284 - val_loss: 0.7971 - val_acc: 0.7912\n",
      "Epoch 156/200\n",
      "8577/8577 [==============================] - 1s 78us/step - loss: 0.1614 - acc: 0.9310 - val_loss: 0.7455 - val_acc: 0.7912\n",
      "Epoch 157/200\n",
      "8577/8577 [==============================] - 1s 78us/step - loss: 0.1607 - acc: 0.9311 - val_loss: 0.7825 - val_acc: 0.7828\n",
      "Epoch 158/200\n",
      "8577/8577 [==============================] - 1s 75us/step - loss: 0.1603 - acc: 0.9316 - val_loss: 0.8705 - val_acc: 0.7576\n",
      "Epoch 159/200\n",
      "8577/8577 [==============================] - 1s 74us/step - loss: 0.1760 - acc: 0.9319 - val_loss: 0.8812 - val_acc: 0.7587\n",
      "Epoch 160/200\n",
      "8577/8577 [==============================] - 1s 79us/step - loss: 0.1650 - acc: 0.9283 - val_loss: 0.7849 - val_acc: 0.7838\n",
      "Epoch 161/200\n",
      "8577/8577 [==============================] - 1s 75us/step - loss: 0.1638 - acc: 0.9304 - val_loss: 0.7394 - val_acc: 0.7943\n",
      "Epoch 162/200\n",
      "8577/8577 [==============================] - 1s 75us/step - loss: 0.1669 - acc: 0.9299 - val_loss: 0.7757 - val_acc: 0.7775\n",
      "Epoch 163/200\n",
      "8577/8577 [==============================] - 1s 79us/step - loss: 0.1606 - acc: 0.9347 - val_loss: 0.7852 - val_acc: 0.7702\n",
      "Epoch 164/200\n",
      "8577/8577 [==============================] - 1s 77us/step - loss: 0.1595 - acc: 0.9327 - val_loss: 0.8398 - val_acc: 0.7765\n",
      "Epoch 165/200\n",
      "8577/8577 [==============================] - 1s 73us/step - loss: 0.1665 - acc: 0.9312 - val_loss: 0.7540 - val_acc: 0.7880\n",
      "Epoch 166/200\n",
      "8577/8577 [==============================] - 1s 76us/step - loss: 0.1544 - acc: 0.9374 - val_loss: 0.7357 - val_acc: 0.7943\n",
      "Epoch 167/200\n",
      "8577/8577 [==============================] - 1s 77us/step - loss: 0.1701 - acc: 0.9305 - val_loss: 0.7720 - val_acc: 0.7692\n",
      "Epoch 168/200\n",
      "8577/8577 [==============================] - 1s 71us/step - loss: 0.1695 - acc: 0.9298 - val_loss: 0.7624 - val_acc: 0.7880\n",
      "Epoch 169/200\n",
      "8577/8577 [==============================] - 1s 77us/step - loss: 0.1680 - acc: 0.9265 - val_loss: 0.7541 - val_acc: 0.7828\n",
      "Epoch 170/200\n",
      "8577/8577 [==============================] - 1s 79us/step - loss: 0.1643 - acc: 0.9296 - val_loss: 0.7843 - val_acc: 0.7744\n",
      "Epoch 171/200\n",
      "8577/8577 [==============================] - 1s 76us/step - loss: 0.1594 - acc: 0.9309 - val_loss: 0.8086 - val_acc: 0.7744\n",
      "Epoch 172/200\n",
      "8577/8577 [==============================] - 1s 76us/step - loss: 0.1638 - acc: 0.9323 - val_loss: 0.7894 - val_acc: 0.7712\n",
      "Epoch 173/200\n",
      "8577/8577 [==============================] - 1s 78us/step - loss: 0.1666 - acc: 0.9307 - val_loss: 0.8022 - val_acc: 0.7733\n",
      "Epoch 174/200\n",
      "8577/8577 [==============================] - 1s 75us/step - loss: 0.1594 - acc: 0.9324 - val_loss: 0.8037 - val_acc: 0.7702\n",
      "Epoch 175/200\n",
      "8577/8577 [==============================] - 1s 74us/step - loss: 0.1608 - acc: 0.9331 - val_loss: 0.7878 - val_acc: 0.7765\n",
      "Epoch 176/200\n",
      "8577/8577 [==============================] - 1s 77us/step - loss: 0.1531 - acc: 0.9320 - val_loss: 0.8008 - val_acc: 0.7901\n",
      "Epoch 177/200\n",
      "8577/8577 [==============================] - 1s 74us/step - loss: 0.1658 - acc: 0.9269 - val_loss: 0.7735 - val_acc: 0.7817\n",
      "Epoch 178/200\n",
      "8577/8577 [==============================] - 1s 76us/step - loss: 0.1569 - acc: 0.9349 - val_loss: 0.7647 - val_acc: 0.7754\n",
      "Epoch 179/200\n",
      "8577/8577 [==============================] - 1s 75us/step - loss: 0.1602 - acc: 0.9325 - val_loss: 0.7991 - val_acc: 0.7901\n",
      "Epoch 180/200\n",
      "8577/8577 [==============================] - 1s 75us/step - loss: 0.1708 - acc: 0.9275 - val_loss: 0.7826 - val_acc: 0.7817\n",
      "Epoch 181/200\n",
      "8577/8577 [==============================] - 1s 75us/step - loss: 0.1533 - acc: 0.9372 - val_loss: 0.7953 - val_acc: 0.7870\n",
      "Epoch 182/200\n",
      "8577/8577 [==============================] - 1s 73us/step - loss: 0.1696 - acc: 0.9311 - val_loss: 0.8129 - val_acc: 0.7796\n",
      "Epoch 183/200\n",
      "8577/8577 [==============================] - 1s 74us/step - loss: 0.1622 - acc: 0.9362 - val_loss: 0.7764 - val_acc: 0.7786\n",
      "Epoch 184/200\n",
      "8577/8577 [==============================] - 1s 74us/step - loss: 0.1679 - acc: 0.9296 - val_loss: 0.7864 - val_acc: 0.7796\n",
      "Epoch 185/200\n",
      "8577/8577 [==============================] - 1s 73us/step - loss: 0.1679 - acc: 0.9298 - val_loss: 0.7609 - val_acc: 0.7712\n",
      "Epoch 186/200\n",
      "8577/8577 [==============================] - 1s 72us/step - loss: 0.1660 - acc: 0.9288 - val_loss: 0.8514 - val_acc: 0.7744\n",
      "Epoch 187/200\n",
      "8577/8577 [==============================] - 1s 69us/step - loss: 0.1631 - acc: 0.9328 - val_loss: 0.8209 - val_acc: 0.7817\n",
      "Epoch 188/200\n",
      "8577/8577 [==============================] - 1s 72us/step - loss: 0.1675 - acc: 0.9297 - val_loss: 0.8185 - val_acc: 0.7671\n",
      "Epoch 189/200\n",
      "8577/8577 [==============================] - 1s 75us/step - loss: 0.1724 - acc: 0.9282 - val_loss: 0.7622 - val_acc: 0.7723\n",
      "Epoch 190/200\n",
      "8577/8577 [==============================] - 1s 73us/step - loss: 0.1634 - acc: 0.9325 - val_loss: 0.7553 - val_acc: 0.7870\n",
      "Epoch 191/200\n",
      "8577/8577 [==============================] - 1s 77us/step - loss: 0.1633 - acc: 0.9312 - val_loss: 0.7860 - val_acc: 0.7859\n",
      "Epoch 192/200\n",
      "8577/8577 [==============================] - 1s 72us/step - loss: 0.1655 - acc: 0.9282 - val_loss: 0.7316 - val_acc: 0.7817\n",
      "Epoch 193/200\n",
      "8577/8577 [==============================] - 1s 76us/step - loss: 0.1712 - acc: 0.9265 - val_loss: 0.7377 - val_acc: 0.7754\n",
      "Epoch 194/200\n",
      "8577/8577 [==============================] - 1s 76us/step - loss: 0.1603 - acc: 0.9324 - val_loss: 0.7551 - val_acc: 0.7870\n",
      "Epoch 195/200\n",
      "8577/8577 [==============================] - 1s 72us/step - loss: 0.1626 - acc: 0.9330 - val_loss: 0.7800 - val_acc: 0.7796\n",
      "Epoch 196/200\n",
      "8577/8577 [==============================] - 1s 75us/step - loss: 0.1496 - acc: 0.9379 - val_loss: 0.8039 - val_acc: 0.7870\n",
      "Epoch 197/200\n",
      "8577/8577 [==============================] - 1s 85us/step - loss: 0.1638 - acc: 0.9296 - val_loss: 0.8058 - val_acc: 0.7723\n",
      "Epoch 198/200\n",
      "8577/8577 [==============================] - 1s 70us/step - loss: 0.1689 - acc: 0.9283 - val_loss: 0.8199 - val_acc: 0.7838\n",
      "Epoch 199/200\n",
      "8577/8577 [==============================] - 1s 89us/step - loss: 0.1660 - acc: 0.9309 - val_loss: 0.7502 - val_acc: 0.7870\n",
      "Epoch 200/200\n",
      "8577/8577 [==============================] - 1s 77us/step - loss: 0.1681 - acc: 0.9276 - val_loss: 0.7483 - val_acc: 0.7838\n"
     ]
    },
    {
     "data": {
      "text/plain": [
       "<keras.callbacks.History at 0x7fbc146485c0>"
      ]
     },
     "execution_count": 39,
     "metadata": {},
     "output_type": "execute_result"
    }
   ],
   "source": [
    "from keras.callbacks import TensorBoard\n",
    "\n",
    "dnn_model.compile(\n",
    "            loss = binary_crossentropy,\n",
    "            optimizer = Adam(lr = lr),\n",
    "            metrics = [\"accuracy\"]\n",
    ")\n",
    "\n",
    "dnn_model.fit(\n",
    "            x = X_train,\n",
    "            y = y_train,\n",
    "            batch_size = n_batch,\n",
    "            shuffle = True,\n",
    "            epochs = n_epoch,\n",
    "            validation_data = (X_test,y_test),\n",
    "            callbacks = [TensorBoard(log_dir = \"logs/dnn\")]\n",
    ")"
   ]
  },
  {
   "cell_type": "markdown",
   "metadata": {},
   "source": [
    "### 解决过拟合"
   ]
  },
  {
   "cell_type": "code",
   "execution_count": 51,
   "metadata": {
    "ExecuteTime": {
     "end_time": "2018-07-28T11:40:14.342689Z",
     "start_time": "2018-07-28T11:40:14.336878Z"
    }
   },
   "outputs": [
    {
     "data": {
      "text/plain": [
       "{0: [<keras.layers.core.Dense at 0x7fbc1477e4a8>],\n",
       " 1: [<keras.layers.core.Dropout at 0x7fbc1477e4e0>],\n",
       " 2: [<keras.layers.core.Activation at 0x7fbc1477e128>],\n",
       " 3: [<keras.layers.normalization.BatchNormalization at 0x7fbc1477e2e8>],\n",
       " 4: [<keras.layers.core.Dense at 0x7fbc1477e320>],\n",
       " 5: [<keras.layers.core.Dropout at 0x7fbc1477ec88>],\n",
       " 6: [<keras.layers.core.Activation at 0x7fbc1477ea20>],\n",
       " 7: [<keras.layers.normalization.BatchNormalization at 0x7fbc1477ea58>],\n",
       " 8: [<keras.layers.core.Dense at 0x7fbc1477e9b0>],\n",
       " 9: [<keras.engine.topology.InputLayer at 0x7fbc1477e940>]}"
      ]
     },
     "execution_count": 51,
     "metadata": {},
     "output_type": "execute_result"
    }
   ],
   "source": [
    "dnn_model.layers_by_depth"
   ]
  },
  {
   "cell_type": "code",
   "execution_count": 123,
   "metadata": {
    "ExecuteTime": {
     "end_time": "2018-07-28T14:25:53.139679Z",
     "start_time": "2018-07-28T14:25:00.940403Z"
    },
    "scrolled": true
   },
   "outputs": [
    {
     "name": "stdout",
     "output_type": "stream",
     "text": [
      "Train on 8577 samples, validate on 953 samples\n",
      "Epoch 1/100\n",
      "8577/8577 [==============================] - 1s 137us/step - loss: 0.3295 - acc: 0.8483 - val_loss: 0.5338 - val_acc: 0.7901\n",
      "Epoch 2/100\n",
      "8577/8577 [==============================] - 0s 47us/step - loss: 0.3242 - acc: 0.8522 - val_loss: 0.5150 - val_acc: 0.7901\n",
      "Epoch 3/100\n",
      "8577/8577 [==============================] - 0s 46us/step - loss: 0.3194 - acc: 0.8519 - val_loss: 0.4881 - val_acc: 0.7985\n",
      "Epoch 4/100\n",
      "8577/8577 [==============================] - 0s 48us/step - loss: 0.3189 - acc: 0.8488 - val_loss: 0.5187 - val_acc: 0.7901\n",
      "Epoch 5/100\n",
      "8577/8577 [==============================] - 0s 49us/step - loss: 0.3120 - acc: 0.8539 - val_loss: 0.5160 - val_acc: 0.7985\n",
      "Epoch 6/100\n",
      "8577/8577 [==============================] - 0s 48us/step - loss: 0.3198 - acc: 0.8534 - val_loss: 0.4977 - val_acc: 0.8059\n",
      "Epoch 7/100\n",
      "8577/8577 [==============================] - 0s 47us/step - loss: 0.3291 - acc: 0.8468 - val_loss: 0.5136 - val_acc: 0.7775\n",
      "Epoch 8/100\n",
      "8577/8577 [==============================] - 0s 48us/step - loss: 0.3172 - acc: 0.8592 - val_loss: 0.4898 - val_acc: 0.7880\n",
      "Epoch 9/100\n",
      "8577/8577 [==============================] - 0s 49us/step - loss: 0.3213 - acc: 0.8525 - val_loss: 0.4807 - val_acc: 0.7880\n",
      "Epoch 10/100\n",
      "8577/8577 [==============================] - 0s 52us/step - loss: 0.3104 - acc: 0.8531 - val_loss: 0.5210 - val_acc: 0.7796\n",
      "Epoch 11/100\n",
      "8577/8577 [==============================] - 0s 54us/step - loss: 0.3134 - acc: 0.8540 - val_loss: 0.4822 - val_acc: 0.7996\n",
      "Epoch 12/100\n",
      "8577/8577 [==============================] - 0s 49us/step - loss: 0.3221 - acc: 0.8545 - val_loss: 0.4906 - val_acc: 0.7880\n",
      "Epoch 13/100\n",
      "8577/8577 [==============================] - 0s 50us/step - loss: 0.3203 - acc: 0.8490 - val_loss: 0.4948 - val_acc: 0.7870\n",
      "Epoch 14/100\n",
      "8577/8577 [==============================] - 0s 49us/step - loss: 0.3232 - acc: 0.8470 - val_loss: 0.4836 - val_acc: 0.8038\n",
      "Epoch 15/100\n",
      "8577/8577 [==============================] - 0s 52us/step - loss: 0.3224 - acc: 0.8551 - val_loss: 0.4773 - val_acc: 0.8038\n",
      "Epoch 16/100\n",
      "8577/8577 [==============================] - 0s 54us/step - loss: 0.3064 - acc: 0.8632 - val_loss: 0.5049 - val_acc: 0.7828\n",
      "Epoch 17/100\n",
      "8577/8577 [==============================] - 0s 55us/step - loss: 0.3181 - acc: 0.8484 - val_loss: 0.4932 - val_acc: 0.8017\n",
      "Epoch 18/100\n",
      "8577/8577 [==============================] - 0s 55us/step - loss: 0.3154 - acc: 0.8627 - val_loss: 0.4829 - val_acc: 0.7996\n",
      "Epoch 19/100\n",
      "8577/8577 [==============================] - 0s 58us/step - loss: 0.3136 - acc: 0.8571 - val_loss: 0.5012 - val_acc: 0.7933\n",
      "Epoch 20/100\n",
      "8577/8577 [==============================] - 1s 59us/step - loss: 0.3262 - acc: 0.8496 - val_loss: 0.5339 - val_acc: 0.7775\n",
      "Epoch 21/100\n",
      "8577/8577 [==============================] - 1s 61us/step - loss: 0.3171 - acc: 0.8546 - val_loss: 0.5281 - val_acc: 0.7891\n",
      "Epoch 22/100\n",
      "8577/8577 [==============================] - 1s 60us/step - loss: 0.3215 - acc: 0.8529 - val_loss: 0.4946 - val_acc: 0.8059\n",
      "Epoch 23/100\n",
      "8577/8577 [==============================] - 1s 71us/step - loss: 0.3255 - acc: 0.8473 - val_loss: 0.5020 - val_acc: 0.7912\n",
      "Epoch 24/100\n",
      "8577/8577 [==============================] - 1s 62us/step - loss: 0.3128 - acc: 0.8526 - val_loss: 0.5015 - val_acc: 0.7943\n",
      "Epoch 25/100\n",
      "8577/8577 [==============================] - 0s 58us/step - loss: 0.3118 - acc: 0.8534 - val_loss: 0.5190 - val_acc: 0.7912\n",
      "Epoch 26/100\n",
      "8577/8577 [==============================] - 0s 55us/step - loss: 0.3217 - acc: 0.8510 - val_loss: 0.4859 - val_acc: 0.7975\n",
      "Epoch 27/100\n",
      "8577/8577 [==============================] - 0s 56us/step - loss: 0.3215 - acc: 0.8474 - val_loss: 0.4876 - val_acc: 0.8027\n",
      "Epoch 28/100\n",
      "8577/8577 [==============================] - 0s 55us/step - loss: 0.3218 - acc: 0.8519 - val_loss: 0.4844 - val_acc: 0.8048\n",
      "Epoch 29/100\n",
      "8577/8577 [==============================] - 0s 57us/step - loss: 0.3253 - acc: 0.8511 - val_loss: 0.5054 - val_acc: 0.7922\n",
      "Epoch 30/100\n",
      "8577/8577 [==============================] - 0s 53us/step - loss: 0.3160 - acc: 0.8550 - val_loss: 0.4965 - val_acc: 0.7975\n",
      "Epoch 31/100\n",
      "8577/8577 [==============================] - 0s 57us/step - loss: 0.3140 - acc: 0.8573 - val_loss: 0.4894 - val_acc: 0.7996\n",
      "Epoch 32/100\n",
      "8577/8577 [==============================] - 0s 51us/step - loss: 0.3207 - acc: 0.8523 - val_loss: 0.5480 - val_acc: 0.7733\n",
      "Epoch 33/100\n",
      "8577/8577 [==============================] - 0s 55us/step - loss: 0.3223 - acc: 0.8509 - val_loss: 0.4920 - val_acc: 0.8059\n",
      "Epoch 34/100\n",
      "8577/8577 [==============================] - 0s 50us/step - loss: 0.3250 - acc: 0.8474 - val_loss: 0.5161 - val_acc: 0.8048\n",
      "Epoch 35/100\n",
      "8577/8577 [==============================] - 0s 53us/step - loss: 0.3140 - acc: 0.8579 - val_loss: 0.4876 - val_acc: 0.8038\n",
      "Epoch 36/100\n",
      "8577/8577 [==============================] - 0s 54us/step - loss: 0.3188 - acc: 0.8541 - val_loss: 0.5371 - val_acc: 0.7733\n",
      "Epoch 37/100\n",
      "8577/8577 [==============================] - 0s 47us/step - loss: 0.3199 - acc: 0.8475 - val_loss: 0.5144 - val_acc: 0.7817\n",
      "Epoch 38/100\n",
      "8577/8577 [==============================] - 0s 50us/step - loss: 0.3114 - acc: 0.8579 - val_loss: 0.4914 - val_acc: 0.7933\n",
      "Epoch 39/100\n",
      "8577/8577 [==============================] - 0s 52us/step - loss: 0.3140 - acc: 0.8566 - val_loss: 0.5156 - val_acc: 0.7954\n",
      "Epoch 40/100\n",
      "8577/8577 [==============================] - 1s 58us/step - loss: 0.3195 - acc: 0.8525 - val_loss: 0.5103 - val_acc: 0.7912\n",
      "Epoch 41/100\n",
      "8577/8577 [==============================] - 0s 53us/step - loss: 0.3203 - acc: 0.8474 - val_loss: 0.5046 - val_acc: 0.8069\n",
      "Epoch 42/100\n",
      "8577/8577 [==============================] - 0s 49us/step - loss: 0.3125 - acc: 0.8548 - val_loss: 0.4921 - val_acc: 0.7985\n",
      "Epoch 43/100\n",
      "8577/8577 [==============================] - 0s 53us/step - loss: 0.3133 - acc: 0.8586 - val_loss: 0.4931 - val_acc: 0.7975\n",
      "Epoch 44/100\n",
      "8577/8577 [==============================] - 0s 53us/step - loss: 0.3144 - acc: 0.8568 - val_loss: 0.5003 - val_acc: 0.7943\n",
      "Epoch 45/100\n",
      "8577/8577 [==============================] - 0s 53us/step - loss: 0.3195 - acc: 0.8597 - val_loss: 0.4985 - val_acc: 0.7975\n",
      "Epoch 46/100\n",
      "8577/8577 [==============================] - 0s 49us/step - loss: 0.3206 - acc: 0.8482 - val_loss: 0.4965 - val_acc: 0.7912\n",
      "Epoch 47/100\n",
      "8577/8577 [==============================] - 0s 52us/step - loss: 0.3104 - acc: 0.8553 - val_loss: 0.4865 - val_acc: 0.8132\n",
      "Epoch 48/100\n",
      "8577/8577 [==============================] - 0s 53us/step - loss: 0.3154 - acc: 0.8558 - val_loss: 0.5390 - val_acc: 0.7891\n",
      "Epoch 49/100\n",
      "8577/8577 [==============================] - 0s 53us/step - loss: 0.3087 - acc: 0.8558 - val_loss: 0.5259 - val_acc: 0.7996\n",
      "Epoch 50/100\n",
      "8577/8577 [==============================] - 0s 51us/step - loss: 0.3161 - acc: 0.8513 - val_loss: 0.5151 - val_acc: 0.7954\n",
      "Epoch 51/100\n",
      "8577/8577 [==============================] - 0s 51us/step - loss: 0.3170 - acc: 0.8555 - val_loss: 0.4650 - val_acc: 0.8080\n",
      "Epoch 52/100\n",
      "8577/8577 [==============================] - 0s 50us/step - loss: 0.3195 - acc: 0.8487 - val_loss: 0.4903 - val_acc: 0.7880\n",
      "Epoch 53/100\n",
      "8577/8577 [==============================] - 0s 50us/step - loss: 0.3109 - acc: 0.8590 - val_loss: 0.4638 - val_acc: 0.8059\n",
      "Epoch 54/100\n",
      "8577/8577 [==============================] - 0s 51us/step - loss: 0.3108 - acc: 0.8587 - val_loss: 0.4851 - val_acc: 0.7975\n",
      "Epoch 55/100\n",
      "8577/8577 [==============================] - 0s 48us/step - loss: 0.3101 - acc: 0.8572 - val_loss: 0.4959 - val_acc: 0.7859\n",
      "Epoch 56/100\n",
      "8577/8577 [==============================] - 0s 51us/step - loss: 0.3096 - acc: 0.8562 - val_loss: 0.4885 - val_acc: 0.7954\n",
      "Epoch 57/100\n",
      "8577/8577 [==============================] - 1s 58us/step - loss: 0.3195 - acc: 0.8530 - val_loss: 0.4574 - val_acc: 0.7996\n",
      "Epoch 58/100\n",
      "8577/8577 [==============================] - 1s 59us/step - loss: 0.3187 - acc: 0.8511 - val_loss: 0.4735 - val_acc: 0.7996\n",
      "Epoch 59/100\n",
      "8577/8577 [==============================] - 0s 53us/step - loss: 0.3050 - acc: 0.8625 - val_loss: 0.5176 - val_acc: 0.7870\n",
      "Epoch 60/100\n",
      "8577/8577 [==============================] - 0s 54us/step - loss: 0.3127 - acc: 0.8501 - val_loss: 0.4847 - val_acc: 0.8027\n",
      "Epoch 61/100\n",
      "8577/8577 [==============================] - 0s 48us/step - loss: 0.3155 - acc: 0.8547 - val_loss: 0.5304 - val_acc: 0.7901\n",
      "Epoch 62/100\n",
      "8577/8577 [==============================] - 0s 47us/step - loss: 0.3259 - acc: 0.8460 - val_loss: 0.5143 - val_acc: 0.8017\n",
      "Epoch 63/100\n",
      "8577/8577 [==============================] - 0s 49us/step - loss: 0.3097 - acc: 0.8551 - val_loss: 0.4940 - val_acc: 0.8090\n",
      "Epoch 64/100\n",
      "8577/8577 [==============================] - 0s 46us/step - loss: 0.3173 - acc: 0.8492 - val_loss: 0.5084 - val_acc: 0.8069\n",
      "Epoch 65/100\n",
      "8577/8577 [==============================] - 0s 47us/step - loss: 0.3223 - acc: 0.8497 - val_loss: 0.4861 - val_acc: 0.7975\n",
      "Epoch 66/100\n",
      "8577/8577 [==============================] - 0s 50us/step - loss: 0.3182 - acc: 0.8494 - val_loss: 0.5085 - val_acc: 0.7828\n",
      "Epoch 67/100\n",
      "8577/8577 [==============================] - 0s 45us/step - loss: 0.3200 - acc: 0.8540 - val_loss: 0.5322 - val_acc: 0.7838\n",
      "Epoch 68/100\n",
      "8577/8577 [==============================] - 0s 48us/step - loss: 0.3205 - acc: 0.8523 - val_loss: 0.4915 - val_acc: 0.8017\n",
      "Epoch 69/100\n",
      "8577/8577 [==============================] - 0s 44us/step - loss: 0.3184 - acc: 0.8544 - val_loss: 0.5077 - val_acc: 0.7849\n",
      "Epoch 70/100\n",
      "8577/8577 [==============================] - 0s 47us/step - loss: 0.3224 - acc: 0.8510 - val_loss: 0.4987 - val_acc: 0.7943\n",
      "Epoch 71/100\n",
      "8577/8577 [==============================] - 0s 47us/step - loss: 0.3089 - acc: 0.8596 - val_loss: 0.4887 - val_acc: 0.8090\n",
      "Epoch 72/100\n",
      "8577/8577 [==============================] - 0s 50us/step - loss: 0.3112 - acc: 0.8588 - val_loss: 0.5219 - val_acc: 0.7838\n",
      "Epoch 73/100\n",
      "8577/8577 [==============================] - 0s 52us/step - loss: 0.3181 - acc: 0.8561 - val_loss: 0.5348 - val_acc: 0.7796\n",
      "Epoch 74/100\n",
      "8577/8577 [==============================] - 0s 53us/step - loss: 0.3235 - acc: 0.8533 - val_loss: 0.4801 - val_acc: 0.8017\n",
      "Epoch 75/100\n",
      "8577/8577 [==============================] - 0s 48us/step - loss: 0.3242 - acc: 0.8517 - val_loss: 0.4977 - val_acc: 0.7807\n",
      "Epoch 76/100\n",
      "8577/8577 [==============================] - 0s 53us/step - loss: 0.3196 - acc: 0.8526 - val_loss: 0.4891 - val_acc: 0.7985\n",
      "Epoch 77/100\n",
      "8577/8577 [==============================] - 0s 48us/step - loss: 0.3098 - acc: 0.8568 - val_loss: 0.5129 - val_acc: 0.7964\n",
      "Epoch 78/100\n",
      "8577/8577 [==============================] - 0s 47us/step - loss: 0.3207 - acc: 0.8467 - val_loss: 0.6548 - val_acc: 0.7555\n",
      "Epoch 79/100\n",
      "8577/8577 [==============================] - 0s 45us/step - loss: 0.3292 - acc: 0.8510 - val_loss: 0.5382 - val_acc: 0.7744\n",
      "Epoch 80/100\n",
      "8577/8577 [==============================] - 0s 48us/step - loss: 0.3145 - acc: 0.8541 - val_loss: 0.4956 - val_acc: 0.8006\n",
      "Epoch 81/100\n",
      "8577/8577 [==============================] - 0s 49us/step - loss: 0.3077 - acc: 0.8597 - val_loss: 0.5009 - val_acc: 0.8006\n",
      "Epoch 82/100\n",
      "8577/8577 [==============================] - 0s 48us/step - loss: 0.3135 - acc: 0.8551 - val_loss: 0.5031 - val_acc: 0.7975\n",
      "Epoch 83/100\n",
      "8577/8577 [==============================] - 0s 54us/step - loss: 0.3172 - acc: 0.8531 - val_loss: 0.5470 - val_acc: 0.7576\n",
      "Epoch 84/100\n",
      "8577/8577 [==============================] - 0s 48us/step - loss: 0.3125 - acc: 0.8554 - val_loss: 0.5066 - val_acc: 0.7985\n",
      "Epoch 85/100\n",
      "8577/8577 [==============================] - 0s 49us/step - loss: 0.3159 - acc: 0.8522 - val_loss: 0.5356 - val_acc: 0.7754\n",
      "Epoch 86/100\n",
      "8577/8577 [==============================] - 0s 50us/step - loss: 0.3141 - acc: 0.8568 - val_loss: 0.5303 - val_acc: 0.7954\n",
      "Epoch 87/100\n",
      "8577/8577 [==============================] - 0s 49us/step - loss: 0.3209 - acc: 0.8482 - val_loss: 0.5195 - val_acc: 0.7891\n",
      "Epoch 88/100\n",
      "8577/8577 [==============================] - 0s 49us/step - loss: 0.3200 - acc: 0.8537 - val_loss: 0.5085 - val_acc: 0.7796\n",
      "Epoch 89/100\n",
      "8577/8577 [==============================] - 0s 57us/step - loss: 0.3104 - acc: 0.8568 - val_loss: 0.4884 - val_acc: 0.7922\n",
      "Epoch 90/100\n",
      "8577/8577 [==============================] - 0s 56us/step - loss: 0.3095 - acc: 0.8532 - val_loss: 0.5013 - val_acc: 0.7996\n",
      "Epoch 91/100\n",
      "8577/8577 [==============================] - 0s 55us/step - loss: 0.3254 - acc: 0.8515 - val_loss: 0.4766 - val_acc: 0.8006\n",
      "Epoch 92/100\n",
      "8577/8577 [==============================] - 1s 63us/step - loss: 0.3207 - acc: 0.8519 - val_loss: 0.5016 - val_acc: 0.7838\n",
      "Epoch 93/100\n",
      "8577/8577 [==============================] - 1s 59us/step - loss: 0.3129 - acc: 0.8559 - val_loss: 0.5034 - val_acc: 0.7954\n",
      "Epoch 94/100\n",
      "8577/8577 [==============================] - 1s 67us/step - loss: 0.3085 - acc: 0.8576 - val_loss: 0.5172 - val_acc: 0.7859\n",
      "Epoch 95/100\n",
      "8577/8577 [==============================] - 1s 65us/step - loss: 0.3094 - acc: 0.8621 - val_loss: 0.4944 - val_acc: 0.7975\n",
      "Epoch 96/100\n",
      "8577/8577 [==============================] - 0s 53us/step - loss: 0.3227 - acc: 0.8555 - val_loss: 0.5082 - val_acc: 0.7954\n",
      "Epoch 97/100\n",
      "8577/8577 [==============================] - 0s 53us/step - loss: 0.3204 - acc: 0.8517 - val_loss: 0.5183 - val_acc: 0.7891\n",
      "Epoch 98/100\n",
      "8577/8577 [==============================] - 0s 55us/step - loss: 0.3121 - acc: 0.8575 - val_loss: 0.4765 - val_acc: 0.7975\n",
      "Epoch 99/100\n",
      "8577/8577 [==============================] - 1s 59us/step - loss: 0.3146 - acc: 0.8546 - val_loss: 0.5168 - val_acc: 0.7775\n",
      "Epoch 100/100\n",
      "8577/8577 [==============================] - 0s 55us/step - loss: 0.3163 - acc: 0.8534 - val_loss: 0.4781 - val_acc: 0.7933\n"
     ]
    },
    {
     "data": {
      "text/plain": [
       "<keras.callbacks.History at 0x7fbbdc084c18>"
      ]
     },
     "execution_count": 123,
     "metadata": {},
     "output_type": "execute_result"
    }
   ],
   "source": [
    "dropout1 = dnn_model.layers[4]\n",
    "dropout2 = dnn_model.layers[8]\n",
    "\n",
    "dropout1.rate = 0.4\n",
    "dropout2.rate = 0.6\n",
    "\n",
    "dnn_model.compile(\n",
    "            loss = binary_crossentropy,\n",
    "            optimizer = Adam(lr = lr),\n",
    "            metrics = [\"accuracy\"]\n",
    ")\n",
    "dnn_model.fit(\n",
    "            x = X_train,\n",
    "            y = y_train,\n",
    "            batch_size = n_batch,\n",
    "            shuffle = True,\n",
    "            epochs = n_epoch,\n",
    "            validation_data = (X_test,y_test),\n",
    "            callbacks = [TensorBoard(log_dir = \"logs/dnn\")]\n",
    ")"
   ]
  },
  {
   "cell_type": "markdown",
   "metadata": {},
   "source": [
    "### 保存模型"
   ]
  },
  {
   "cell_type": "code",
   "execution_count": 124,
   "metadata": {
    "ExecuteTime": {
     "end_time": "2018-07-28T14:26:03.101682Z",
     "start_time": "2018-07-28T14:26:01.357541Z"
    }
   },
   "outputs": [],
   "source": [
    "dnn_model.save(\"model/dnn.h5\")"
   ]
  },
  {
   "cell_type": "markdown",
   "metadata": {},
   "source": [
    "## LSTM"
   ]
  },
  {
   "cell_type": "markdown",
   "metadata": {},
   "source": [
    "### 分离训练集和测试集"
   ]
  },
  {
   "cell_type": "code",
   "execution_count": 8,
   "metadata": {
    "ExecuteTime": {
     "end_time": "2018-08-02T02:24:29.121220Z",
     "start_time": "2018-08-02T02:24:29.117130Z"
    }
   },
   "outputs": [
    {
     "name": "stdout",
     "output_type": "stream",
     "text": [
      "Data shape : (9530, 750)         target shape : (9530,)\n",
      "变换后 Data Shape: (9530, 30, 25)\n"
     ]
    }
   ],
   "source": [
    "print(\"Data shape : {}         target shape : {}\".format(data.shape,target.shape))\n",
    "data.shape = (data.shape[0],n_order,-1)\n",
    "print(\"变换后 Data Shape: {}\".format(data.shape))"
   ]
  },
  {
   "cell_type": "code",
   "execution_count": 9,
   "metadata": {
    "ExecuteTime": {
     "end_time": "2018-08-02T02:24:38.387910Z",
     "start_time": "2018-08-02T02:24:37.925455Z"
    }
   },
   "outputs": [],
   "source": [
    "from sklearn.model_selection import train_test_split\n",
    "X_train, X_test, y_train, y_test  = train_test_split(data,target,shuffle = True,test_size = 0.1,random_state = 1)"
   ]
  },
  {
   "cell_type": "markdown",
   "metadata": {},
   "source": [
    "### 超参数"
   ]
  },
  {
   "cell_type": "code",
   "execution_count": 34,
   "metadata": {
    "ExecuteTime": {
     "end_time": "2018-08-02T02:44:51.663820Z",
     "start_time": "2018-08-02T02:44:51.657046Z"
    }
   },
   "outputs": [],
   "source": [
    "lstm_units = 77    #LSTM层的神经元数\n",
    "dropout_rate = 0\n",
    "timestep = n_order\n",
    "hidden_units = [128,128]\n",
    "lr = 0.005\n",
    "n_batch = 64\n",
    "n_epoch = 30\n",
    "input_dim = data.shape[-1]"
   ]
  },
  {
   "cell_type": "markdown",
   "metadata": {},
   "source": [
    "### 模型结构"
   ]
  },
  {
   "cell_type": "code",
   "execution_count": 28,
   "metadata": {
    "ExecuteTime": {
     "end_time": "2018-08-02T02:37:24.994454Z",
     "start_time": "2018-08-02T02:37:24.988498Z"
    }
   },
   "outputs": [],
   "source": [
    "import keras.backend as K\n",
    "from keras.models import Sequential\n",
    "from keras.layers import Input\n",
    "from keras.layers import BatchNormalization\n",
    "from keras.layers import Dropout\n",
    "from keras.layers import Dense\n",
    "from keras.models import Model\n",
    "from keras.layers import Activation\n",
    "from keras.optimizers import Adam\n",
    "from keras.losses import binary_crossentropy\n",
    "from keras.layers import LSTM\n",
    "from keras.layers.core import Flatten\n",
    "from keras.layers import Reshape\n",
    "\n",
    "\n",
    "def build_lstm_model(input_dim,lstm_units,hidden_units,dropout_rate,timestep):\n",
    "    \"\"\"\n",
    "        搭建LSTM模型结构\n",
    "        Args:\n",
    "            input_dim :    输入维度,形式为（时间步，数据维数）\n",
    "            lstm_units :    lstm的神经元数\n",
    "            timestep:   时间步\n",
    "            hidden_units :    隐藏神经元个数\n",
    "            dropout_rate :    dropout的比率\n",
    "    \"\"\"\n",
    "    input_layer = Input(shape = (timestep,input_dim))\n",
    "    net_layer = input_layer\n",
    "    #建立LSTM层\n",
    "    lstm_layer = LSTM(units = lstm_units,dropout = dropout_rate)(input_layer)\n",
    "    net_layer = lstm_layer\n",
    "    #建立隐藏层\n",
    "    for i,unit in enumerate(hidden_units):\n",
    "        net_layer = Dense(\n",
    "                        units = unit,\n",
    "                        activation = None,\n",
    "                        name = \"hidden_layer_{}\".format(i+1))(net_layer)\n",
    "        net_layer = BatchNormalization(name = \"batchnorm_{}\".format(i + 1))(net_layer)\n",
    "        net_layer = Activation(activation = \"relu\")(net_layer)\n",
    "        net_layer = Dropout(rate = dropout_rate,name = \"dropout_{}\".format(i + 1))(net_layer)\n",
    "#     #输出层\n",
    "    output_layer = Dense(\n",
    "                        units = 1,\n",
    "                        activation = \"sigmoid\",\n",
    "                        name = \"output_layer\")(net_layer)\n",
    "    \n",
    "    lstm_model = Model(inputs = input_layer,outputs = output_layer,name = \"LSTM\")\n",
    "    return lstm_model\n",
    "    "
   ]
  },
  {
   "cell_type": "code",
   "execution_count": 29,
   "metadata": {
    "ExecuteTime": {
     "end_time": "2018-08-02T02:37:26.016813Z",
     "start_time": "2018-08-02T02:37:25.605352Z"
    }
   },
   "outputs": [],
   "source": [
    "lstm_model = build_lstm_model(\n",
    "                    input_dim = input_dim,\n",
    "                    timestep = timestep,\n",
    "                    lstm_units = lstm_units,\n",
    "                    dropout_rate = dropout_rate,\n",
    "                    hidden_units=hidden_units\n",
    ")"
   ]
  },
  {
   "cell_type": "code",
   "execution_count": 30,
   "metadata": {
    "ExecuteTime": {
     "end_time": "2018-08-02T02:37:30.208727Z",
     "start_time": "2018-08-02T02:37:30.110753Z"
    }
   },
   "outputs": [
    {
     "name": "stdout",
     "output_type": "stream",
     "text": [
      "_________________________________________________________________\n",
      "Layer (type)                 Output Shape              Param #   \n",
      "=================================================================\n",
      "input_3 (InputLayer)         (None, 30, 25)            0         \n",
      "_________________________________________________________________\n",
      "lstm_2 (LSTM)                (None, 77)                31724     \n",
      "_________________________________________________________________\n",
      "hidden_layer_1 (Dense)       (None, 128)               9984      \n",
      "_________________________________________________________________\n",
      "batchnorm_1 (BatchNormalizat (None, 128)               512       \n",
      "_________________________________________________________________\n",
      "activation_3 (Activation)    (None, 128)               0         \n",
      "_________________________________________________________________\n",
      "dropout_1 (Dropout)          (None, 128)               0         \n",
      "_________________________________________________________________\n",
      "hidden_layer_2 (Dense)       (None, 128)               16512     \n",
      "_________________________________________________________________\n",
      "batchnorm_2 (BatchNormalizat (None, 128)               512       \n",
      "_________________________________________________________________\n",
      "activation_4 (Activation)    (None, 128)               0         \n",
      "_________________________________________________________________\n",
      "dropout_2 (Dropout)          (None, 128)               0         \n",
      "_________________________________________________________________\n",
      "output_layer (Dense)         (None, 1)                 129       \n",
      "=================================================================\n",
      "Total params: 59,373\n",
      "Trainable params: 58,861\n",
      "Non-trainable params: 512\n",
      "_________________________________________________________________\n"
     ]
    }
   ],
   "source": [
    "from keras.utils import  plot_model\n",
    "\n",
    "plot_model(\n",
    "        model = lstm_model,\n",
    "        to_file = \"images/LSTM.png\",\n",
    "        show_layer_names = True,\n",
    "        show_shapes = True\n",
    ")\n",
    "lstm_model.summary()"
   ]
  },
  {
   "cell_type": "markdown",
   "metadata": {},
   "source": [
    "### 训练模型"
   ]
  },
  {
   "cell_type": "code",
   "execution_count": 74,
   "metadata": {
    "ExecuteTime": {
     "end_time": "2018-08-02T03:04:17.384920Z",
     "start_time": "2018-08-02T03:04:14.467710Z"
    }
   },
   "outputs": [],
   "source": [
    "from keras.models import load_model\n",
    "\n",
    "lstm_model = load_model(\"model/lstm.h5\")"
   ]
  },
  {
   "cell_type": "code",
   "execution_count": 31,
   "metadata": {
    "ExecuteTime": {
     "end_time": "2018-08-02T02:37:37.072323Z",
     "start_time": "2018-08-02T02:37:37.025345Z"
    }
   },
   "outputs": [],
   "source": [
    "from keras.optimizers import SGD\n",
    "\n",
    "lstm_model.compile(\n",
    "                loss = binary_crossentropy,\n",
    "                metrics = [\"accuracy\"],\n",
    "                optimizer = SGD(lr = lr)\n",
    ")"
   ]
  },
  {
   "cell_type": "code",
   "execution_count": 37,
   "metadata": {
    "ExecuteTime": {
     "end_time": "2018-08-02T02:51:04.200221Z",
     "start_time": "2018-08-02T02:49:13.534412Z"
    },
    "scrolled": true
   },
   "outputs": [
    {
     "name": "stdout",
     "output_type": "stream",
     "text": [
      "Train on 8577 samples, validate on 953 samples\n",
      "Epoch 1/30\n",
      "8577/8577 [==============================] - 4s 426us/step - loss: 0.1098 - acc: 0.9592 - val_loss: 0.3416 - val_acc: 0.8562\n",
      "Epoch 2/30\n",
      "8577/8577 [==============================] - 4s 411us/step - loss: 0.0982 - acc: 0.9633 - val_loss: 0.3420 - val_acc: 0.8898\n",
      "Epoch 3/30\n",
      "8577/8577 [==============================] - 3s 386us/step - loss: 0.1011 - acc: 0.9600 - val_loss: 0.3443 - val_acc: 0.8982\n",
      "Epoch 4/30\n",
      "8577/8577 [==============================] - 3s 391us/step - loss: 0.1004 - acc: 0.9646 - val_loss: 0.3288 - val_acc: 0.8888\n",
      "Epoch 5/30\n",
      "8577/8577 [==============================] - 4s 413us/step - loss: 0.0995 - acc: 0.9633 - val_loss: 0.3586 - val_acc: 0.8552\n",
      "Epoch 6/30\n",
      "8577/8577 [==============================] - 3s 362us/step - loss: 0.1066 - acc: 0.9583 - val_loss: 0.2122 - val_acc: 0.9035\n",
      "Epoch 7/30\n",
      "8577/8577 [==============================] - 3s 377us/step - loss: 0.1109 - acc: 0.9577 - val_loss: 0.4222 - val_acc: 0.8541\n",
      "Epoch 8/30\n",
      "8577/8577 [==============================] - 4s 420us/step - loss: 0.1063 - acc: 0.9602 - val_loss: 0.2972 - val_acc: 0.8825\n",
      "Epoch 9/30\n",
      "8577/8577 [==============================] - 4s 470us/step - loss: 0.0966 - acc: 0.9648 - val_loss: 0.2189 - val_acc: 0.9087\n",
      "Epoch 10/30\n",
      "8577/8577 [==============================] - 4s 467us/step - loss: 0.0979 - acc: 0.9644 - val_loss: 0.3648 - val_acc: 0.8940\n",
      "Epoch 11/30\n",
      "8577/8577 [==============================] - 4s 463us/step - loss: 0.0977 - acc: 0.9629 - val_loss: 0.2003 - val_acc: 0.9161\n",
      "Epoch 12/30\n",
      "8577/8577 [==============================] - 4s 471us/step - loss: 0.0902 - acc: 0.9656 - val_loss: 0.2738 - val_acc: 0.9035\n",
      "Epoch 13/30\n",
      "8577/8577 [==============================] - 4s 462us/step - loss: 0.0917 - acc: 0.9655 - val_loss: 0.5181 - val_acc: 0.7964\n",
      "Epoch 14/30\n",
      "8577/8577 [==============================] - 3s 395us/step - loss: 0.0949 - acc: 0.9648 - val_loss: 0.2025 - val_acc: 0.9140\n",
      "Epoch 15/30\n",
      "8577/8577 [==============================] - 3s 405us/step - loss: 0.0940 - acc: 0.9657 - val_loss: 0.6764 - val_acc: 0.7461\n",
      "Epoch 16/30\n",
      "8577/8577 [==============================] - 3s 397us/step - loss: 0.0986 - acc: 0.9620 - val_loss: 0.3463 - val_acc: 0.8856\n",
      "Epoch 17/30\n",
      "8577/8577 [==============================] - 3s 355us/step - loss: 0.0949 - acc: 0.9648 - val_loss: 0.2159 - val_acc: 0.9098\n",
      "Epoch 18/30\n",
      "8577/8577 [==============================] - 3s 360us/step - loss: 0.0959 - acc: 0.9640 - val_loss: 0.3631 - val_acc: 0.8909\n",
      "Epoch 19/30\n",
      "8577/8577 [==============================] - 4s 414us/step - loss: 0.0975 - acc: 0.9619 - val_loss: 0.2865 - val_acc: 0.8814\n",
      "Epoch 20/30\n",
      "8577/8577 [==============================] - 4s 498us/step - loss: 0.0894 - acc: 0.9665 - val_loss: 0.3296 - val_acc: 0.8688\n",
      "Epoch 21/30\n",
      "8577/8577 [==============================] - 4s 481us/step - loss: 0.0909 - acc: 0.9656 - val_loss: 0.2939 - val_acc: 0.8825\n",
      "Epoch 22/30\n",
      "8577/8577 [==============================] - 4s 468us/step - loss: 0.0885 - acc: 0.9665 - val_loss: 0.2042 - val_acc: 0.9224\n",
      "Epoch 23/30\n",
      "8577/8577 [==============================] - 4s 474us/step - loss: 0.0954 - acc: 0.9647 - val_loss: 0.3315 - val_acc: 0.8919\n",
      "Epoch 24/30\n",
      "8577/8577 [==============================] - 4s 485us/step - loss: 0.0789 - acc: 0.9732 - val_loss: 0.3913 - val_acc: 0.8374\n",
      "Epoch 25/30\n",
      "8577/8577 [==============================] - 4s 473us/step - loss: 0.0791 - acc: 0.9714 - val_loss: 0.2078 - val_acc: 0.9119\n",
      "Epoch 26/30\n",
      "8577/8577 [==============================] - 4s 419us/step - loss: 0.0754 - acc: 0.9730 - val_loss: 0.2290 - val_acc: 0.9045\n",
      "Epoch 27/30\n",
      "8577/8577 [==============================] - 4s 445us/step - loss: 0.0861 - acc: 0.9668 - val_loss: 0.2863 - val_acc: 0.8741\n",
      "Epoch 28/30\n",
      "8577/8577 [==============================] - 4s 428us/step - loss: 0.0961 - acc: 0.9661 - val_loss: 0.2542 - val_acc: 0.8898\n",
      "Epoch 29/30\n",
      "8577/8577 [==============================] - 3s 381us/step - loss: 0.0775 - acc: 0.9718 - val_loss: 0.2964 - val_acc: 0.8846\n",
      "Epoch 30/30\n",
      "8577/8577 [==============================] - 4s 455us/step - loss: 0.0864 - acc: 0.9690 - val_loss: 0.2987 - val_acc: 0.8825\n"
     ]
    },
    {
     "data": {
      "text/plain": [
       "<keras.callbacks.History at 0x7fea1d79dfd0>"
      ]
     },
     "execution_count": 37,
     "metadata": {},
     "output_type": "execute_result"
    }
   ],
   "source": [
    "from keras.callbacks import TensorBoard\n",
    "\n",
    "lstm_model.fit(\n",
    "            x = X_train,\n",
    "            y = y_train,\n",
    "            batch_size = n_batch,\n",
    "            shuffle = True,\n",
    "            epochs = n_epoch,\n",
    "            validation_data = (X_test,y_test),\n",
    "            callbacks = [TensorBoard(log_dir = \"logs/lstm\")]\n",
    ")"
   ]
  },
  {
   "cell_type": "markdown",
   "metadata": {},
   "source": [
    "### 解决过拟合"
   ]
  },
  {
   "cell_type": "code",
   "execution_count": 51,
   "metadata": {
    "ExecuteTime": {
     "end_time": "2018-08-02T02:54:38.927073Z",
     "start_time": "2018-08-02T02:54:38.921920Z"
    }
   },
   "outputs": [
    {
     "data": {
      "text/plain": [
       "[<keras.engine.topology.InputLayer at 0x7fea556fc828>,\n",
       " <keras.layers.recurrent.LSTM at 0x7fea556fc7b8>,\n",
       " <keras.layers.core.Dense at 0x7fea556fceb8>,\n",
       " <keras.layers.normalization.BatchNormalization at 0x7fea41722fd0>,\n",
       " <keras.layers.core.Activation at 0x7fea417b9550>,\n",
       " <keras.layers.core.Dropout at 0x7fea5442de10>,\n",
       " <keras.layers.core.Dense at 0x7fea5442d940>,\n",
       " <keras.layers.normalization.BatchNormalization at 0x7fea41680438>,\n",
       " <keras.layers.core.Activation at 0x7fea4163dc88>,\n",
       " <keras.layers.core.Dropout at 0x7fea407de9e8>,\n",
       " <keras.layers.core.Dense at 0x7fea556fc8d0>]"
      ]
     },
     "execution_count": 51,
     "metadata": {},
     "output_type": "execute_result"
    }
   ],
   "source": [
    "lstm_model.layers"
   ]
  },
  {
   "cell_type": "code",
   "execution_count": 72,
   "metadata": {
    "ExecuteTime": {
     "end_time": "2018-08-02T03:04:02.916434Z",
     "start_time": "2018-08-02T03:04:02.912016Z"
    }
   },
   "outputs": [],
   "source": [
    "dropout1 = lstm_model.get_layer(\"dropout_1\")\n",
    "dropout2 = lstm_model.get_layer(\"dropout_2\")\n",
    "lstm_layer = lstm_model.get_layer(index = 1)\n",
    "\n",
    "dropout1.rate = 0.25\n",
    "dropout2.rate = 0.3"
   ]
  },
  {
   "cell_type": "code",
   "execution_count": 75,
   "metadata": {
    "ExecuteTime": {
     "end_time": "2018-08-02T03:04:22.350464Z",
     "start_time": "2018-08-02T03:04:22.306921Z"
    }
   },
   "outputs": [],
   "source": [
    "from keras.optimizers import SGD\n",
    "\n",
    "lstm_model.compile(\n",
    "                loss = binary_crossentropy,\n",
    "                metrics = [\"accuracy\"],\n",
    "                optimizer = SGD(lr = lr)\n",
    ")"
   ]
  },
  {
   "cell_type": "code",
   "execution_count": 76,
   "metadata": {
    "ExecuteTime": {
     "end_time": "2018-08-02T03:06:20.369356Z",
     "start_time": "2018-08-02T03:04:24.334905Z"
    },
    "scrolled": true
   },
   "outputs": [
    {
     "name": "stdout",
     "output_type": "stream",
     "text": [
      "Train on 8577 samples, validate on 953 samples\n",
      "Epoch 1/30\n",
      "8577/8577 [==============================] - 4s 491us/step - loss: 0.1356 - acc: 0.9457 - val_loss: 0.1796 - val_acc: 0.9339\n",
      "Epoch 2/30\n",
      "8577/8577 [==============================] - 3s 391us/step - loss: 0.1362 - acc: 0.9480 - val_loss: 0.1883 - val_acc: 0.9391\n",
      "Epoch 3/30\n",
      "8577/8577 [==============================] - 3s 399us/step - loss: 0.1392 - acc: 0.9479 - val_loss: 0.2619 - val_acc: 0.9119\n",
      "Epoch 4/30\n",
      "8577/8577 [==============================] - 4s 413us/step - loss: 0.1269 - acc: 0.9490 - val_loss: 0.2239 - val_acc: 0.9349\n",
      "Epoch 5/30\n",
      "8577/8577 [==============================] - 4s 427us/step - loss: 0.1226 - acc: 0.9548 - val_loss: 0.2016 - val_acc: 0.9182\n",
      "Epoch 6/30\n",
      "8577/8577 [==============================] - 3s 402us/step - loss: 0.1273 - acc: 0.9523 - val_loss: 0.2025 - val_acc: 0.9276\n",
      "Epoch 7/30\n",
      "8577/8577 [==============================] - 3s 395us/step - loss: 0.1144 - acc: 0.9563 - val_loss: 0.2830 - val_acc: 0.8867\n",
      "Epoch 8/30\n",
      "8577/8577 [==============================] - 3s 401us/step - loss: 0.1197 - acc: 0.9538 - val_loss: 0.3722 - val_acc: 0.8531\n",
      "Epoch 9/30\n",
      "8577/8577 [==============================] - 4s 438us/step - loss: 0.1163 - acc: 0.9534 - val_loss: 0.5598 - val_acc: 0.8793\n",
      "Epoch 10/30\n",
      "8577/8577 [==============================] - 4s 459us/step - loss: 0.1230 - acc: 0.9546 - val_loss: 0.2798 - val_acc: 0.9140\n",
      "Epoch 11/30\n",
      "8577/8577 [==============================] - 4s 456us/step - loss: 0.1190 - acc: 0.9534 - val_loss: 0.4679 - val_acc: 0.8227\n",
      "Epoch 12/30\n",
      "8577/8577 [==============================] - 4s 470us/step - loss: 0.1394 - acc: 0.9466 - val_loss: 0.4316 - val_acc: 0.8951\n",
      "Epoch 13/30\n",
      "8577/8577 [==============================] - 4s 463us/step - loss: 0.0987 - acc: 0.9609 - val_loss: 0.1605 - val_acc: 0.9412\n",
      "Epoch 14/30\n",
      "8577/8577 [==============================] - 4s 458us/step - loss: 0.1326 - acc: 0.9479 - val_loss: 0.1789 - val_acc: 0.9244\n",
      "Epoch 15/30\n",
      "8577/8577 [==============================] - 4s 463us/step - loss: 0.1266 - acc: 0.9509 - val_loss: 0.3753 - val_acc: 0.9077\n",
      "Epoch 16/30\n",
      "8577/8577 [==============================] - 4s 465us/step - loss: 0.1260 - acc: 0.9515 - val_loss: 0.1624 - val_acc: 0.9360\n",
      "Epoch 17/30\n",
      "8577/8577 [==============================] - 4s 465us/step - loss: 0.1068 - acc: 0.9578 - val_loss: 0.1947 - val_acc: 0.9412\n",
      "Epoch 18/30\n",
      "8577/8577 [==============================] - 4s 458us/step - loss: 0.1289 - acc: 0.9515 - val_loss: 0.1602 - val_acc: 0.9328\n",
      "Epoch 19/30\n",
      "8577/8577 [==============================] - 4s 502us/step - loss: 0.1145 - acc: 0.9549 - val_loss: 0.1858 - val_acc: 0.9381\n",
      "Epoch 20/30\n",
      "8577/8577 [==============================] - 4s 454us/step - loss: 0.1248 - acc: 0.9521 - val_loss: 0.1508 - val_acc: 0.9465\n",
      "Epoch 21/30\n",
      "8577/8577 [==============================] - 4s 443us/step - loss: 0.1067 - acc: 0.9567 - val_loss: 0.2041 - val_acc: 0.9412\n",
      "Epoch 22/30\n",
      "8577/8577 [==============================] - 4s 434us/step - loss: 0.1083 - acc: 0.9595 - val_loss: 0.2445 - val_acc: 0.9244\n",
      "Epoch 23/30\n",
      "8577/8577 [==============================] - 4s 423us/step - loss: 0.1052 - acc: 0.9586 - val_loss: 0.1977 - val_acc: 0.9150\n",
      "Epoch 24/30\n",
      "8577/8577 [==============================] - 4s 440us/step - loss: 0.0958 - acc: 0.9609 - val_loss: 0.1656 - val_acc: 0.9423\n",
      "Epoch 25/30\n",
      "8577/8577 [==============================] - 4s 410us/step - loss: 0.1304 - acc: 0.9495 - val_loss: 0.2821 - val_acc: 0.8825\n",
      "Epoch 26/30\n",
      "8577/8577 [==============================] - 4s 432us/step - loss: 0.1051 - acc: 0.9590 - val_loss: 0.2032 - val_acc: 0.9276\n",
      "Epoch 27/30\n",
      "8577/8577 [==============================] - 4s 417us/step - loss: 0.1053 - acc: 0.9584 - val_loss: 0.3601 - val_acc: 0.9024\n",
      "Epoch 28/30\n",
      "8577/8577 [==============================] - 4s 435us/step - loss: 0.1157 - acc: 0.9528 - val_loss: 0.1661 - val_acc: 0.9318\n",
      "Epoch 29/30\n",
      "8577/8577 [==============================] - 4s 445us/step - loss: 0.1024 - acc: 0.9583 - val_loss: 0.3597 - val_acc: 0.8510\n",
      "Epoch 30/30\n",
      "8577/8577 [==============================] - 4s 440us/step - loss: 0.0960 - acc: 0.9627 - val_loss: 0.1817 - val_acc: 0.9370\n"
     ]
    },
    {
     "data": {
      "text/plain": [
       "<keras.callbacks.History at 0x7fea17dadf28>"
      ]
     },
     "execution_count": 76,
     "metadata": {},
     "output_type": "execute_result"
    }
   ],
   "source": [
    "from keras.callbacks import TensorBoard\n",
    "\n",
    "lstm_model.fit(\n",
    "            x = X_train,\n",
    "            y = y_train,\n",
    "            batch_size = n_batch,\n",
    "            shuffle = True,\n",
    "            epochs = n_epoch,\n",
    "            validation_data = (X_test,y_test),\n",
    "            callbacks = [TensorBoard(log_dir = \"logs/lstm\")]\n",
    ")"
   ]
  },
  {
   "cell_type": "markdown",
   "metadata": {},
   "source": [
    "### 保存模型"
   ]
  },
  {
   "cell_type": "code",
   "execution_count": 77,
   "metadata": {
    "ExecuteTime": {
     "end_time": "2018-08-02T03:06:30.573870Z",
     "start_time": "2018-08-02T03:06:30.027328Z"
    }
   },
   "outputs": [],
   "source": [
    "lstm_model.save(\"model/lstm.h5\")"
   ]
  },
  {
   "cell_type": "markdown",
   "metadata": {},
   "source": [
    "## BLSTM"
   ]
  },
  {
   "cell_type": "markdown",
   "metadata": {},
   "source": [
    "### 分离训练集和测试集"
   ]
  },
  {
   "cell_type": "code",
   "execution_count": 92,
   "metadata": {
    "ExecuteTime": {
     "end_time": "2018-08-02T03:51:42.562390Z",
     "start_time": "2018-08-02T03:51:42.558839Z"
    }
   },
   "outputs": [
    {
     "name": "stdout",
     "output_type": "stream",
     "text": [
      "Data shape : (9530, 30, 25)         target shape : (9530,)\n",
      "变换后 Data Shape: (9530, 30, 25)\n"
     ]
    }
   ],
   "source": [
    "print(\"Data shape : {}         target shape : {}\".format(data.shape,target.shape))\n",
    "data.shape = (data.shape[0],n_order,-1)\n",
    "print(\"变换后 Data Shape: {}\".format(data.shape))"
   ]
  },
  {
   "cell_type": "code",
   "execution_count": 93,
   "metadata": {
    "ExecuteTime": {
     "end_time": "2018-08-02T03:52:34.449779Z",
     "start_time": "2018-08-02T03:52:34.417333Z"
    }
   },
   "outputs": [],
   "source": [
    "from sklearn.model_selection import train_test_split\n",
    "X_train, X_test, y_train, y_test  = train_test_split(data,target,shuffle = True,test_size = 0.1,random_state = 1)"
   ]
  },
  {
   "cell_type": "markdown",
   "metadata": {},
   "source": [
    "### 定义模型构建函数"
   ]
  },
  {
   "cell_type": "code",
   "execution_count": 91,
   "metadata": {
    "ExecuteTime": {
     "end_time": "2018-08-02T03:51:03.549521Z",
     "start_time": "2018-08-02T03:51:03.539584Z"
    }
   },
   "outputs": [],
   "source": [
    "import keras.backend as K\n",
    "from keras.models import Sequential\n",
    "from keras.layers import Input\n",
    "from keras.layers import BatchNormalization\n",
    "from keras.layers import Dropout\n",
    "from keras.layers import Dense\n",
    "from keras.models import Model\n",
    "from keras.layers import Activation\n",
    "from keras.optimizers import Adam\n",
    "from keras.losses import binary_crossentropy\n",
    "from keras.layers import LSTM\n",
    "from keras.layers.core import Flatten\n",
    "from keras.layers import Reshape\n",
    "from keras.layers.wrappers import Bidirectional\n",
    "\n",
    "def build_blstm_model(input_dim,blstm_units,timestep,hidden_units,droput_rate,lr):\n",
    "    \"\"\"\n",
    "        搭建Bidirectional-LSTM模型结构\n",
    "        Args:\n",
    "            input_dim :    输入维度,形式为（时间步，数据维数）\n",
    "            blstm_units :    blstm的神经元数\n",
    "            timestep:   时间步\n",
    "            hidden_units :    隐藏神经元个数\n",
    "            dropout_rate :    dropout的比率\n",
    "            lr :    学习率\n",
    "    \"\"\"\n",
    "    #输入层\n",
    "    input_layer = Input(shape = (timestep,input_dim),name = \"Input_layer\")\n",
    "    \n",
    "    #Bidirectional-LSTM层\n",
    "    single_lstm = LSTM(units = blstm_units,dropout = dropout_rate)\n",
    "    blstm_layer = Bidirectional(\n",
    "                            layer = single_lstm,\n",
    "                            merge_mode = \"concat\",\n",
    "                            name = \"blstm\")(input_layer)\n",
    "    \n",
    "    #隐藏层\n",
    "    net_layer = blstm_layer\n",
    "    for i,unit in enumerate(hidden_units):\n",
    "        net_layer = Dense(\n",
    "                        units = unit,\n",
    "                        use_bias = False,\n",
    "                        activation = None,\n",
    "                        name = \"hidden_layer_{}\".format(i + 1)\n",
    "        )(net_layer)\n",
    "        net_layer = BatchNormalization(name = \"BatchNorm_{}\".format(i + 1))(net_layer)\n",
    "        net_layer = Activation(activation = \"relu\",name = \"Activation_{}\".format(i + 1))(net_layer)\n",
    "        net_layer = Dropout(rate = dropout_rate,name = \"Dropout_{}\".format(i + 1))(net_layer)\n",
    "    \n",
    "    #输出层\n",
    "    output_layer = Dense(units = 1,activation = \"sigmoid\",name = \"output_layer\")(net_layer)\n",
    "    \n",
    "    model = Model(inputs = input_layer,outputs = output_layer,name = \"BLSTM\")\n",
    "    \n",
    "    model.compile(\n",
    "                loss = binary_crossentropy,\n",
    "                metrics = [\"acc\"],\n",
    "                optimizer = SGD(lr = lr))\n",
    "\n",
    "    return model\n",
    "    "
   ]
  },
  {
   "cell_type": "markdown",
   "metadata": {},
   "source": [
    "### 超参数"
   ]
  },
  {
   "cell_type": "code",
   "execution_count": 174,
   "metadata": {
    "ExecuteTime": {
     "end_time": "2018-08-02T05:53:16.340630Z",
     "start_time": "2018-08-02T05:53:16.337268Z"
    }
   },
   "outputs": [],
   "source": [
    "blstm_units = 128    #LSTM层的神经元数\n",
    "dropout_rate = 0\n",
    "timestep = n_order\n",
    "hidden_units = [128,64]\n",
    "lr = 0.005\n",
    "n_batch = 128\n",
    "n_epoch = 30\n",
    "input_dim = data.shape[-1]"
   ]
  },
  {
   "cell_type": "markdown",
   "metadata": {},
   "source": [
    "###  模型构建"
   ]
  },
  {
   "cell_type": "code",
   "execution_count": 98,
   "metadata": {
    "ExecuteTime": {
     "end_time": "2018-08-02T03:58:13.977786Z",
     "start_time": "2018-08-02T03:58:13.322472Z"
    }
   },
   "outputs": [
    {
     "name": "stdout",
     "output_type": "stream",
     "text": [
      "_________________________________________________________________\n",
      "Layer (type)                 Output Shape              Param #   \n",
      "=================================================================\n",
      "Input_layer (InputLayer)     (None, 30, 25)            0         \n",
      "_________________________________________________________________\n",
      "blstm (Bidirectional)        (None, 256)               157696    \n",
      "_________________________________________________________________\n",
      "hidden_layer_1 (Dense)       (None, 128)               32768     \n",
      "_________________________________________________________________\n",
      "BatchNorm_1 (BatchNormalizat (None, 128)               512       \n",
      "_________________________________________________________________\n",
      "Activation_1 (Activation)    (None, 128)               0         \n",
      "_________________________________________________________________\n",
      "Dropout_1 (Dropout)          (None, 128)               0         \n",
      "_________________________________________________________________\n",
      "hidden_layer_2 (Dense)       (None, 64)                8192      \n",
      "_________________________________________________________________\n",
      "BatchNorm_2 (BatchNormalizat (None, 64)                256       \n",
      "_________________________________________________________________\n",
      "Activation_2 (Activation)    (None, 64)                0         \n",
      "_________________________________________________________________\n",
      "Dropout_2 (Dropout)          (None, 64)                0         \n",
      "_________________________________________________________________\n",
      "output_layer (Dense)         (None, 1)                 65        \n",
      "=================================================================\n",
      "Total params: 199,489\n",
      "Trainable params: 199,105\n",
      "Non-trainable params: 384\n",
      "_________________________________________________________________\n"
     ]
    }
   ],
   "source": [
    "blstm_model = build_blstm_model(\n",
    "                        blstm_units = blstm_units,\n",
    "                        droput_rate = dropout_rate,\n",
    "                        hidden_units=hidden_units,\n",
    "                        input_dim=input_dim,\n",
    "                        lr=lr,timestep=timestep\n",
    ")\n",
    "\n",
    "blstm_model.summary()"
   ]
  },
  {
   "cell_type": "code",
   "execution_count": 102,
   "metadata": {
    "ExecuteTime": {
     "end_time": "2018-08-02T04:02:00.391745Z",
     "start_time": "2018-08-02T04:02:00.294933Z"
    },
    "scrolled": true
   },
   "outputs": [
    {
     "data": {
      "image/svg+xml": [
       "<svg height=\"885pt\" viewBox=\"0.00 0.00 466.00 885.00\" width=\"466pt\" xmlns=\"http://www.w3.org/2000/svg\" xmlns:xlink=\"http://www.w3.org/1999/xlink\">\n",
       "<g class=\"graph\" id=\"graph0\" transform=\"scale(1 1) rotate(0) translate(4 881)\">\n",
       "<title>G</title>\n",
       "<polygon fill=\"#ffffff\" points=\"-4,4 -4,-881 462,-881 462,4 -4,4\" stroke=\"transparent\"/>\n",
       "<!-- 140644669299008 -->\n",
       "<g class=\"node\" id=\"node1\">\n",
       "<title>140644669299008</title>\n",
       "<polygon fill=\"none\" points=\"41.5,-830.5 41.5,-876.5 416.5,-876.5 416.5,-830.5 41.5,-830.5\" stroke=\"#000000\"/>\n",
       "<text fill=\"#000000\" font-family=\"Times,serif\" font-size=\"14.00\" text-anchor=\"middle\" x=\"135.5\" y=\"-849.8\">Input_layer: InputLayer</text>\n",
       "<polyline fill=\"none\" points=\"229.5,-830.5 229.5,-876.5 \" stroke=\"#000000\"/>\n",
       "<text fill=\"#000000\" font-family=\"Times,serif\" font-size=\"14.00\" text-anchor=\"middle\" x=\"263.5\" y=\"-861.3\">input:</text>\n",
       "<polyline fill=\"none\" points=\"229.5,-853.5 297.5,-853.5 \" stroke=\"#000000\"/>\n",
       "<text fill=\"#000000\" font-family=\"Times,serif\" font-size=\"14.00\" text-anchor=\"middle\" x=\"263.5\" y=\"-838.3\">output:</text>\n",
       "<polyline fill=\"none\" points=\"297.5,-830.5 297.5,-876.5 \" stroke=\"#000000\"/>\n",
       "<text fill=\"#000000\" font-family=\"Times,serif\" font-size=\"14.00\" text-anchor=\"middle\" x=\"357\" y=\"-861.3\">(None, 30, 25)</text>\n",
       "<polyline fill=\"none\" points=\"297.5,-853.5 416.5,-853.5 \" stroke=\"#000000\"/>\n",
       "<text fill=\"#000000\" font-family=\"Times,serif\" font-size=\"14.00\" text-anchor=\"middle\" x=\"357\" y=\"-838.3\">(None, 30, 25)</text>\n",
       "</g>\n",
       "<!-- 140644669299400 -->\n",
       "<g class=\"node\" id=\"node2\">\n",
       "<title>140644669299400</title>\n",
       "<polygon fill=\"none\" points=\"0,-747.5 0,-793.5 458,-793.5 458,-747.5 0,-747.5\" stroke=\"#000000\"/>\n",
       "<text fill=\"#000000\" font-family=\"Times,serif\" font-size=\"14.00\" text-anchor=\"middle\" x=\"135.5\" y=\"-766.8\">blstm(lstm_8): Bidirectional(LSTM)</text>\n",
       "<polyline fill=\"none\" points=\"271,-747.5 271,-793.5 \" stroke=\"#000000\"/>\n",
       "<text fill=\"#000000\" font-family=\"Times,serif\" font-size=\"14.00\" text-anchor=\"middle\" x=\"305\" y=\"-778.3\">input:</text>\n",
       "<polyline fill=\"none\" points=\"271,-770.5 339,-770.5 \" stroke=\"#000000\"/>\n",
       "<text fill=\"#000000\" font-family=\"Times,serif\" font-size=\"14.00\" text-anchor=\"middle\" x=\"305\" y=\"-755.3\">output:</text>\n",
       "<polyline fill=\"none\" points=\"339,-747.5 339,-793.5 \" stroke=\"#000000\"/>\n",
       "<text fill=\"#000000\" font-family=\"Times,serif\" font-size=\"14.00\" text-anchor=\"middle\" x=\"398.5\" y=\"-778.3\">(None, 30, 25)</text>\n",
       "<polyline fill=\"none\" points=\"339,-770.5 458,-770.5 \" stroke=\"#000000\"/>\n",
       "<text fill=\"#000000\" font-family=\"Times,serif\" font-size=\"14.00\" text-anchor=\"middle\" x=\"398.5\" y=\"-755.3\">(None, 256)</text>\n",
       "</g>\n",
       "<!-- 140644669299008&#45;&gt;140644669299400 -->\n",
       "<g class=\"edge\" id=\"edge1\">\n",
       "<title>140644669299008-&gt;140644669299400</title>\n",
       "<path d=\"M229,-830.3799C229,-822.1745 229,-812.7679 229,-803.8786\" fill=\"none\" stroke=\"#000000\"/>\n",
       "<polygon fill=\"#000000\" points=\"232.5001,-803.784 229,-793.784 225.5001,-803.784 232.5001,-803.784\" stroke=\"#000000\"/>\n",
       "</g>\n",
       "<!-- 140644669298840 -->\n",
       "<g class=\"node\" id=\"node3\">\n",
       "<title>140644669298840</title>\n",
       "<polygon fill=\"none\" points=\"55,-664.5 55,-710.5 403,-710.5 403,-664.5 55,-664.5\" stroke=\"#000000\"/>\n",
       "<text fill=\"#000000\" font-family=\"Times,serif\" font-size=\"14.00\" text-anchor=\"middle\" x=\"144.5\" y=\"-683.8\">hidden_layer_1: Dense</text>\n",
       "<polyline fill=\"none\" points=\"234,-664.5 234,-710.5 \" stroke=\"#000000\"/>\n",
       "<text fill=\"#000000\" font-family=\"Times,serif\" font-size=\"14.00\" text-anchor=\"middle\" x=\"268\" y=\"-695.3\">input:</text>\n",
       "<polyline fill=\"none\" points=\"234,-687.5 302,-687.5 \" stroke=\"#000000\"/>\n",
       "<text fill=\"#000000\" font-family=\"Times,serif\" font-size=\"14.00\" text-anchor=\"middle\" x=\"268\" y=\"-672.3\">output:</text>\n",
       "<polyline fill=\"none\" points=\"302,-664.5 302,-710.5 \" stroke=\"#000000\"/>\n",
       "<text fill=\"#000000\" font-family=\"Times,serif\" font-size=\"14.00\" text-anchor=\"middle\" x=\"352.5\" y=\"-695.3\">(None, 256)</text>\n",
       "<polyline fill=\"none\" points=\"302,-687.5 403,-687.5 \" stroke=\"#000000\"/>\n",
       "<text fill=\"#000000\" font-family=\"Times,serif\" font-size=\"14.00\" text-anchor=\"middle\" x=\"352.5\" y=\"-672.3\">(None, 128)</text>\n",
       "</g>\n",
       "<!-- 140644669299400&#45;&gt;140644669298840 -->\n",
       "<g class=\"edge\" id=\"edge2\">\n",
       "<title>140644669299400-&gt;140644669298840</title>\n",
       "<path d=\"M229,-747.3799C229,-739.1745 229,-729.7679 229,-720.8786\" fill=\"none\" stroke=\"#000000\"/>\n",
       "<polygon fill=\"#000000\" points=\"232.5001,-720.784 229,-710.784 225.5001,-720.784 232.5001,-720.784\" stroke=\"#000000\"/>\n",
       "</g>\n",
       "<!-- 140644666194688 -->\n",
       "<g class=\"node\" id=\"node4\">\n",
       "<title>140644666194688</title>\n",
       "<polygon fill=\"none\" points=\"10,-581.5 10,-627.5 448,-627.5 448,-581.5 10,-581.5\" stroke=\"#000000\"/>\n",
       "<text fill=\"#000000\" font-family=\"Times,serif\" font-size=\"14.00\" text-anchor=\"middle\" x=\"144.5\" y=\"-600.8\">BatchNorm_1: BatchNormalization</text>\n",
       "<polyline fill=\"none\" points=\"279,-581.5 279,-627.5 \" stroke=\"#000000\"/>\n",
       "<text fill=\"#000000\" font-family=\"Times,serif\" font-size=\"14.00\" text-anchor=\"middle\" x=\"313\" y=\"-612.3\">input:</text>\n",
       "<polyline fill=\"none\" points=\"279,-604.5 347,-604.5 \" stroke=\"#000000\"/>\n",
       "<text fill=\"#000000\" font-family=\"Times,serif\" font-size=\"14.00\" text-anchor=\"middle\" x=\"313\" y=\"-589.3\">output:</text>\n",
       "<polyline fill=\"none\" points=\"347,-581.5 347,-627.5 \" stroke=\"#000000\"/>\n",
       "<text fill=\"#000000\" font-family=\"Times,serif\" font-size=\"14.00\" text-anchor=\"middle\" x=\"397.5\" y=\"-612.3\">(None, 128)</text>\n",
       "<polyline fill=\"none\" points=\"347,-604.5 448,-604.5 \" stroke=\"#000000\"/>\n",
       "<text fill=\"#000000\" font-family=\"Times,serif\" font-size=\"14.00\" text-anchor=\"middle\" x=\"397.5\" y=\"-589.3\">(None, 128)</text>\n",
       "</g>\n",
       "<!-- 140644669298840&#45;&gt;140644666194688 -->\n",
       "<g class=\"edge\" id=\"edge3\">\n",
       "<title>140644669298840-&gt;140644666194688</title>\n",
       "<path d=\"M229,-664.3799C229,-656.1745 229,-646.7679 229,-637.8786\" fill=\"none\" stroke=\"#000000\"/>\n",
       "<polygon fill=\"#000000\" points=\"232.5001,-637.784 229,-627.784 225.5001,-637.784 232.5001,-637.784\" stroke=\"#000000\"/>\n",
       "</g>\n",
       "<!-- 140644666192056 -->\n",
       "<g class=\"node\" id=\"node5\">\n",
       "<title>140644666192056</title>\n",
       "<polygon fill=\"none\" points=\"50,-498.5 50,-544.5 408,-544.5 408,-498.5 50,-498.5\" stroke=\"#000000\"/>\n",
       "<text fill=\"#000000\" font-family=\"Times,serif\" font-size=\"14.00\" text-anchor=\"middle\" x=\"144.5\" y=\"-517.8\">Activation_1: Activation</text>\n",
       "<polyline fill=\"none\" points=\"239,-498.5 239,-544.5 \" stroke=\"#000000\"/>\n",
       "<text fill=\"#000000\" font-family=\"Times,serif\" font-size=\"14.00\" text-anchor=\"middle\" x=\"273\" y=\"-529.3\">input:</text>\n",
       "<polyline fill=\"none\" points=\"239,-521.5 307,-521.5 \" stroke=\"#000000\"/>\n",
       "<text fill=\"#000000\" font-family=\"Times,serif\" font-size=\"14.00\" text-anchor=\"middle\" x=\"273\" y=\"-506.3\">output:</text>\n",
       "<polyline fill=\"none\" points=\"307,-498.5 307,-544.5 \" stroke=\"#000000\"/>\n",
       "<text fill=\"#000000\" font-family=\"Times,serif\" font-size=\"14.00\" text-anchor=\"middle\" x=\"357.5\" y=\"-529.3\">(None, 128)</text>\n",
       "<polyline fill=\"none\" points=\"307,-521.5 408,-521.5 \" stroke=\"#000000\"/>\n",
       "<text fill=\"#000000\" font-family=\"Times,serif\" font-size=\"14.00\" text-anchor=\"middle\" x=\"357.5\" y=\"-506.3\">(None, 128)</text>\n",
       "</g>\n",
       "<!-- 140644666194688&#45;&gt;140644666192056 -->\n",
       "<g class=\"edge\" id=\"edge4\">\n",
       "<title>140644666194688-&gt;140644666192056</title>\n",
       "<path d=\"M229,-581.3799C229,-573.1745 229,-563.7679 229,-554.8786\" fill=\"none\" stroke=\"#000000\"/>\n",
       "<polygon fill=\"#000000\" points=\"232.5001,-554.784 229,-544.784 225.5001,-554.784 232.5001,-554.784\" stroke=\"#000000\"/>\n",
       "</g>\n",
       "<!-- 140644665034680 -->\n",
       "<g class=\"node\" id=\"node6\">\n",
       "<title>140644665034680</title>\n",
       "<polygon fill=\"none\" points=\"65,-415.5 65,-461.5 393,-461.5 393,-415.5 65,-415.5\" stroke=\"#000000\"/>\n",
       "<text fill=\"#000000\" font-family=\"Times,serif\" font-size=\"14.00\" text-anchor=\"middle\" x=\"144.5\" y=\"-434.8\">Dropout_1: Dropout</text>\n",
       "<polyline fill=\"none\" points=\"224,-415.5 224,-461.5 \" stroke=\"#000000\"/>\n",
       "<text fill=\"#000000\" font-family=\"Times,serif\" font-size=\"14.00\" text-anchor=\"middle\" x=\"258\" y=\"-446.3\">input:</text>\n",
       "<polyline fill=\"none\" points=\"224,-438.5 292,-438.5 \" stroke=\"#000000\"/>\n",
       "<text fill=\"#000000\" font-family=\"Times,serif\" font-size=\"14.00\" text-anchor=\"middle\" x=\"258\" y=\"-423.3\">output:</text>\n",
       "<polyline fill=\"none\" points=\"292,-415.5 292,-461.5 \" stroke=\"#000000\"/>\n",
       "<text fill=\"#000000\" font-family=\"Times,serif\" font-size=\"14.00\" text-anchor=\"middle\" x=\"342.5\" y=\"-446.3\">(None, 128)</text>\n",
       "<polyline fill=\"none\" points=\"292,-438.5 393,-438.5 \" stroke=\"#000000\"/>\n",
       "<text fill=\"#000000\" font-family=\"Times,serif\" font-size=\"14.00\" text-anchor=\"middle\" x=\"342.5\" y=\"-423.3\">(None, 128)</text>\n",
       "</g>\n",
       "<!-- 140644666192056&#45;&gt;140644665034680 -->\n",
       "<g class=\"edge\" id=\"edge5\">\n",
       "<title>140644666192056-&gt;140644665034680</title>\n",
       "<path d=\"M229,-498.3799C229,-490.1745 229,-480.7679 229,-471.8786\" fill=\"none\" stroke=\"#000000\"/>\n",
       "<polygon fill=\"#000000\" points=\"232.5001,-471.784 229,-461.784 225.5001,-471.784 232.5001,-471.784\" stroke=\"#000000\"/>\n",
       "</g>\n",
       "<!-- 140644664750880 -->\n",
       "<g class=\"node\" id=\"node7\">\n",
       "<title>140644664750880</title>\n",
       "<polygon fill=\"none\" points=\"55,-332.5 55,-378.5 403,-378.5 403,-332.5 55,-332.5\" stroke=\"#000000\"/>\n",
       "<text fill=\"#000000\" font-family=\"Times,serif\" font-size=\"14.00\" text-anchor=\"middle\" x=\"144.5\" y=\"-351.8\">hidden_layer_2: Dense</text>\n",
       "<polyline fill=\"none\" points=\"234,-332.5 234,-378.5 \" stroke=\"#000000\"/>\n",
       "<text fill=\"#000000\" font-family=\"Times,serif\" font-size=\"14.00\" text-anchor=\"middle\" x=\"268\" y=\"-363.3\">input:</text>\n",
       "<polyline fill=\"none\" points=\"234,-355.5 302,-355.5 \" stroke=\"#000000\"/>\n",
       "<text fill=\"#000000\" font-family=\"Times,serif\" font-size=\"14.00\" text-anchor=\"middle\" x=\"268\" y=\"-340.3\">output:</text>\n",
       "<polyline fill=\"none\" points=\"302,-332.5 302,-378.5 \" stroke=\"#000000\"/>\n",
       "<text fill=\"#000000\" font-family=\"Times,serif\" font-size=\"14.00\" text-anchor=\"middle\" x=\"352.5\" y=\"-363.3\">(None, 128)</text>\n",
       "<polyline fill=\"none\" points=\"302,-355.5 403,-355.5 \" stroke=\"#000000\"/>\n",
       "<text fill=\"#000000\" font-family=\"Times,serif\" font-size=\"14.00\" text-anchor=\"middle\" x=\"352.5\" y=\"-340.3\">(None, 64)</text>\n",
       "</g>\n",
       "<!-- 140644665034680&#45;&gt;140644664750880 -->\n",
       "<g class=\"edge\" id=\"edge6\">\n",
       "<title>140644665034680-&gt;140644664750880</title>\n",
       "<path d=\"M229,-415.3799C229,-407.1745 229,-397.7679 229,-388.8786\" fill=\"none\" stroke=\"#000000\"/>\n",
       "<polygon fill=\"#000000\" points=\"232.5001,-388.784 229,-378.784 225.5001,-388.784 232.5001,-388.784\" stroke=\"#000000\"/>\n",
       "</g>\n",
       "<!-- 140644664494456 -->\n",
       "<g class=\"node\" id=\"node8\">\n",
       "<title>140644664494456</title>\n",
       "<polygon fill=\"none\" points=\"14.5,-249.5 14.5,-295.5 443.5,-295.5 443.5,-249.5 14.5,-249.5\" stroke=\"#000000\"/>\n",
       "<text fill=\"#000000\" font-family=\"Times,serif\" font-size=\"14.00\" text-anchor=\"middle\" x=\"149\" y=\"-268.8\">BatchNorm_2: BatchNormalization</text>\n",
       "<polyline fill=\"none\" points=\"283.5,-249.5 283.5,-295.5 \" stroke=\"#000000\"/>\n",
       "<text fill=\"#000000\" font-family=\"Times,serif\" font-size=\"14.00\" text-anchor=\"middle\" x=\"317.5\" y=\"-280.3\">input:</text>\n",
       "<polyline fill=\"none\" points=\"283.5,-272.5 351.5,-272.5 \" stroke=\"#000000\"/>\n",
       "<text fill=\"#000000\" font-family=\"Times,serif\" font-size=\"14.00\" text-anchor=\"middle\" x=\"317.5\" y=\"-257.3\">output:</text>\n",
       "<polyline fill=\"none\" points=\"351.5,-249.5 351.5,-295.5 \" stroke=\"#000000\"/>\n",
       "<text fill=\"#000000\" font-family=\"Times,serif\" font-size=\"14.00\" text-anchor=\"middle\" x=\"397.5\" y=\"-280.3\">(None, 64)</text>\n",
       "<polyline fill=\"none\" points=\"351.5,-272.5 443.5,-272.5 \" stroke=\"#000000\"/>\n",
       "<text fill=\"#000000\" font-family=\"Times,serif\" font-size=\"14.00\" text-anchor=\"middle\" x=\"397.5\" y=\"-257.3\">(None, 64)</text>\n",
       "</g>\n",
       "<!-- 140644664750880&#45;&gt;140644664494456 -->\n",
       "<g class=\"edge\" id=\"edge7\">\n",
       "<title>140644664750880-&gt;140644664494456</title>\n",
       "<path d=\"M229,-332.3799C229,-324.1745 229,-314.7679 229,-305.8786\" fill=\"none\" stroke=\"#000000\"/>\n",
       "<polygon fill=\"#000000\" points=\"232.5001,-305.784 229,-295.784 225.5001,-305.784 232.5001,-305.784\" stroke=\"#000000\"/>\n",
       "</g>\n",
       "<!-- 140644664386000 -->\n",
       "<g class=\"node\" id=\"node9\">\n",
       "<title>140644664386000</title>\n",
       "<polygon fill=\"none\" points=\"54.5,-166.5 54.5,-212.5 403.5,-212.5 403.5,-166.5 54.5,-166.5\" stroke=\"#000000\"/>\n",
       "<text fill=\"#000000\" font-family=\"Times,serif\" font-size=\"14.00\" text-anchor=\"middle\" x=\"149\" y=\"-185.8\">Activation_2: Activation</text>\n",
       "<polyline fill=\"none\" points=\"243.5,-166.5 243.5,-212.5 \" stroke=\"#000000\"/>\n",
       "<text fill=\"#000000\" font-family=\"Times,serif\" font-size=\"14.00\" text-anchor=\"middle\" x=\"277.5\" y=\"-197.3\">input:</text>\n",
       "<polyline fill=\"none\" points=\"243.5,-189.5 311.5,-189.5 \" stroke=\"#000000\"/>\n",
       "<text fill=\"#000000\" font-family=\"Times,serif\" font-size=\"14.00\" text-anchor=\"middle\" x=\"277.5\" y=\"-174.3\">output:</text>\n",
       "<polyline fill=\"none\" points=\"311.5,-166.5 311.5,-212.5 \" stroke=\"#000000\"/>\n",
       "<text fill=\"#000000\" font-family=\"Times,serif\" font-size=\"14.00\" text-anchor=\"middle\" x=\"357.5\" y=\"-197.3\">(None, 64)</text>\n",
       "<polyline fill=\"none\" points=\"311.5,-189.5 403.5,-189.5 \" stroke=\"#000000\"/>\n",
       "<text fill=\"#000000\" font-family=\"Times,serif\" font-size=\"14.00\" text-anchor=\"middle\" x=\"357.5\" y=\"-174.3\">(None, 64)</text>\n",
       "</g>\n",
       "<!-- 140644664494456&#45;&gt;140644664386000 -->\n",
       "<g class=\"edge\" id=\"edge8\">\n",
       "<title>140644664494456-&gt;140644664386000</title>\n",
       "<path d=\"M229,-249.3799C229,-241.1745 229,-231.7679 229,-222.8786\" fill=\"none\" stroke=\"#000000\"/>\n",
       "<polygon fill=\"#000000\" points=\"232.5001,-222.784 229,-212.784 225.5001,-222.784 232.5001,-222.784\" stroke=\"#000000\"/>\n",
       "</g>\n",
       "<!-- 140644664103488 -->\n",
       "<g class=\"node\" id=\"node10\">\n",
       "<title>140644664103488</title>\n",
       "<polygon fill=\"none\" points=\"69.5,-83.5 69.5,-129.5 388.5,-129.5 388.5,-83.5 69.5,-83.5\" stroke=\"#000000\"/>\n",
       "<text fill=\"#000000\" font-family=\"Times,serif\" font-size=\"14.00\" text-anchor=\"middle\" x=\"149\" y=\"-102.8\">Dropout_2: Dropout</text>\n",
       "<polyline fill=\"none\" points=\"228.5,-83.5 228.5,-129.5 \" stroke=\"#000000\"/>\n",
       "<text fill=\"#000000\" font-family=\"Times,serif\" font-size=\"14.00\" text-anchor=\"middle\" x=\"262.5\" y=\"-114.3\">input:</text>\n",
       "<polyline fill=\"none\" points=\"228.5,-106.5 296.5,-106.5 \" stroke=\"#000000\"/>\n",
       "<text fill=\"#000000\" font-family=\"Times,serif\" font-size=\"14.00\" text-anchor=\"middle\" x=\"262.5\" y=\"-91.3\">output:</text>\n",
       "<polyline fill=\"none\" points=\"296.5,-83.5 296.5,-129.5 \" stroke=\"#000000\"/>\n",
       "<text fill=\"#000000\" font-family=\"Times,serif\" font-size=\"14.00\" text-anchor=\"middle\" x=\"342.5\" y=\"-114.3\">(None, 64)</text>\n",
       "<polyline fill=\"none\" points=\"296.5,-106.5 388.5,-106.5 \" stroke=\"#000000\"/>\n",
       "<text fill=\"#000000\" font-family=\"Times,serif\" font-size=\"14.00\" text-anchor=\"middle\" x=\"342.5\" y=\"-91.3\">(None, 64)</text>\n",
       "</g>\n",
       "<!-- 140644664386000&#45;&gt;140644664103488 -->\n",
       "<g class=\"edge\" id=\"edge9\">\n",
       "<title>140644664386000-&gt;140644664103488</title>\n",
       "<path d=\"M229,-166.3799C229,-158.1745 229,-148.7679 229,-139.8786\" fill=\"none\" stroke=\"#000000\"/>\n",
       "<polygon fill=\"#000000\" points=\"232.5001,-139.784 229,-129.784 225.5001,-139.784 232.5001,-139.784\" stroke=\"#000000\"/>\n",
       "</g>\n",
       "<!-- 140644669299288 -->\n",
       "<g class=\"node\" id=\"node11\">\n",
       "<title>140644669299288</title>\n",
       "<polygon fill=\"none\" points=\"68.5,-.5 68.5,-46.5 389.5,-46.5 389.5,-.5 68.5,-.5\" stroke=\"#000000\"/>\n",
       "<text fill=\"#000000\" font-family=\"Times,serif\" font-size=\"14.00\" text-anchor=\"middle\" x=\"149\" y=\"-19.8\">output_layer: Dense</text>\n",
       "<polyline fill=\"none\" points=\"229.5,-.5 229.5,-46.5 \" stroke=\"#000000\"/>\n",
       "<text fill=\"#000000\" font-family=\"Times,serif\" font-size=\"14.00\" text-anchor=\"middle\" x=\"263.5\" y=\"-31.3\">input:</text>\n",
       "<polyline fill=\"none\" points=\"229.5,-23.5 297.5,-23.5 \" stroke=\"#000000\"/>\n",
       "<text fill=\"#000000\" font-family=\"Times,serif\" font-size=\"14.00\" text-anchor=\"middle\" x=\"263.5\" y=\"-8.3\">output:</text>\n",
       "<polyline fill=\"none\" points=\"297.5,-.5 297.5,-46.5 \" stroke=\"#000000\"/>\n",
       "<text fill=\"#000000\" font-family=\"Times,serif\" font-size=\"14.00\" text-anchor=\"middle\" x=\"343.5\" y=\"-31.3\">(None, 64)</text>\n",
       "<polyline fill=\"none\" points=\"297.5,-23.5 389.5,-23.5 \" stroke=\"#000000\"/>\n",
       "<text fill=\"#000000\" font-family=\"Times,serif\" font-size=\"14.00\" text-anchor=\"middle\" x=\"343.5\" y=\"-8.3\">(None, 1)</text>\n",
       "</g>\n",
       "<!-- 140644664103488&#45;&gt;140644669299288 -->\n",
       "<g class=\"edge\" id=\"edge10\">\n",
       "<title>140644664103488-&gt;140644669299288</title>\n",
       "<path d=\"M229,-83.3799C229,-75.1745 229,-65.7679 229,-56.8786\" fill=\"none\" stroke=\"#000000\"/>\n",
       "<polygon fill=\"#000000\" points=\"232.5001,-56.784 229,-46.784 225.5001,-56.784 232.5001,-56.784\" stroke=\"#000000\"/>\n",
       "</g>\n",
       "</g>\n",
       "</svg>"
      ],
      "text/plain": [
       "<IPython.core.display.SVG object>"
      ]
     },
     "execution_count": 102,
     "metadata": {},
     "output_type": "execute_result"
    }
   ],
   "source": [
    "from IPython.display import SVG\n",
    "from keras.utils.vis_utils import model_to_dot\n",
    "from keras.utils import  plot_model\n",
    "\n",
    "plot_model(\n",
    "        model = blstm_model,\n",
    "        to_file = \"images/BLSTM.png\",\n",
    "        show_layer_names = True,\n",
    "        show_shapes = True\n",
    ")\n",
    "\n",
    "SVG(model_to_dot(blstm_model,show_layer_names = True,show_shapes = True).create(prog='dot', format='svg'))"
   ]
  },
  {
   "cell_type": "markdown",
   "metadata": {},
   "source": [
    "### 训练模型"
   ]
  },
  {
   "cell_type": "code",
   "execution_count": 175,
   "metadata": {
    "ExecuteTime": {
     "end_time": "2018-08-02T05:53:40.037671Z",
     "start_time": "2018-08-02T05:53:30.238749Z"
    }
   },
   "outputs": [],
   "source": [
    "blstm_model = load_model(\"model/blstm.h5\")"
   ]
  },
  {
   "cell_type": "code",
   "execution_count": 110,
   "metadata": {
    "ExecuteTime": {
     "end_time": "2018-08-02T04:23:12.653024Z",
     "start_time": "2018-08-02T04:18:36.088864Z"
    },
    "scrolled": true
   },
   "outputs": [
    {
     "name": "stdout",
     "output_type": "stream",
     "text": [
      "Train on 8577 samples, validate on 953 samples\n",
      "Epoch 1/30\n",
      "8577/8577 [==============================] - 9s 1ms/step - loss: 0.0187 - acc: 0.9952 - val_loss: 0.3667 - val_acc: 0.8940\n",
      "Epoch 2/30\n",
      "8577/8577 [==============================] - 9s 996us/step - loss: 0.0146 - acc: 0.9970 - val_loss: 0.4200 - val_acc: 0.8646\n",
      "Epoch 3/30\n",
      "8577/8577 [==============================] - 8s 983us/step - loss: 0.0115 - acc: 0.9976 - val_loss: 0.3939 - val_acc: 0.8972\n",
      "Epoch 4/30\n",
      "8577/8577 [==============================] - 9s 1ms/step - loss: 0.0199 - acc: 0.9942 - val_loss: 0.4165 - val_acc: 0.8846\n",
      "Epoch 5/30\n",
      "8577/8577 [==============================] - 9s 1ms/step - loss: 0.0189 - acc: 0.9946 - val_loss: 0.4069 - val_acc: 0.8751\n",
      "Epoch 6/30\n",
      "8577/8577 [==============================] - 9s 1ms/step - loss: 0.0377 - acc: 0.9860 - val_loss: 0.4614 - val_acc: 0.8846\n",
      "Epoch 7/30\n",
      "8577/8577 [==============================] - 9s 1ms/step - loss: 0.0225 - acc: 0.9938 - val_loss: 0.3783 - val_acc: 0.8993\n",
      "Epoch 8/30\n",
      "8577/8577 [==============================] - 9s 1ms/step - loss: 0.0111 - acc: 0.9973 - val_loss: 1.5159 - val_acc: 0.7922\n",
      "Epoch 9/30\n",
      "8577/8577 [==============================] - 10s 1ms/step - loss: 0.0170 - acc: 0.9952 - val_loss: 0.9233 - val_acc: 0.8478\n",
      "Epoch 10/30\n",
      "8577/8577 [==============================] - 10s 1ms/step - loss: 0.0245 - acc: 0.9929 - val_loss: 0.3996 - val_acc: 0.8877\n",
      "Epoch 11/30\n",
      "8577/8577 [==============================] - 9s 1ms/step - loss: 0.0213 - acc: 0.9924 - val_loss: 0.4253 - val_acc: 0.8867\n",
      "Epoch 12/30\n",
      "8577/8577 [==============================] - 9s 1ms/step - loss: 0.0151 - acc: 0.9964 - val_loss: 0.3413 - val_acc: 0.8940\n",
      "Epoch 13/30\n",
      "8577/8577 [==============================] - 9s 1ms/step - loss: 0.0248 - acc: 0.9914 - val_loss: 0.4256 - val_acc: 0.8646\n",
      "Epoch 14/30\n",
      "8577/8577 [==============================] - 9s 1ms/step - loss: 0.0184 - acc: 0.9953 - val_loss: 0.4372 - val_acc: 0.8972\n",
      "Epoch 15/30\n",
      "8577/8577 [==============================] - 9s 1ms/step - loss: 0.0199 - acc: 0.9930 - val_loss: 0.4102 - val_acc: 0.8846\n",
      "Epoch 16/30\n",
      "8577/8577 [==============================] - 9s 1ms/step - loss: 0.0273 - acc: 0.9902 - val_loss: 0.8155 - val_acc: 0.8027\n",
      "Epoch 17/30\n",
      "8577/8577 [==============================] - 9s 1ms/step - loss: 0.0235 - acc: 0.9918 - val_loss: 0.6597 - val_acc: 0.8332\n",
      "Epoch 18/30\n",
      "8577/8577 [==============================] - 9s 1ms/step - loss: 0.0114 - acc: 0.9976 - val_loss: 0.4333 - val_acc: 0.9035\n",
      "Epoch 19/30\n",
      "8577/8577 [==============================] - 9s 1ms/step - loss: 0.0329 - acc: 0.9893 - val_loss: 0.4866 - val_acc: 0.8972\n",
      "Epoch 20/30\n",
      "8577/8577 [==============================] - 9s 1ms/step - loss: 0.0187 - acc: 0.9955 - val_loss: 0.3858 - val_acc: 0.8877\n",
      "Epoch 21/30\n",
      "8577/8577 [==============================] - 9s 1ms/step - loss: 0.0123 - acc: 0.9969 - val_loss: 0.3614 - val_acc: 0.9045\n",
      "Epoch 22/30\n",
      "8577/8577 [==============================] - 9s 1ms/step - loss: 0.0067 - acc: 0.9988 - val_loss: 0.3759 - val_acc: 0.9003\n",
      "Epoch 23/30\n",
      "8577/8577 [==============================] - 10s 1ms/step - loss: 0.0089 - acc: 0.9974 - val_loss: 0.4082 - val_acc: 0.8804\n",
      "Epoch 24/30\n",
      "8577/8577 [==============================] - 10s 1ms/step - loss: 0.0061 - acc: 0.9992 - val_loss: 0.4050 - val_acc: 0.8951\n",
      "Epoch 25/30\n",
      "8577/8577 [==============================] - 10s 1ms/step - loss: 0.0066 - acc: 0.9990 - val_loss: 0.3863 - val_acc: 0.8982\n",
      "Epoch 26/30\n",
      "8577/8577 [==============================] - 10s 1ms/step - loss: 0.0124 - acc: 0.9967 - val_loss: 0.4122 - val_acc: 0.8762\n",
      "Epoch 27/30\n",
      "8577/8577 [==============================] - 9s 1ms/step - loss: 0.0076 - acc: 0.9984 - val_loss: 0.6706 - val_acc: 0.8720\n",
      "Epoch 28/30\n",
      "8577/8577 [==============================] - 9s 1ms/step - loss: 0.0072 - acc: 0.9990 - val_loss: 0.3784 - val_acc: 0.9066\n",
      "Epoch 29/30\n",
      "8577/8577 [==============================] - 9s 1ms/step - loss: 0.0337 - acc: 0.9887 - val_loss: 0.3802 - val_acc: 0.8951\n",
      "Epoch 30/30\n",
      "8577/8577 [==============================] - 9s 1ms/step - loss: 0.0057 - acc: 0.9995 - val_loss: 0.3817 - val_acc: 0.9014\n"
     ]
    },
    {
     "data": {
      "text/plain": [
       "<keras.callbacks.History at 0x7fea161affd0>"
      ]
     },
     "execution_count": 110,
     "metadata": {},
     "output_type": "execute_result"
    }
   ],
   "source": [
    "from keras.callbacks import TensorBoard\n",
    "\n",
    "model.compile(\n",
    "                loss = binary_crossentropy,\n",
    "                metrics = [\"acc\"],\n",
    "                optimizer = SGD(lr = lr))\n",
    "\n",
    "blstm_model.fit(\n",
    "            x = X_train,\n",
    "            y = y_train,\n",
    "            batch_size = n_batch,\n",
    "            shuffle = True,\n",
    "            epochs = n_epoch,\n",
    "            validation_data = (X_test,y_test),\n",
    "            callbacks = [TensorBoard(log_dir = \"logs/blstm\")]\n",
    ")"
   ]
  },
  {
   "cell_type": "markdown",
   "metadata": {},
   "source": [
    "### 解决过拟合问题"
   ]
  },
  {
   "cell_type": "code",
   "execution_count": 113,
   "metadata": {
    "ExecuteTime": {
     "end_time": "2018-08-02T04:23:39.028157Z",
     "start_time": "2018-08-02T04:23:39.023650Z"
    }
   },
   "outputs": [
    {
     "data": {
      "text/plain": [
       "[<keras.engine.topology.InputLayer at 0x7fea638d9940>,\n",
       " <keras.layers.wrappers.Bidirectional at 0x7fea638d9ac8>,\n",
       " <keras.layers.core.Dense at 0x7fea638d9898>,\n",
       " <keras.layers.normalization.BatchNormalization at 0x7fea635e3b00>,\n",
       " <keras.layers.core.Activation at 0x7fea635e30b8>,\n",
       " <keras.layers.core.Dropout at 0x7fea634c87b8>,\n",
       " <keras.layers.core.Dense at 0x7fea63483320>,\n",
       " <keras.layers.normalization.BatchNormalization at 0x7fea63444978>,\n",
       " <keras.layers.core.Activation at 0x7fea6342a1d0>,\n",
       " <keras.layers.core.Dropout at 0x7fea633e5240>,\n",
       " <keras.layers.core.Dense at 0x7fea638d9a58>]"
      ]
     },
     "execution_count": 113,
     "metadata": {},
     "output_type": "execute_result"
    }
   ],
   "source": [
    "blstm_model.layers"
   ]
  },
  {
   "cell_type": "code",
   "execution_count": 176,
   "metadata": {
    "ExecuteTime": {
     "end_time": "2018-08-02T05:53:40.368116Z",
     "start_time": "2018-08-02T05:53:40.365813Z"
    }
   },
   "outputs": [],
   "source": [
    "dropout1 = blstm_model.get_layer(name = \"Dropout_1\")\n",
    "dropout2 = blstm_model.get_layer(name = \"Dropout_2\")\n",
    "\n",
    "dropout1.rate = 0.6\n",
    "dropout2.rate = 0.8"
   ]
  },
  {
   "cell_type": "code",
   "execution_count": 177,
   "metadata": {
    "ExecuteTime": {
     "end_time": "2018-08-02T05:53:42.306471Z",
     "start_time": "2018-08-02T05:53:42.261535Z"
    }
   },
   "outputs": [],
   "source": [
    "blstm_model.compile(\n",
    "                loss = binary_crossentropy,\n",
    "                metrics = [\"acc\"],\n",
    "                optimizer = SGD(lr = lr))"
   ]
  },
  {
   "cell_type": "code",
   "execution_count": 178,
   "metadata": {
    "ExecuteTime": {
     "end_time": "2018-08-02T05:58:20.542534Z",
     "start_time": "2018-08-02T05:53:43.104873Z"
    },
    "scrolled": true
   },
   "outputs": [
    {
     "name": "stdout",
     "output_type": "stream",
     "text": [
      "Train on 8577 samples, validate on 953 samples\n",
      "Epoch 1/30\n",
      "8577/8577 [==============================] - 10s 1ms/step - loss: 0.0783 - acc: 0.9697 - val_loss: 0.2305 - val_acc: 0.9444\n",
      "Epoch 2/30\n",
      "8577/8577 [==============================] - 9s 1ms/step - loss: 0.0732 - acc: 0.9712 - val_loss: 0.1748 - val_acc: 0.9538\n",
      "Epoch 3/30\n",
      "8577/8577 [==============================] - 8s 984us/step - loss: 0.0692 - acc: 0.9730 - val_loss: 0.1935 - val_acc: 0.9402\n",
      "Epoch 4/30\n",
      "8577/8577 [==============================] - 8s 949us/step - loss: 0.0619 - acc: 0.9773 - val_loss: 0.1685 - val_acc: 0.9559\n",
      "Epoch 5/30\n",
      "8577/8577 [==============================] - 8s 972us/step - loss: 0.0701 - acc: 0.9719 - val_loss: 0.1715 - val_acc: 0.9538\n",
      "Epoch 6/30\n",
      "8577/8577 [==============================] - 8s 960us/step - loss: 0.0707 - acc: 0.9734 - val_loss: 0.1600 - val_acc: 0.9580\n",
      "Epoch 7/30\n",
      "8577/8577 [==============================] - 8s 968us/step - loss: 0.0724 - acc: 0.9713 - val_loss: 0.2025 - val_acc: 0.9486\n",
      "Epoch 8/30\n",
      "8577/8577 [==============================] - 9s 1ms/step - loss: 0.0652 - acc: 0.9752 - val_loss: 0.2281 - val_acc: 0.9465\n",
      "Epoch 9/30\n",
      "8577/8577 [==============================] - 8s 991us/step - loss: 0.0576 - acc: 0.9783 - val_loss: 0.1995 - val_acc: 0.9496\n",
      "Epoch 10/30\n",
      "8577/8577 [==============================] - 8s 957us/step - loss: 0.0707 - acc: 0.9739 - val_loss: 0.1587 - val_acc: 0.9528\n",
      "Epoch 11/30\n",
      "8577/8577 [==============================] - 8s 957us/step - loss: 0.0571 - acc: 0.9777 - val_loss: 0.1768 - val_acc: 0.9538\n",
      "Epoch 12/30\n",
      "8577/8577 [==============================] - 9s 1ms/step - loss: 0.0612 - acc: 0.9753 - val_loss: 0.1680 - val_acc: 0.9517\n",
      "Epoch 13/30\n",
      "8577/8577 [==============================] - 9s 1ms/step - loss: 0.0599 - acc: 0.9768 - val_loss: 0.1466 - val_acc: 0.9570\n",
      "Epoch 14/30\n",
      "8577/8577 [==============================] - 9s 1ms/step - loss: 0.0627 - acc: 0.9760 - val_loss: 0.1713 - val_acc: 0.9528\n",
      "Epoch 15/30\n",
      "8577/8577 [==============================] - 9s 1ms/step - loss: 0.0581 - acc: 0.9766 - val_loss: 0.1811 - val_acc: 0.9528\n",
      "Epoch 16/30\n",
      "8577/8577 [==============================] - 9s 1ms/step - loss: 0.0589 - acc: 0.9783 - val_loss: 0.1700 - val_acc: 0.9507\n",
      "Epoch 17/30\n",
      "8577/8577 [==============================] - 10s 1ms/step - loss: 0.0671 - acc: 0.9744 - val_loss: 0.1651 - val_acc: 0.9496\n",
      "Epoch 18/30\n",
      "8577/8577 [==============================] - 10s 1ms/step - loss: 0.0703 - acc: 0.9739 - val_loss: 0.1744 - val_acc: 0.9528\n",
      "Epoch 19/30\n",
      "8577/8577 [==============================] - 10s 1ms/step - loss: 0.0624 - acc: 0.9759 - val_loss: 0.1524 - val_acc: 0.9580\n",
      "Epoch 20/30\n",
      "8577/8577 [==============================] - 9s 1ms/step - loss: 0.0543 - acc: 0.9771 - val_loss: 0.1746 - val_acc: 0.9517\n",
      "Epoch 21/30\n",
      "8577/8577 [==============================] - 8s 961us/step - loss: 0.0579 - acc: 0.9778 - val_loss: 0.2125 - val_acc: 0.9507\n",
      "Epoch 22/30\n",
      "8577/8577 [==============================] - 8s 971us/step - loss: 0.0564 - acc: 0.9769 - val_loss: 0.1902 - val_acc: 0.9538\n",
      "Epoch 23/30\n",
      "8577/8577 [==============================] - 8s 961us/step - loss: 0.0546 - acc: 0.9781 - val_loss: 0.1911 - val_acc: 0.9549\n",
      "Epoch 24/30\n",
      "8577/8577 [==============================] - 8s 961us/step - loss: 0.0565 - acc: 0.9787 - val_loss: 0.1622 - val_acc: 0.9559\n",
      "Epoch 25/30\n",
      "8577/8577 [==============================] - 10s 1ms/step - loss: 0.0504 - acc: 0.9789 - val_loss: 0.1815 - val_acc: 0.9591\n",
      "Epoch 26/30\n",
      "8577/8577 [==============================] - 10s 1ms/step - loss: 0.0588 - acc: 0.9769 - val_loss: 0.1633 - val_acc: 0.9570\n",
      "Epoch 27/30\n",
      "8577/8577 [==============================] - 10s 1ms/step - loss: 0.0462 - acc: 0.9824 - val_loss: 0.2310 - val_acc: 0.9454\n",
      "Epoch 28/30\n",
      "8577/8577 [==============================] - 10s 1ms/step - loss: 0.0595 - acc: 0.9774 - val_loss: 0.1647 - val_acc: 0.9559\n",
      "Epoch 29/30\n",
      "8577/8577 [==============================] - 9s 1ms/step - loss: 0.0606 - acc: 0.9773 - val_loss: 0.1714 - val_acc: 0.9538\n",
      "Epoch 30/30\n",
      "8577/8577 [==============================] - 8s 976us/step - loss: 0.0510 - acc: 0.9805 - val_loss: 0.1638 - val_acc: 0.9549\n"
     ]
    },
    {
     "data": {
      "text/plain": [
       "<keras.callbacks.History at 0x7fe9d90b7470>"
      ]
     },
     "execution_count": 178,
     "metadata": {},
     "output_type": "execute_result"
    }
   ],
   "source": [
    "\n",
    "\n",
    "blstm_model.fit(\n",
    "            x = X_train,\n",
    "            y = y_train,\n",
    "            batch_size = n_batch,\n",
    "            shuffle = True,\n",
    "            epochs = n_epoch,\n",
    "            validation_data = (X_test,y_test),\n",
    "            callbacks = [TensorBoard(log_dir = \"logs/blstm\")]\n",
    ")"
   ]
  },
  {
   "cell_type": "markdown",
   "metadata": {},
   "source": [
    "### 保存模型"
   ]
  },
  {
   "cell_type": "code",
   "execution_count": 180,
   "metadata": {
    "ExecuteTime": {
     "end_time": "2018-08-02T05:58:38.615670Z",
     "start_time": "2018-08-02T05:58:38.582406Z"
    }
   },
   "outputs": [],
   "source": [
    "blstm_model.save(\"model/blstm.h5\")"
   ]
  },
  {
   "cell_type": "markdown",
   "metadata": {},
   "source": [
    "# 评价"
   ]
  },
  {
   "cell_type": "markdown",
   "metadata": {},
   "source": [
    "## 载入模型及计算结果"
   ]
  },
  {
   "cell_type": "markdown",
   "metadata": {},
   "source": [
    "### 载入数据"
   ]
  },
  {
   "cell_type": "code",
   "execution_count": 291,
   "metadata": {
    "ExecuteTime": {
     "end_time": "2018-08-02T07:05:52.335789Z",
     "start_time": "2018-08-02T07:05:52.302025Z"
    }
   },
   "outputs": [],
   "source": [
    "data = np.load(\"data/data.npy\")\n",
    "target = np.load(\"data/target.npy\")"
   ]
  },
  {
   "cell_type": "code",
   "execution_count": 186,
   "metadata": {
    "ExecuteTime": {
     "end_time": "2018-08-02T06:04:36.401565Z",
     "start_time": "2018-08-02T06:04:36.379398Z"
    }
   },
   "outputs": [],
   "source": [
    "from sklearn.model_selection import train_test_split\n",
    "X_train, X_test, y_train, y_test  = train_test_split(data,target,shuffle = True,test_size = 0.1,random_state = 1)"
   ]
  },
  {
   "cell_type": "code",
   "execution_count": 288,
   "metadata": {
    "ExecuteTime": {
     "end_time": "2018-08-02T07:05:30.758545Z",
     "start_time": "2018-08-02T07:05:30.753731Z"
    }
   },
   "outputs": [],
   "source": [
    "def predict_data(X_train,X_test,model):\n",
    "    \"\"\"\n",
    "        预测\n",
    "        Return:\n",
    "            训练集预测概率，测试集预测概率，训练集预测类，测试集预测类\n",
    "    \"\"\"\n",
    "    model_train_prob = model.predict(X_train)\n",
    "    model_test_prob = model.predict(X_test)\n",
    "\n",
    "    model_train_class = (model_train_prob > 0.5).astype(int)\n",
    "    model_test_class = (model_test_prob > 0.5).astype(int)\n",
    "    \n",
    "    return model_train_prob,model_test_prob,model_train_class,model_test_class"
   ]
  },
  {
   "cell_type": "markdown",
   "metadata": {},
   "source": [
    "### DNN"
   ]
  },
  {
   "cell_type": "code",
   "execution_count": 292,
   "metadata": {
    "ExecuteTime": {
     "end_time": "2018-08-02T07:05:57.467331Z",
     "start_time": "2018-08-02T07:05:54.828000Z"
    }
   },
   "outputs": [
    {
     "data": {
      "text/plain": [
       "(9530, 175)"
      ]
     },
     "execution_count": 292,
     "metadata": {},
     "output_type": "execute_result"
    }
   ],
   "source": [
    "n_order = 30\n",
    "\n",
    "extract_data = extract_feature(data,n_order)\n",
    "extract_data.shape"
   ]
  },
  {
   "cell_type": "code",
   "execution_count": 293,
   "metadata": {
    "ExecuteTime": {
     "end_time": "2018-08-02T07:05:58.967898Z",
     "start_time": "2018-08-02T07:05:58.959441Z"
    }
   },
   "outputs": [],
   "source": [
    "X_train, X_test, y_train, y_test  = train_test_split(extract_data,target,shuffle = True,test_size = 0.1,random_state = 1)"
   ]
  },
  {
   "cell_type": "code",
   "execution_count": 294,
   "metadata": {
    "ExecuteTime": {
     "end_time": "2018-08-02T07:06:16.527714Z",
     "start_time": "2018-08-02T07:06:02.791225Z"
    }
   },
   "outputs": [],
   "source": [
    "from keras.models import load_model\n",
    "\n",
    "dnn_model = load_model(\"model/dnn.h5\")\n",
    "\n",
    "dnn_train_prob,dnn_test_prob,dnn_train_class,dnn_test_class = predict_data(X_train,X_test,dnn_model)"
   ]
  },
  {
   "cell_type": "markdown",
   "metadata": {},
   "source": [
    "### LSTM"
   ]
  },
  {
   "cell_type": "code",
   "execution_count": 295,
   "metadata": {
    "ExecuteTime": {
     "end_time": "2018-08-02T07:06:17.386244Z",
     "start_time": "2018-08-02T07:06:17.382874Z"
    }
   },
   "outputs": [
    {
     "name": "stdout",
     "output_type": "stream",
     "text": [
      "Data shape : (9530, 750)         target shape : (9530,)\n",
      "变换后 Data Shape: (9530, 30, 25)\n"
     ]
    }
   ],
   "source": [
    "print(\"Data shape : {}         target shape : {}\".format(data.shape,target.shape))\n",
    "data.shape = (data.shape[0],n_order,-1)\n",
    "print(\"变换后 Data Shape: {}\".format(data.shape))"
   ]
  },
  {
   "cell_type": "code",
   "execution_count": 296,
   "metadata": {
    "ExecuteTime": {
     "end_time": "2018-08-02T07:06:24.809513Z",
     "start_time": "2018-08-02T07:06:24.777712Z"
    }
   },
   "outputs": [],
   "source": [
    "from sklearn.model_selection import train_test_split\n",
    "X_train, X_test, y_train, y_test  = train_test_split(data,target,shuffle = True,test_size = 0.1,random_state = 1)"
   ]
  },
  {
   "cell_type": "code",
   "execution_count": 222,
   "metadata": {
    "ExecuteTime": {
     "end_time": "2018-08-02T06:34:50.057803Z",
     "start_time": "2018-08-02T06:34:39.052642Z"
    }
   },
   "outputs": [],
   "source": [
    "from keras.models import load_model\n",
    "\n",
    "lstm_model = load_model(\"model/lstm.h5\")"
   ]
  },
  {
   "cell_type": "code",
   "execution_count": 297,
   "metadata": {
    "ExecuteTime": {
     "end_time": "2018-08-02T07:06:29.957091Z",
     "start_time": "2018-08-02T07:06:28.150740Z"
    }
   },
   "outputs": [],
   "source": [
    "lstm_train_prob,lstm_test_prob,lstm_train_class,lstm_test_class = predict_data(\n",
    "                                                                    X_train = X_train,\n",
    "                                                                    X_test = X_test,\n",
    "                                                                    model = lstm_model)"
   ]
  },
  {
   "cell_type": "markdown",
   "metadata": {},
   "source": [
    "### BLSTM"
   ]
  },
  {
   "cell_type": "code",
   "execution_count": 227,
   "metadata": {
    "ExecuteTime": {
     "end_time": "2018-08-02T06:36:51.333527Z",
     "start_time": "2018-08-02T06:36:51.326739Z"
    }
   },
   "outputs": [
    {
     "name": "stdout",
     "output_type": "stream",
     "text": [
      "Data shape : (9530, 30, 25)         target shape : (9530,)\n",
      "变换后 Data Shape: (9530, 30, 25)\n"
     ]
    }
   ],
   "source": [
    "print(\"Data shape : {}         target shape : {}\".format(data.shape,target.shape))\n",
    "data.shape = (data.shape[0],n_order,-1)\n",
    "print(\"变换后 Data Shape: {}\".format(data.shape))"
   ]
  },
  {
   "cell_type": "code",
   "execution_count": 228,
   "metadata": {
    "ExecuteTime": {
     "end_time": "2018-08-02T06:37:00.905359Z",
     "start_time": "2018-08-02T06:37:00.870082Z"
    }
   },
   "outputs": [],
   "source": [
    "from sklearn.model_selection import train_test_split\n",
    "X_train, X_test, y_train, y_test  = train_test_split(data,target,shuffle = True,test_size = 0.1,random_state = 1)"
   ]
  },
  {
   "cell_type": "code",
   "execution_count": 229,
   "metadata": {
    "ExecuteTime": {
     "end_time": "2018-08-02T06:38:06.081801Z",
     "start_time": "2018-08-02T06:37:53.095996Z"
    }
   },
   "outputs": [],
   "source": [
    "from keras.models import load_model\n",
    "\n",
    "blstm_model = load_model(\"model/blstm.h5\")"
   ]
  },
  {
   "cell_type": "code",
   "execution_count": 298,
   "metadata": {
    "ExecuteTime": {
     "end_time": "2018-08-02T07:06:43.415161Z",
     "start_time": "2018-08-02T07:06:39.521718Z"
    }
   },
   "outputs": [],
   "source": [
    "blstm_train_prob,blstm_test_prob,blstm_train_class,blstm_test_class = predict_data(\n",
    "                                                                    X_train = X_train,\n",
    "                                                                    X_test = X_test,\n",
    "                                                                    model = blstm_model)"
   ]
  },
  {
   "cell_type": "markdown",
   "metadata": {},
   "source": [
    "## 混淆矩阵（测试集）"
   ]
  },
  {
   "cell_type": "code",
   "execution_count": 262,
   "metadata": {
    "ExecuteTime": {
     "end_time": "2018-08-02T06:55:35.240334Z",
     "start_time": "2018-08-02T06:55:35.232755Z"
    }
   },
   "outputs": [],
   "source": [
    "import seaborn as sns\n",
    "\n",
    "def plot_confu_matrix(cm,title = \"Confusion Matrix\",cmap = plt.cm.Blues):\n",
    "    \"\"\"\n",
    "        绘制混淆矩阵\n",
    "    \"\"\"\n",
    "    sns.set_style(\"dark\")\n",
    "#     cm = metrics.confusion_matrix(\n",
    "#                 dnn_y_test,dnn_pred.argmax(axis = 1))\n",
    "    plt.figure(figsize = (6,6))\n",
    "    plt.imshow(cm,interpolation = \"nearest\",\\\n",
    "                            cmap = cmap)\n",
    "    plt.colorbar()\n",
    "    \n",
    "    plt.xticks((0,1),[\"UnDamage\",\"Damage\"])\n",
    "    plt.yticks((0,1),[\"UnDamage\",\"Damage\"])\n",
    "    \n",
    "    thresh = cm.max() / 2\n",
    "    for i in range(cm.shape[0]):\n",
    "        for j in range(cm.shape[1]):\n",
    "                   plt.text(i,j,cm[i,j],\n",
    "                   horizontalalignment=\"center\",\n",
    "                   color=\"white\" if cm[i, j] > thresh else \"black\")\n",
    "    plt.title(title)\n",
    "    \n",
    "    plt.tight_layout()\n",
    "    plt.ylabel('True label')\n",
    "    plt.xlabel('Predicted label')"
   ]
  },
  {
   "cell_type": "markdown",
   "metadata": {},
   "source": [
    "### DNN"
   ]
  },
  {
   "cell_type": "code",
   "execution_count": 233,
   "metadata": {
    "ExecuteTime": {
     "end_time": "2018-08-02T06:41:52.794421Z",
     "start_time": "2018-08-02T06:41:52.779286Z"
    }
   },
   "outputs": [],
   "source": [
    "X_train, X_test, y_train, y_test  = train_test_split(extract_data,target,shuffle = True,test_size = 0.1,random_state = 1)"
   ]
  },
  {
   "cell_type": "code",
   "execution_count": 257,
   "metadata": {
    "ExecuteTime": {
     "end_time": "2018-08-02T06:52:35.361042Z",
     "start_time": "2018-08-02T06:52:35.140633Z"
    }
   },
   "outputs": [
    {
     "data": {
      "image/png": "[encoded data removed]",
      "text/plain": [
       "<Figure size 432x432 with 2 Axes>"
      ]
     },
     "metadata": {},
     "output_type": "display_data"
    }
   ],
   "source": [
    "from sklearn.metrics import confusion_matrix\n",
    "\n",
    "\n",
    "c_matrix = confusion_matrix(y_true = y_test,y_pred = dnn_test_class,labels = [0,1])\n",
    "\n",
    "plot_confu_matrix(c_matrix,\"DNN Confusion Matrix\")"
   ]
  },
  {
   "cell_type": "markdown",
   "metadata": {},
   "source": [
    "### LSTM"
   ]
  },
  {
   "cell_type": "code",
   "execution_count": 259,
   "metadata": {
    "ExecuteTime": {
     "end_time": "2018-08-02T06:53:49.865187Z",
     "start_time": "2018-08-02T06:53:49.829423Z"
    }
   },
   "outputs": [],
   "source": [
    "from sklearn.model_selection import train_test_split\n",
    "X_train, X_test, y_train, y_test  = train_test_split(data,target,shuffle = True,test_size = 0.1,random_state = 1)"
   ]
  },
  {
   "cell_type": "code",
   "execution_count": 275,
   "metadata": {
    "ExecuteTime": {
     "end_time": "2018-08-02T06:58:55.695115Z",
     "start_time": "2018-08-02T06:58:55.467079Z"
    }
   },
   "outputs": [
    {
     "data": {
      "image/png": "[encoded data removed]",
      "text/plain": [
       "<Figure size 432x432 with 2 Axes>"
      ]
     },
     "metadata": {},
     "output_type": "display_data"
    }
   ],
   "source": [
    "c_matrix = confusion_matrix(y_true = y_test,y_pred = lstm_test_class,labels = [0,1])\n",
    "\n",
    "plot_confu_matrix(c_matrix,\"LSTM Confusion Matrix\",cmap = plt.cm.Pastel1)"
   ]
  },
  {
   "cell_type": "markdown",
   "metadata": {},
   "source": [
    "### BLSTM"
   ]
  },
  {
   "cell_type": "code",
   "execution_count": 265,
   "metadata": {
    "ExecuteTime": {
     "end_time": "2018-08-02T06:56:37.141860Z",
     "start_time": "2018-08-02T06:56:37.105574Z"
    }
   },
   "outputs": [],
   "source": [
    "from sklearn.model_selection import train_test_split\n",
    "X_train, X_test, y_train, y_test  = train_test_split(data,target,shuffle = True,test_size = 0.1,random_state = 1)"
   ]
  },
  {
   "cell_type": "code",
   "execution_count": 270,
   "metadata": {
    "ExecuteTime": {
     "end_time": "2018-08-02T06:57:50.286758Z",
     "start_time": "2018-08-02T06:57:50.091500Z"
    }
   },
   "outputs": [
    {
     "data": {
      "image/png": "[encoded data removed]",
      "text/plain": [
       "<Figure size 432x432 with 2 Axes>"
      ]
     },
     "metadata": {},
     "output_type": "display_data"
    }
   ],
   "source": [
    "c_matrix = confusion_matrix(y_true = y_test,y_pred = blstm_test_class,labels = [0,1])\n",
    "\n",
    "plot_confu_matrix(c_matrix,\"BLSTM Confusion Matrix\",cmap = plt.cm.Dark2)"
   ]
  },
  {
   "cell_type": "markdown",
   "metadata": {},
   "source": [
    "## Accuracy"
   ]
  },
  {
   "cell_type": "code",
   "execution_count": 276,
   "metadata": {
    "ExecuteTime": {
     "end_time": "2018-08-02T06:59:48.388277Z",
     "start_time": "2018-08-02T06:59:48.382653Z"
    }
   },
   "outputs": [],
   "source": [
    "from sklearn.metrics import accuracy_score\n",
    "\n"
   ]
  },
  {
   "cell_type": "markdown",
   "metadata": {},
   "source": [
    "### DNN"
   ]
  },
  {
   "cell_type": "code",
   "execution_count": 283,
   "metadata": {
    "ExecuteTime": {
     "end_time": "2018-08-02T07:03:23.777701Z",
     "start_time": "2018-08-02T07:03:23.767121Z"
    }
   },
   "outputs": [],
   "source": [
    "X_train, X_test, y_train, y_test  = train_test_split(extract_data,target,shuffle = True,test_size = 0.1,random_state = 1)"
   ]
  },
  {
   "cell_type": "code",
   "execution_count": 299,
   "metadata": {
    "ExecuteTime": {
     "end_time": "2018-08-02T07:06:46.092970Z",
     "start_time": "2018-08-02T07:06:46.086817Z"
    }
   },
   "outputs": [],
   "source": [
    "dnn_train_acc = accuracy_score(y_true = y_train,y_pred = dnn_train_class)\n",
    "dnn_test_acc = accuracy_score(y_true = y_test,y_pred = dnn_test_class)"
   ]
  },
  {
   "cell_type": "markdown",
   "metadata": {},
   "source": [
    "### LSTM"
   ]
  },
  {
   "cell_type": "code",
   "execution_count": 300,
   "metadata": {
    "ExecuteTime": {
     "end_time": "2018-08-02T07:07:07.504649Z",
     "start_time": "2018-08-02T07:07:07.474443Z"
    }
   },
   "outputs": [],
   "source": [
    "from sklearn.model_selection import train_test_split\n",
    "X_train, X_test, y_train, y_test  = train_test_split(data,target,shuffle = True,test_size = 0.1,random_state = 1)"
   ]
  },
  {
   "cell_type": "code",
   "execution_count": 301,
   "metadata": {
    "ExecuteTime": {
     "end_time": "2018-08-02T07:07:42.084620Z",
     "start_time": "2018-08-02T07:07:42.079773Z"
    }
   },
   "outputs": [],
   "source": [
    "lstm_train_acc = accuracy_score(y_true = y_train,y_pred = lstm_train_class)\n",
    "lstm_test_acc = accuracy_score(y_true = y_test,y_pred = lstm_test_class)"
   ]
  },
  {
   "cell_type": "markdown",
   "metadata": {},
   "source": [
    "### BLSTM"
   ]
  },
  {
   "cell_type": "code",
   "execution_count": null,
   "metadata": {},
   "outputs": [],
   "source": [
    "from sklearn.model_selection import train_test_split\n",
    "X_train, X_test, y_train, y_test  = train_test_split(data,target,shuffle = True,test_size = 0.1,random_state = 1)"
   ]
  },
  {
   "cell_type": "code",
   "execution_count": 302,
   "metadata": {
    "ExecuteTime": {
     "end_time": "2018-08-02T07:08:24.702702Z",
     "start_time": "2018-08-02T07:08:24.696607Z"
    }
   },
   "outputs": [],
   "source": [
    "blstm_train_acc = accuracy_score(y_true = y_train,y_pred = blstm_train_class)\n",
    "blstm_test_acc = accuracy_score(y_true = y_test,y_pred = blstm_test_class)"
   ]
  },
  {
   "cell_type": "markdown",
   "metadata": {},
   "source": [
    "### 画图"
   ]
  },
  {
   "cell_type": "code",
   "execution_count": 333,
   "metadata": {
    "ExecuteTime": {
     "end_time": "2018-08-02T07:26:21.893354Z",
     "start_time": "2018-08-02T07:26:21.883427Z"
    }
   },
   "outputs": [
    {
     "data": {
      "text/html": [
       "<div>\n",
       "<style scoped>\n",
       "    .dataframe tbody tr th:only-of-type {\n",
       "        vertical-align: middle;\n",
       "    }\n",
       "\n",
       "    .dataframe tbody tr th {\n",
       "        vertical-align: top;\n",
       "    }\n",
       "\n",
       "    .dataframe thead th {\n",
       "        text-align: right;\n",
       "    }\n",
       "</style>\n",
       "<table border=\"1\" class=\"dataframe\">\n",
       "  <thead>\n",
       "    <tr style=\"text-align: right;\">\n",
       "      <th></th>\n",
       "      <th>Accuracy</th>\n",
       "    </tr>\n",
       "  </thead>\n",
       "  <tbody>\n",
       "    <tr>\n",
       "      <th>DNN Train</th>\n",
       "      <td>0.970036</td>\n",
       "    </tr>\n",
       "    <tr>\n",
       "      <th>DNN Test</th>\n",
       "      <td>0.793284</td>\n",
       "    </tr>\n",
       "    <tr>\n",
       "      <th>LSTM Train</th>\n",
       "      <td>0.977148</td>\n",
       "    </tr>\n",
       "    <tr>\n",
       "      <th>LSTM Test</th>\n",
       "      <td>0.937041</td>\n",
       "    </tr>\n",
       "    <tr>\n",
       "      <th>BLSTM Train</th>\n",
       "      <td>1.000000</td>\n",
       "    </tr>\n",
       "    <tr>\n",
       "      <th>BLSTM Test</th>\n",
       "      <td>0.954879</td>\n",
       "    </tr>\n",
       "  </tbody>\n",
       "</table>\n",
       "</div>"
      ],
      "text/plain": [
       "             Accuracy\n",
       "DNN Train    0.970036\n",
       "DNN Test     0.793284\n",
       "LSTM Train   0.977148\n",
       "LSTM Test    0.937041\n",
       "BLSTM Train  1.000000\n",
       "BLSTM Test   0.954879"
      ]
     },
     "execution_count": 333,
     "metadata": {},
     "output_type": "execute_result"
    }
   ],
   "source": [
    "import seaborn as sns\n",
    "acc = [dnn_train_acc,dnn_test_acc,lstm_train_acc,lstm_test_acc,blstm_train_acc,blstm_test_acc]\n",
    "acc = pd.DataFrame(acc)\n",
    "acc.columns = [\"Accuracy\"]\n",
    "acc.index = [\"DNN Train\",\"DNN Test\",\"LSTM Train\",\"LSTM Test\",\"BLSTM Train\",\"BLSTM Test\"]\n",
    "acc"
   ]
  },
  {
   "cell_type": "code",
   "execution_count": 334,
   "metadata": {
    "ExecuteTime": {
     "end_time": "2018-08-02T07:26:24.508375Z",
     "start_time": "2018-08-02T07:26:24.295123Z"
    }
   },
   "outputs": [
    {
     "data": {
      "text/plain": [
       "<matplotlib.axes._subplots.AxesSubplot at 0x7fe9d83ad8d0>"
      ]
     },
     "execution_count": 334,
     "metadata": {},
     "output_type": "execute_result"
    },
    {
     "data": {
      "image/png": "[encoded data removed]",
      "text/plain": [
       "<Figure size 720x432 with 1 Axes>"
      ]
     },
     "metadata": {},
     "output_type": "display_data"
    }
   ],
   "source": [
    "plt.figure(figsize = (10,6))\n",
    "sns.set_style(\"darkgrid\")\n",
    "\n",
    "sns.barplot(y = \"Accuracy\",x = acc.index,data =  acc,palette = sns.color_palette(\"muted\"))"
   ]
  },
  {
   "cell_type": "markdown",
   "metadata": {},
   "source": [
    "## ROC"
   ]
  },
  {
   "cell_type": "markdown",
   "metadata": {},
   "source": [
    "### DNN"
   ]
  },
  {
   "cell_type": "code",
   "execution_count": 359,
   "metadata": {
    "ExecuteTime": {
     "end_time": "2018-08-02T07:48:29.902378Z",
     "start_time": "2018-08-02T07:48:29.887911Z"
    }
   },
   "outputs": [],
   "source": [
    "X_train, X_test, y_train, y_test  = train_test_split(extract_data,target,shuffle = True,test_size = 0.1,random_state = 1)"
   ]
  },
  {
   "cell_type": "code",
   "execution_count": 362,
   "metadata": {
    "ExecuteTime": {
     "end_time": "2018-08-02T07:50:15.702880Z",
     "start_time": "2018-08-02T07:50:15.692157Z"
    }
   },
   "outputs": [],
   "source": [
    "from sklearn.metrics import roc_curve\n",
    "from sklearn.metrics import auc\n",
    "from sklearn.metrics import roc_auc_score\n",
    "\n",
    "dnn_train_roc = roc_curve(y_true = y_train,y_score = dnn_train_prob)\n",
    "dnn_test_roc = roc_curve(y_true = y_test,y_score = dnn_test_prob)\n",
    "\n",
    "dnn_train_auc = roc_auc_score(y_true = y_train,y_score = dnn_train_prob)\n",
    "dnn_test_auc = roc_auc_score(y_true = y_test,y_score = dnn_test_prob)"
   ]
  },
  {
   "cell_type": "markdown",
   "metadata": {},
   "source": [
    "### LSTM"
   ]
  },
  {
   "cell_type": "code",
   "execution_count": 363,
   "metadata": {
    "ExecuteTime": {
     "end_time": "2018-08-02T07:50:31.632042Z",
     "start_time": "2018-08-02T07:50:31.604516Z"
    }
   },
   "outputs": [],
   "source": [
    "from sklearn.model_selection import train_test_split\n",
    "X_train, X_test, y_train, y_test  = train_test_split(data,target,shuffle = True,test_size = 0.1,random_state = 1)"
   ]
  },
  {
   "cell_type": "code",
   "execution_count": 364,
   "metadata": {
    "ExecuteTime": {
     "end_time": "2018-08-02T07:50:47.030315Z",
     "start_time": "2018-08-02T07:50:47.019277Z"
    }
   },
   "outputs": [],
   "source": [
    "lstm_train_roc = roc_curve(y_true = y_train,y_score = lstm_train_prob)\n",
    "lstm_test_roc = roc_curve(y_true = y_test,y_score = lstm_test_prob)\n",
    "\n",
    "lstm_train_auc = roc_auc_score(y_true = y_train,y_score = lstm_train_prob)\n",
    "lstm_test_auc = roc_auc_score(y_true = y_test,y_score = lstm_test_prob)"
   ]
  },
  {
   "cell_type": "markdown",
   "metadata": {},
   "source": [
    "### BLSTM"
   ]
  },
  {
   "cell_type": "code",
   "execution_count": 341,
   "metadata": {
    "ExecuteTime": {
     "end_time": "2018-08-02T07:32:53.546145Z",
     "start_time": "2018-08-02T07:32:53.514518Z"
    }
   },
   "outputs": [],
   "source": [
    "from sklearn.model_selection import train_test_split\n",
    "X_train, X_test, y_train, y_test  = train_test_split(data,target,shuffle = True,test_size = 0.1,random_state = 1)"
   ]
  },
  {
   "cell_type": "code",
   "execution_count": 365,
   "metadata": {
    "ExecuteTime": {
     "end_time": "2018-08-02T07:51:09.450320Z",
     "start_time": "2018-08-02T07:51:09.442432Z"
    }
   },
   "outputs": [],
   "source": [
    "blstm_train_roc = roc_curve(y_true = y_train,y_score = blstm_train_prob)\n",
    "blstm_test_roc = roc_curve(y_true = y_test,y_score = blstm_test_prob)\n",
    "\n",
    "blstm_train_auc = roc_auc_score(y_true = y_train,y_score = blstm_train_prob)\n",
    "blstm_test_auc = roc_auc_score(y_true = y_test,y_score = blstm_test_prob)"
   ]
  },
  {
   "cell_type": "markdown",
   "metadata": {},
   "source": [
    "### 画图"
   ]
  },
  {
   "cell_type": "code",
   "execution_count": 357,
   "metadata": {
    "ExecuteTime": {
     "end_time": "2018-08-02T07:45:12.338010Z",
     "start_time": "2018-08-02T07:45:12.041998Z"
    }
   },
   "outputs": [
    {
     "data": {
      "text/plain": [
       "<matplotlib.legend.Legend at 0x7fe9d7a5f518>"
      ]
     },
     "execution_count": 357,
     "metadata": {},
     "output_type": "execute_result"
    },
    {
     "data": {
      "image/png": "[encoded data removed]",
      "text/plain": [
       "<Figure size 720x432 with 1 Axes>"
      ]
     },
     "metadata": {},
     "output_type": "display_data"
    }
   ],
   "source": [
    "plt.figure(figsize = (10,6))\n",
    "plt.title(\"ROC Of Classifier\")\n",
    "\n",
    "plt.plot(dnn_train_roc[0],dnn_train_roc[1],label = \"DNN Train\")\n",
    "plt.plot(dnn_test_roc[0],dnn_test_roc[1],label = \"DNN Test\")\n",
    "\n",
    "plt.plot(lstm_train_roc[0],lstm_train_roc[1],label = \"LSTM Train\")\n",
    "plt.plot(lstm_test_roc[0],lstm_test_roc[1],label = \"LSTM Test\")\n",
    "\n",
    "plt.plot(blstm_train_roc[0],blstm_train_roc[1],label = \"BLSTM Test\")\n",
    "plt.plot(blstm_test_roc[0],blstm_test_roc[1],label = \"BLSTM Test\")\n",
    "\n",
    "plt.plot([0,1],\"--\")\n",
    "plt.xlabel(\"False Positive Rate\")\n",
    "plt.ylabel(\"True Positive Rate\")\n",
    "\n",
    "plt.legend()"
   ]
  },
  {
   "cell_type": "markdown",
   "metadata": {},
   "source": [
    "## AUC"
   ]
  },
  {
   "cell_type": "code",
   "execution_count": 395,
   "metadata": {
    "ExecuteTime": {
     "end_time": "2018-08-02T08:05:37.321801Z",
     "start_time": "2018-08-02T08:05:37.309769Z"
    }
   },
   "outputs": [
    {
     "data": {
      "text/html": [
       "<div>\n",
       "<style scoped>\n",
       "    .dataframe tbody tr th:only-of-type {\n",
       "        vertical-align: middle;\n",
       "    }\n",
       "\n",
       "    .dataframe tbody tr th {\n",
       "        vertical-align: top;\n",
       "    }\n",
       "\n",
       "    .dataframe thead th {\n",
       "        text-align: right;\n",
       "    }\n",
       "</style>\n",
       "<table border=\"1\" class=\"dataframe\">\n",
       "  <thead>\n",
       "    <tr style=\"text-align: right;\">\n",
       "      <th></th>\n",
       "      <th>Train</th>\n",
       "      <th>Test</th>\n",
       "    </tr>\n",
       "  </thead>\n",
       "  <tbody>\n",
       "    <tr>\n",
       "      <th>DNN</th>\n",
       "      <td>0.998445</td>\n",
       "      <td>0.876572</td>\n",
       "    </tr>\n",
       "    <tr>\n",
       "      <th>LSTM</th>\n",
       "      <td>0.998675</td>\n",
       "      <td>0.984489</td>\n",
       "    </tr>\n",
       "    <tr>\n",
       "      <th>BLSTM</th>\n",
       "      <td>1.000000</td>\n",
       "      <td>0.992853</td>\n",
       "    </tr>\n",
       "  </tbody>\n",
       "</table>\n",
       "</div>"
      ],
      "text/plain": [
       "          Train      Test\n",
       "DNN    0.998445  0.876572\n",
       "LSTM   0.998675  0.984489\n",
       "BLSTM  1.000000  0.992853"
      ]
     },
     "execution_count": 395,
     "metadata": {},
     "output_type": "execute_result"
    }
   ],
   "source": [
    "aucs = [[dnn_train_auc,dnn_test_auc],\n",
    "        [lstm_train_auc,lstm_test_auc],\n",
    "        [blstm_train_auc,blstm_test_auc]\n",
    "       ]\n",
    "auc_df = pd.DataFrame(aucs,index = [\"DNN\",\"LSTM\",\"BLSTM\"],columns = [\"Train\",\"Test\"])\n",
    "\n",
    "auc_df"
   ]
  },
  {
   "cell_type": "code",
   "execution_count": 434,
   "metadata": {
    "ExecuteTime": {
     "end_time": "2018-08-02T08:19:54.131322Z",
     "start_time": "2018-08-02T08:19:53.845147Z"
    }
   },
   "outputs": [
    {
     "data": {
      "text/plain": [
       "<matplotlib.axes._subplots.AxesSubplot at 0x7fe9d6a38908>"
      ]
     },
     "execution_count": 434,
     "metadata": {},
     "output_type": "execute_result"
    },
    {
     "data": {
      "image/png": "[encoded data removed]",
      "text/plain": [
       "<Figure size 1080x576 with 1 Axes>"
      ]
     },
     "metadata": {},
     "output_type": "display_data"
    }
   ],
   "source": [
    "import seaborn as sns\n",
    "\n",
    "sns.set_style(\"darkgrid\")\n",
    "sns.set_palette(sns.color_palette(\"muted\"))\n",
    "\n",
    "auc_df.plot(kind = \"bar\",grid = True,figsize = (15,8))"
   ]
  }
 ],
 "metadata": {
  "celltoolbar": "Initialization Cell",
  "kernelspec": {
   "display_name": "Python 3",
   "language": "python",
   "name": "python3"
  },
  "language_info": {
   "codemirror_mode": {
    "name": "ipython",
    "version": 3
   },
   "file_extension": ".py",
   "mimetype": "text/x-python",
   "name": "python",
   "nbconvert_exporter": "python",
   "pygments_lexer": "ipython3",
   "version": "3.6.6"
  },
  "toc": {
   "base_numbering": 1,
   "nav_menu": {},
   "number_sections": true,
   "sideBar": true,
   "skip_h1_title": false,
   "title_cell": "Table of Contents",
   "title_sidebar": "Contents",
   "toc_cell": true,
   "toc_position": {
    "height": "calc(100% - 180px)",
    "left": "10px",
    "top": "150px",
    "width": "413px"
   },
   "toc_section_display": true,
   "toc_window_display": true
  },
  "varInspector": {
   "cols": {
    "lenName": 16,
    "lenType": 16,
    "lenVar": 40
   },
   "kernels_config": {
    "python": {
     "delete_cmd_postfix": "",
     "delete_cmd_prefix": "del ",
     "library": "var_list.py",
     "varRefreshCmd": "print(var_dic_list())"
    },
    "r": {
     "delete_cmd_postfix": ") ",
     "delete_cmd_prefix": "rm(",
     "library": "var_list.r",
     "varRefreshCmd": "cat(var_dic_list()) "
    }
   },
   "types_to_exclude": [
    "module",
    "function",
    "builtin_function_or_method",
    "instance",
    "_Feature"
   ],
   "window_display": false
  }
 },
 "nbformat": 4,
 "nbformat_minor": 2
}
